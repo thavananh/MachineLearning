{
 "cells": [
  {
   "cell_type": "code",
   "id": "initial_id",
   "metadata": {
    "collapsed": true,
    "ExecuteTime": {
     "end_time": "2024-07-04T20:02:57.623896Z",
     "start_time": "2024-07-04T20:02:57.620301Z"
    }
   },
   "source": [
    "import datetime\n",
    "import pandas as pd\n",
    "from sklearn import preprocessing, model_selection, svm\n",
    "from sklearn.linear_model import LinearRegression\n",
    "import numpy as np\n",
    "import pickle\n",
    "import matplotlib\n",
    "import matplotlib.pyplot   as plt\n",
    "from matplotlib import style\n",
    "style.use('ggplot')\n",
    "matplotlib.use('TkAgg')\n",
    "import sqlite3"
   ],
   "outputs": [],
   "execution_count": 323
  },
  {
   "metadata": {
    "ExecuteTime": {
     "end_time": "2024-07-04T20:02:57.673170Z",
     "start_time": "2024-07-04T20:02:57.669952Z"
    }
   },
   "cell_type": "code",
   "source": [
    "def query_db(db_name = 'QuanLyPhongGym.db', table_name ='DOANHTHU'):\n",
    "    conn = sqlite3.connect(db_name)\n",
    "    cursor = conn.cursor()\n",
    "    \n",
    "    query = f\"SELECT TIENTHU, NGAYTONGKETDOANHTHU, DOANHTHUGOITAP, DOANHTHUBANSANPHAM FROM {table_name}\"\n",
    "    cursor.execute(query)\n",
    "    \n",
    "    result = cursor.fetchall()\n",
    "    conn.close()\n",
    "    return result"
   ],
   "id": "dd4820924561863c",
   "outputs": [],
   "execution_count": 324
  },
  {
   "metadata": {
    "ExecuteTime": {
     "end_time": "2024-07-04T20:02:57.685170Z",
     "start_time": "2024-07-04T20:02:57.674500Z"
    }
   },
   "cell_type": "code",
   "source": [
    "data = query_db()\n",
    "columns = ['TIENTHU', 'NGAYTONGKETDOANHTHU', 'DOANHTHUGOITAP', 'DOANHTHUBANSANPHAM']\n",
    "df = pd.DataFrame(data, columns=columns)\n",
    "print(df)"
   ],
   "id": "42a0816ec5cb2c4a",
   "outputs": [
    {
     "name": "stdout",
     "output_type": "stream",
     "text": [
      "        TIENTHU NGAYTONGKETDOANHTHU  DOANHTHUGOITAP  DOANHTHUBANSANPHAM\n",
      "0     750524295          2020-01-01       486457177           264067118\n",
      "1     186833078          2020-01-02        44698650           142134428\n",
      "2     854951836          2020-01-03       529744140           325207696\n",
      "3     341047488          2020-01-04       148887348           192160140\n",
      "4     280496762          2020-01-05        38357113           242139649\n",
      "...         ...                 ...             ...                 ...\n",
      "1642  503196357          2024-06-30       402140052           101056305\n",
      "1643  737522220          2024-07-01       620364112           117158108\n",
      "1644  855905929          2024-07-02       747909243           107996686\n",
      "1645  842402115          2024-07-03       746483641            95918474\n",
      "1646  555159585          2024-07-04       312042751           243116834\n",
      "\n",
      "[1647 rows x 4 columns]\n"
     ]
    }
   ],
   "execution_count": 325
  },
  {
   "metadata": {
    "ExecuteTime": {
     "end_time": "2024-07-04T20:02:57.690782Z",
     "start_time": "2024-07-04T20:02:57.686307Z"
    }
   },
   "cell_type": "code",
   "source": "print(df.head())",
   "id": "7439c6cc043e224c",
   "outputs": [
    {
     "name": "stdout",
     "output_type": "stream",
     "text": [
      "     TIENTHU NGAYTONGKETDOANHTHU  DOANHTHUGOITAP  DOANHTHUBANSANPHAM\n",
      "0  750524295          2020-01-01       486457177           264067118\n",
      "1  186833078          2020-01-02        44698650           142134428\n",
      "2  854951836          2020-01-03       529744140           325207696\n",
      "3  341047488          2020-01-04       148887348           192160140\n",
      "4  280496762          2020-01-05        38357113           242139649\n"
     ]
    }
   ],
   "execution_count": 326
  },
  {
   "metadata": {
    "ExecuteTime": {
     "end_time": "2024-07-04T20:02:57.712161Z",
     "start_time": "2024-07-04T20:02:57.692017Z"
    }
   },
   "cell_type": "code",
   "source": [
    "import math\n",
    "import pandas as pd\n",
    "import numpy as np\n",
    "from sklearn import preprocessing, model_selection\n",
    "from sklearn.linear_model import LinearRegression\n",
    "from sklearn.metrics import mean_squared_error, r2_score\n",
    "import sqlite3\n",
    "\n",
    "# Kết nối và lấy dữ liệu từ cơ sở dữ liệu\n",
    "def query_db(db_name='QuanLyPhongGym.db', table_name='DOANHTHU'):\n",
    "    conn = sqlite3.connect(db_name)\n",
    "    cursor = conn.cursor()\n",
    "    \n",
    "    query = f\"SELECT TIENTHU, NGAYTONGKETDOANHTHU, DOANHTHUGOITAP, DOANHTHUBANSANPHAM FROM {table_name}\"\n",
    "    cursor.execute(query)\n",
    "    \n",
    "    result = cursor.fetchall()\n",
    "    conn.close()\n",
    "    return result\n",
    "\n",
    "# Lấy dữ liệu từ cơ sở dữ liệu\n",
    "df = pd.DataFrame(query_db(), columns=['TIENTHU', 'NGAYTONGKETDOANHTHU', 'DOANHTHUGOITAP', 'DOANHTHUBANSANPHAM'])\n",
    "\n",
    "# Chuẩn bị dữ liệu\n",
    "df = df[['TIENTHU', 'DOANHTHUGOITAP', 'DOANHTHUGOITAP']]\n",
    "df.fillna(-99999, inplace=True)\n",
    "\n",
    "forecast_out = int(math.ceil(0.01 * len(df)))\n",
    "print(forecast_out)\n",
    "\n",
    "df['label'] = df['TIENTHU'].shift(-forecast_out)\n",
    "X = np.array(df.drop(['label'], axis=1))\n",
    "\n",
    "# Sử dụng MinMaxScaler để chuẩn hóa dữ liệu\n",
    "scaler = preprocessing.MinMaxScaler()\n",
    "X = scaler.fit_transform(X)\n",
    "\n",
    "# Loại bỏ các hàng cuối cùng từ X để phù hợp với nhãn y đã được dịch chuyển\n",
    "X = X[:-forecast_out]\n",
    "df.dropna(inplace=True)\n",
    "\n",
    "# Tạo lại nhãn y\n",
    "y = np.array(df['label'])\n",
    "\n",
    "# Chia dữ liệu thành tập huấn luyện và tập kiểm tra\n",
    "X_train, X_test, y_train, y_test = model_selection.train_test_split(X, y, test_size=0.2)\n",
    "\n",
    "# Xây dựng và huấn luyện mô hình hồi quy tuyến tính\n",
    "clf = LinearRegression(n_jobs=-1)\n",
    "clf.fit(X_train, y_train)\n",
    "\n",
    "# Dự đoán trên tập kiểm tra\n",
    "y_pred = clf.predict(X_test)\n",
    "\n",
    "# Đánh giá mô hình\n",
    "mse = mean_squared_error(y_test, y_pred)\n",
    "r2 = r2_score(y_test, y_pred)\n",
    "\n",
    "print(f\"Mean Squared Error: {mse}\")\n",
    "print(f\"R^2 Score: {r2}\")\n",
    "\n",
    "accuracy = clf.score(X_test, y_test)\n",
    "print(f\"Độ chính xác: {accuracy}\")\n"
   ],
   "id": "c88ed47bc6f462f9",
   "outputs": [
    {
     "name": "stdout",
     "output_type": "stream",
     "text": [
      "17\n",
      "Mean Squared Error: 7.081595385125047e+16\n",
      "R^2 Score: 0.0030278723293079013\n",
      "Độ chính xác: 0.0030278723293079013\n"
     ]
    }
   ],
   "execution_count": 327
  },
  {
   "metadata": {
    "ExecuteTime": {
     "end_time": "2024-07-04T20:02:57.755814Z",
     "start_time": "2024-07-04T20:02:57.753690Z"
    }
   },
   "cell_type": "code",
   "source": "",
   "id": "64b2e0d3ce9dfce7",
   "outputs": [],
   "execution_count": 327
  }
 ],
 "metadata": {
  "kernelspec": {
   "display_name": "Python 3",
   "language": "python",
   "name": "python3"
  },
  "language_info": {
   "codemirror_mode": {
    "name": "ipython",
    "version": 2
   },
   "file_extension": ".py",
   "mimetype": "text/x-python",
   "name": "python",
   "nbconvert_exporter": "python",
   "pygments_lexer": "ipython2",
   "version": "2.7.6"
  }
 },
 "nbformat": 4,
 "nbformat_minor": 5
}
