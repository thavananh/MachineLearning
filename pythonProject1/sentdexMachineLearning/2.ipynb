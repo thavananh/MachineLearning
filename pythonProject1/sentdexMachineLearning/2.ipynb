{
 "cells": [
  {
   "metadata": {
    "ExecuteTime": {
     "end_time": "2024-07-04T10:47:22.357870Z",
     "start_time": "2024-07-04T10:47:20.712905Z"
    }
   },
   "cell_type": "code",
   "source": [
    "import datetime\n",
    "\n",
    "import requests\n",
    "import quandl\n",
    "import pandas as pd\n",
    "from sklearn import preprocessing, model_selection, svm\n",
    "from sklearn.linear_model import LinearRegression\n",
    "import numpy as np\n",
    "\n",
    "import matplotlib\n",
    "import matplotlib.pyplot   as plt\n",
    "from matplotlib import style\n",
    "style.use('ggplot')\n",
    "matplotlib.use('TkAgg')\n"
   ],
   "id": "2472366475541cc5",
   "outputs": [],
   "execution_count": 1
  },
  {
   "metadata": {
    "ExecuteTime": {
     "end_time": "2024-07-04T10:47:25.127288Z",
     "start_time": "2024-07-04T10:47:22.359712Z"
    }
   },
   "cell_type": "code",
   "source": "df = pd.DataFrame((quandl.get('WIKI/GOOGL', authtoken='1rN-xLV-VcAMm6S64eCv')))",
   "id": "f5e1c78bd3916208",
   "outputs": [],
   "execution_count": 2
  },
  {
   "metadata": {
    "ExecuteTime": {
     "end_time": "2024-07-04T10:47:25.138812Z",
     "start_time": "2024-07-04T10:47:25.128510Z"
    }
   },
   "cell_type": "code",
   "source": [
    "df = df[['Adj. Open', 'Adj. High', 'Adj. Low', 'Adj. Close', 'Adj. Volume']]\n",
    "df['HL_PCT'] = (df['Adj. High'] - df['Adj. Close']) / df['Adj. Close'] * 100.0\n",
    "df['PCT_change'] = (df['Adj. Close'] - df['Adj. Open']) / df['Adj. Open'] * 100.0\n",
    "df = df[['Adj. Close', 'HL_PCT', 'PCT_change', 'Adj. Volume']]"
   ],
   "id": "22be96c1211cfe9f",
   "outputs": [],
   "execution_count": 3
  },
  {
   "metadata": {
    "ExecuteTime": {
     "end_time": "2024-07-04T10:47:25.146883Z",
     "start_time": "2024-07-04T10:47:25.140656Z"
    }
   },
   "cell_type": "code",
   "source": "print(df.head())",
   "id": "ca89aad0b16a4e62",
   "outputs": [
    {
     "name": "stdout",
     "output_type": "stream",
     "text": [
      "            Adj. Close    HL_PCT  PCT_change  Adj. Volume\n",
      "Date                                                     \n",
      "2004-08-19   50.322842  3.712563    0.324968   44659000.0\n",
      "2004-08-20   54.322689  0.710922    7.227007   22834300.0\n",
      "2004-08-23   54.869377  3.729433   -1.227880   18256100.0\n",
      "2004-08-24   52.597363  6.417469   -5.726357   15247300.0\n",
      "2004-08-25   53.164113  1.886792    1.183658    9188600.0\n"
     ]
    }
   ],
   "execution_count": 4
  },
  {
   "metadata": {
    "ExecuteTime": {
     "end_time": "2024-07-04T10:47:25.151942Z",
     "start_time": "2024-07-04T10:47:25.147929Z"
    }
   },
   "cell_type": "code",
   "source": [
    "import math\n",
    "\n",
    "df.fillna(-99999, inplace=True)\n",
    "forecast_out = int(math.ceil(0.01 * len(df)))\n",
    "print(forecast_out)\n",
    "df['label'] = df['Adj. Close'].shift(-forecast_out)"
   ],
   "id": "57dc598546e116f0",
   "outputs": [
    {
     "name": "stdout",
     "output_type": "stream",
     "text": [
      "35\n"
     ]
    }
   ],
   "execution_count": 5
  },
  {
   "metadata": {
    "ExecuteTime": {
     "end_time": "2024-07-04T10:47:25.194052Z",
     "start_time": "2024-07-04T10:47:25.152912Z"
    }
   },
   "cell_type": "code",
   "source": [
    "x = np.array(df.drop(['label'],axis=1)) \n",
    "x = preprocessing.scale(x)\n",
    "x = x[:-forecast_out]\n",
    "x_lately = x[-forecast_out:]\n",
    "df.dropna(inplace=True) \n",
    "y = np.array(df['label'])\n",
    "x_train, x_test, y_train, y_test = model_selection.train_test_split(x, y, test_size=0.2)\n",
    "clf = LinearRegression(n_jobs=-1)\n",
    "clf.fit(x_train, y_train)\n",
    "accuracy = clf.score(x_test, y_test)\n",
    "print(accuracy)"
   ],
   "id": "c5ff1414bfd9cfc6",
   "outputs": [
    {
     "name": "stdout",
     "output_type": "stream",
     "text": [
      "0.9785645077912839\n"
     ]
    }
   ],
   "execution_count": 6
  },
  {
   "metadata": {
    "ExecuteTime": {
     "end_time": "2024-07-04T10:47:25.200633Z",
     "start_time": "2024-07-04T10:47:25.195565Z"
    }
   },
   "cell_type": "code",
   "source": [
    "# print(x_lately)\n",
    "forecast_set = clf.predict(x_lately)\n",
    "# print(forecast_set, accuracy, forecast_out) \n",
    "df['Forecast'] = np.nan\n",
    "\n",
    "last_date = df.iloc[-1].name\n",
    "last_unix = last_date.timestamp()\n",
    "one_day = 86400\n",
    "next_unix = last_unix + one_day"
   ],
   "id": "622c99effe5ba3fb",
   "outputs": [],
   "execution_count": 7
  },
  {
   "metadata": {
    "ExecuteTime": {
     "end_time": "2024-07-04T11:15:54.771723Z",
     "start_time": "2024-07-04T11:15:54.707571Z"
    }
   },
   "cell_type": "code",
   "source": [
    "for i in forecast_set:\n",
    "    next_date = datetime.datetime.fromtimestamp(next_unix)\n",
    "    next_unix += one_day\n",
    "    df.loc[next_date] = [np.nan for _ in range(len(df.columns)-1)] + [i]\n",
    "\n",
    "print(df.tail())\n",
    "# df['Adj. Close'].plot()\n",
    "# df['Forecast'].plot()\n",
    "# \n",
    "# \n",
    "# plt.legend(loc=4)\n",
    "# plt.xlabel('Date')\n",
    "# plt.ylabel('Price')\n",
    "# plt.show()"
   ],
   "id": "c61b8ab1c9934bcd",
   "outputs": [
    {
     "name": "stdout",
     "output_type": "stream",
     "text": [
      "                     Adj. Close  HL_PCT  PCT_change  Adj. Volume  label  \\\n",
      "Date                                                                      \n",
      "2018-04-12 07:00:00         NaN     NaN         NaN          NaN    NaN   \n",
      "2018-04-13 07:00:00         NaN     NaN         NaN          NaN    NaN   \n",
      "2018-04-14 07:00:00         NaN     NaN         NaN          NaN    NaN   \n",
      "2018-04-15 07:00:00         NaN     NaN         NaN          NaN    NaN   \n",
      "2018-04-16 07:00:00         NaN     NaN         NaN          NaN    NaN   \n",
      "\n",
      "                        Forecast  \n",
      "Date                              \n",
      "2018-04-12 07:00:00  1200.094875  \n",
      "2018-04-13 07:00:00  1205.699016  \n",
      "2018-04-14 07:00:00  1204.208719  \n",
      "2018-04-15 07:00:00  1139.814092  \n",
      "2018-04-16 07:00:00  1086.973638  \n"
     ]
    }
   ],
   "execution_count": 9
  },
  {
   "metadata": {
    "ExecuteTime": {
     "end_time": "2024-07-04T11:15:21.915045Z",
     "start_time": "2024-07-04T11:15:21.912928Z"
    }
   },
   "cell_type": "code",
   "source": "",
   "id": "27454a4949607956",
   "outputs": [],
   "execution_count": 8
  }
 ],
 "metadata": {
  "kernelspec": {
   "display_name": "Python 3",
   "language": "python",
   "name": "python3"
  },
  "language_info": {
   "codemirror_mode": {
    "name": "ipython",
    "version": 2
   },
   "file_extension": ".py",
   "mimetype": "text/x-python",
   "name": "python",
   "nbconvert_exporter": "python",
   "pygments_lexer": "ipython2",
   "version": "2.7.6"
  }
 },
 "nbformat": 4,
 "nbformat_minor": 5
}
