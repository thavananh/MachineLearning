{
 "cells": [
  {
   "metadata": {
    "ExecuteTime": {
     "end_time": "2024-07-04T20:04:13.276604Z",
     "start_time": "2024-07-04T20:04:13.272701Z"
    }
   },
   "cell_type": "code",
   "source": [
    "import datetime\n",
    "\n",
    "import requests\n",
    "import quandl\n",
    "import pandas as pd\n",
    "from sklearn import preprocessing, model_selection, svm\n",
    "from sklearn.linear_model import LinearRegression\n",
    "import numpy as np\n",
    "import pickle\n",
    "\n",
    "import matplotlib\n",
    "import matplotlib.pyplot   as plt\n",
    "from matplotlib import style\n",
    "style.use('ggplot')\n",
    "matplotlib.use('TkAgg')\n"
   ],
   "id": "2472366475541cc5",
   "outputs": [],
   "execution_count": 18
  },
  {
   "metadata": {
    "ExecuteTime": {
     "end_time": "2024-07-04T20:04:15.867940Z",
     "start_time": "2024-07-04T20:04:13.321948Z"
    }
   },
   "cell_type": "code",
   "source": "df = pd.DataFrame((quandl.get('WIKI/GOOGL', authtoken='1rN-xLV-VcAMm6S64eCv')))",
   "id": "f5e1c78bd3916208",
   "outputs": [],
   "execution_count": 19
  },
  {
   "metadata": {
    "ExecuteTime": {
     "end_time": "2024-07-04T20:04:15.876723Z",
     "start_time": "2024-07-04T20:04:15.869616Z"
    }
   },
   "cell_type": "code",
   "source": [
    "df = df[['Adj. Open', 'Adj. High', 'Adj. Low', 'Adj. Close', 'Adj. Volume']]\n",
    "df['HL_PCT'] = (df['Adj. High'] - df['Adj. Close']) / df['Adj. Close'] * 100.0\n",
    "df['PCT_change'] = (df['Adj. Close'] - df['Adj. Open']) / df['Adj. Open'] * 100.0\n",
    "df = df[['Adj. Close', 'HL_PCT', 'PCT_change', 'Adj. Volume']]"
   ],
   "id": "22be96c1211cfe9f",
   "outputs": [],
   "execution_count": 20
  },
  {
   "metadata": {
    "ExecuteTime": {
     "end_time": "2024-07-04T20:04:15.886245Z",
     "start_time": "2024-07-04T20:04:15.877907Z"
    }
   },
   "cell_type": "code",
   "source": "print(df.head())",
   "id": "ca89aad0b16a4e62",
   "outputs": [
    {
     "name": "stdout",
     "output_type": "stream",
     "text": [
      "            Adj. Close    HL_PCT  PCT_change  Adj. Volume\n",
      "Date                                                     \n",
      "2004-08-19   50.322842  3.712563    0.324968   44659000.0\n",
      "2004-08-20   54.322689  0.710922    7.227007   22834300.0\n",
      "2004-08-23   54.869377  3.729433   -1.227880   18256100.0\n",
      "2004-08-24   52.597363  6.417469   -5.726357   15247300.0\n",
      "2004-08-25   53.164113  1.886792    1.183658    9188600.0\n"
     ]
    }
   ],
   "execution_count": 21
  },
  {
   "metadata": {
    "ExecuteTime": {
     "end_time": "2024-07-04T20:04:15.892714Z",
     "start_time": "2024-07-04T20:04:15.887527Z"
    }
   },
   "cell_type": "code",
   "source": [
    "import math\n",
    "\n",
    "df.fillna(-99999, inplace=True)\n",
    "forecast_out = int(math.ceil(0.01 * len(df)))\n",
    "print(forecast_out)\n",
    "df['label'] = df['Adj. Close'].shift(-forecast_out)"
   ],
   "id": "57dc598546e116f0",
   "outputs": [
    {
     "name": "stdout",
     "output_type": "stream",
     "text": [
      "35\n"
     ]
    }
   ],
   "execution_count": 22
  },
  {
   "metadata": {
    "ExecuteTime": {
     "end_time": "2024-07-04T20:04:15.935774Z",
     "start_time": "2024-07-04T20:04:15.926392Z"
    }
   },
   "cell_type": "code",
   "source": [
    "x = np.array(df.drop(['label'],axis=1)) \n",
    "x = preprocessing.scale(x)\n",
    "x = x[:-forecast_out]\n",
    "x_lately = x[-forecast_out:]\n",
    "df.dropna(inplace=True) \n",
    "y = np.array(df['label'])\n",
    "x_train, x_test, y_train, y_test = model_selection.train_test_split(x, y, test_size=0.2)\n",
    "# clf = LinearRegression(n_jobs=-1)\n",
    "# clf.fit(x_train, y_train)\n",
    "# with open('linearregression1.pickle', 'wb') as handle:\n",
    "#     pickle.dump(clf, handle)\n",
    "\n",
    "pickle_in = open('linearregression1.pickle', 'rb')\n",
    "clf = pickle.load(pickle_in)\n",
    "accuracy = clf.score(x_test, y_test)\n",
    "print(accuracy)"
   ],
   "id": "c5ff1414bfd9cfc6",
   "outputs": [
    {
     "name": "stdout",
     "output_type": "stream",
     "text": [
      "0.976625916434691\n"
     ]
    }
   ],
   "execution_count": 23
  },
  {
   "metadata": {
    "ExecuteTime": {
     "end_time": "2024-07-04T20:04:15.941118Z",
     "start_time": "2024-07-04T20:04:15.936966Z"
    }
   },
   "cell_type": "code",
   "source": [
    "# print(x_lately)\n",
    "forecast_set = clf.predict(x_lately)\n",
    "# print(forecast_set, accuracy, forecast_out) \n",
    "df['Forecast'] = np.nan\n",
    "\n",
    "last_date = df.iloc[-1].name\n",
    "last_unix = last_date.timestamp()\n",
    "one_day = 86400\n",
    "next_unix = last_unix + one_day"
   ],
   "id": "622c99effe5ba3fb",
   "outputs": [],
   "execution_count": 24
  },
  {
   "metadata": {
    "ExecuteTime": {
     "end_time": "2024-07-04T20:05:28.805806Z",
     "start_time": "2024-07-04T20:04:15.942372Z"
    }
   },
   "cell_type": "code",
   "source": [
    "for i in forecast_set:\n",
    "    next_date = datetime.datetime.fromtimestamp(next_unix)\n",
    "    next_unix += one_day\n",
    "    df.loc[next_date] = [np.nan for _ in range(len(df.columns)-1)] + [i]\n",
    "\n",
    "print(df.tail())\n",
    "df['Adj. Close'].plot()\n",
    "df['Forecast'].plot()\n",
    "\n",
    "\n",
    "plt.legend(loc=4)\n",
    "plt.xlabel('Date')\n",
    "plt.ylabel('Price')\n",
    "plt.show()"
   ],
   "id": "c61b8ab1c9934bcd",
   "outputs": [
    {
     "name": "stdout",
     "output_type": "stream",
     "text": [
      "                     Adj. Close  HL_PCT  PCT_change  Adj. Volume  label  \\\n",
      "Date                                                                      \n",
      "2018-03-08 07:00:00         NaN     NaN         NaN          NaN    NaN   \n",
      "2018-03-09 07:00:00         NaN     NaN         NaN          NaN    NaN   \n",
      "2018-03-10 07:00:00         NaN     NaN         NaN          NaN    NaN   \n",
      "2018-03-11 07:00:00         NaN     NaN         NaN          NaN    NaN   \n",
      "2018-03-12 07:00:00         NaN     NaN         NaN          NaN    NaN   \n",
      "\n",
      "                        Forecast  \n",
      "Date                              \n",
      "2018-03-08 07:00:00  1199.357207  \n",
      "2018-03-09 07:00:00  1204.691724  \n",
      "2018-03-10 07:00:00  1203.610047  \n",
      "2018-03-11 07:00:00  1138.934520  \n",
      "2018-03-12 07:00:00  1086.166929  \n"
     ]
    }
   ],
   "execution_count": 25
  },
  {
   "metadata": {
    "ExecuteTime": {
     "end_time": "2024-07-04T20:05:28.809674Z",
     "start_time": "2024-07-04T20:05:28.807322Z"
    }
   },
   "cell_type": "code",
   "source": "",
   "id": "27454a4949607956",
   "outputs": [],
   "execution_count": 25
  }
 ],
 "metadata": {
  "kernelspec": {
   "display_name": "Python 3",
   "language": "python",
   "name": "python3"
  },
  "language_info": {
   "codemirror_mode": {
    "name": "ipython",
    "version": 2
   },
   "file_extension": ".py",
   "mimetype": "text/x-python",
   "name": "python",
   "nbconvert_exporter": "python",
   "pygments_lexer": "ipython2",
   "version": "2.7.6"
  }
 },
 "nbformat": 4,
 "nbformat_minor": 5
}
