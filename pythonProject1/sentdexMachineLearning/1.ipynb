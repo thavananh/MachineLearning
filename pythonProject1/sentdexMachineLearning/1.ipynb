{
 "cells": [
  {
   "metadata": {
    "ExecuteTime": {
     "end_time": "2024-07-01T11:58:40.664112Z",
     "start_time": "2024-07-01T11:58:36.958871Z"
    }
   },
   "cell_type": "code",
   "source": [
    "import requests\n",
    "import quandl\n",
    "import pandas as pd\n",
    "from sklearn import preprocessing, model_selection, svm\n",
    "from sklearn.linear_model import LinearRegression\n",
    "import numpy as np\n",
    "\n",
    "df = pd.DataFrame((quandl.get('WIKI/GOOGL', authtoken='1rN-xLV-VcAMm6S64eCv')))\n"
   ],
   "id": "initial_id",
   "outputs": [],
   "execution_count": 1
  },
  {
   "metadata": {
    "ExecuteTime": {
     "end_time": "2024-07-01T11:58:40.673020Z",
     "start_time": "2024-07-01T11:58:40.665617Z"
    }
   },
   "cell_type": "code",
   "source": [
    "df = df[['Adj. Open', 'Adj. High', 'Adj. Low', 'Adj. Close', 'Adj. Volume']]\n",
    "df['HL_PCT'] = (df['Adj. High'] - df['Adj. Close']) / df['Adj. Close'] * 100.0\n",
    "df['PCT_change'] = (df['Adj. Close'] - df['Adj. Open']) / df['Adj. Open'] * 100.0\n",
    "df = df[['Adj. Close', 'HL_PCT', 'PCT_change', 'Adj. Volume']]"
   ],
   "id": "b98d22a12146f531",
   "outputs": [],
   "execution_count": 2
  },
  {
   "metadata": {
    "ExecuteTime": {
     "end_time": "2024-07-01T11:58:40.684028Z",
     "start_time": "2024-07-01T11:58:40.674094Z"
    }
   },
   "cell_type": "code",
   "source": [
    "print(df.head())"
   ],
   "id": "edcd00c58010d4b",
   "outputs": [
    {
     "name": "stdout",
     "output_type": "stream",
     "text": [
      "            Adj. Close    HL_PCT  PCT_change  Adj. Volume\n",
      "Date                                                     \n",
      "2004-08-19   50.322842  3.712563    0.324968   44659000.0\n",
      "2004-08-20   54.322689  0.710922    7.227007   22834300.0\n",
      "2004-08-23   54.869377  3.729433   -1.227880   18256100.0\n",
      "2004-08-24   52.597363  6.417469   -5.726357   15247300.0\n",
      "2004-08-25   53.164113  1.886792    1.183658    9188600.0\n"
     ]
    }
   ],
   "execution_count": 3
  },
  {
   "metadata": {
    "ExecuteTime": {
     "end_time": "2024-07-01T11:58:40.690130Z",
     "start_time": "2024-07-01T11:58:40.685998Z"
    }
   },
   "cell_type": "code",
   "source": [
    "import math\n",
    "\n",
    "df.fillna(-99999, inplace=True)\n",
    "forecast_out = int(math.ceil(0.01 * len(df)))\n",
    "print(forecast_out)\n",
    "df['label'] = df['Adj. Close'].shift(-forecast_out)"
   ],
   "id": "30a9b66785575289",
   "outputs": [
    {
     "name": "stdout",
     "output_type": "stream",
     "text": [
      "35\n"
     ]
    }
   ],
   "execution_count": 4
  },
  {
   "metadata": {
    "ExecuteTime": {
     "end_time": "2024-07-01T11:58:40.697233Z",
     "start_time": "2024-07-01T11:58:40.691117Z"
    }
   },
   "cell_type": "code",
   "source": [
    "print(df.head())"
   ],
   "id": "c78d9da1d9c512a9",
   "outputs": [
    {
     "name": "stdout",
     "output_type": "stream",
     "text": [
      "            Adj. Close    HL_PCT  PCT_change  Adj. Volume      label\n",
      "Date                                                                \n",
      "2004-08-19   50.322842  3.712563    0.324968   44659000.0  69.078238\n",
      "2004-08-20   54.322689  0.710922    7.227007   22834300.0  67.839414\n",
      "2004-08-23   54.869377  3.729433   -1.227880   18256100.0  68.912727\n",
      "2004-08-24   52.597363  6.417469   -5.726357   15247300.0  70.668146\n",
      "2004-08-25   53.164113  1.886792    1.183658    9188600.0  71.219849\n"
     ]
    }
   ],
   "execution_count": 5
  },
  {
   "metadata": {
    "ExecuteTime": {
     "end_time": "2024-07-01T11:58:40.702895Z",
     "start_time": "2024-07-01T11:58:40.698396Z"
    }
   },
   "cell_type": "code",
   "source": [
    "df.dropna(inplace=True)\n",
    "print(len(df))"
   ],
   "id": "347990daca5e365c",
   "outputs": [
    {
     "name": "stdout",
     "output_type": "stream",
     "text": [
      "3389\n"
     ]
    }
   ],
   "execution_count": 6
  },
  {
   "metadata": {
    "ExecuteTime": {
     "end_time": "2024-07-01T11:58:40.707568Z",
     "start_time": "2024-07-01T11:58:40.703971Z"
    }
   },
   "cell_type": "code",
   "source": [
    "x = np.array(df.drop(['label'], axis=1))\n",
    "\n",
    "print(len(x))"
   ],
   "id": "6620453c9c9f67a1",
   "outputs": [
    {
     "name": "stdout",
     "output_type": "stream",
     "text": [
      "3389\n"
     ]
    }
   ],
   "execution_count": 7
  },
  {
   "metadata": {
    "ExecuteTime": {
     "end_time": "2024-07-01T11:58:40.711724Z",
     "start_time": "2024-07-01T11:58:40.708531Z"
    }
   },
   "cell_type": "code",
   "source": [
    "y = np.array(df['label'])\n",
    "print(len(y))"
   ],
   "id": "9f394355e2cae3c",
   "outputs": [
    {
     "name": "stdout",
     "output_type": "stream",
     "text": [
      "3389\n"
     ]
    }
   ],
   "execution_count": 8
  },
  {
   "metadata": {
    "ExecuteTime": {
     "end_time": "2024-07-01T11:58:40.716886Z",
     "start_time": "2024-07-01T11:58:40.712755Z"
    }
   },
   "cell_type": "code",
   "source": [
    "x = preprocessing.scale(x)\n",
    "y = np.array(df['label'])"
   ],
   "id": "85ee4d1d717534d7",
   "outputs": [],
   "execution_count": 9
  },
  {
   "metadata": {
    "ExecuteTime": {
     "end_time": "2024-07-01T11:58:40.754831Z",
     "start_time": "2024-07-01T11:58:40.719076Z"
    }
   },
   "cell_type": "code",
   "source": [
    "x_train, x_test, y_train, y_test = model_selection.train_test_split(x, y, test_size=0.2)\n",
    "clf = LinearRegression(n_jobs=-1)\n",
    "clf.fit(x_train, y_train)\n",
    "accuracy = clf.score(x_test, y_test)"
   ],
   "id": "89ebbada971887b6",
   "outputs": [],
   "execution_count": 10
  },
  {
   "metadata": {
    "ExecuteTime": {
     "end_time": "2024-07-01T11:58:40.759148Z",
     "start_time": "2024-07-01T11:58:40.756095Z"
    }
   },
   "cell_type": "code",
   "source": [
    "print(accuracy)"
   ],
   "id": "df12d89448ebaa08",
   "outputs": [
    {
     "name": "stdout",
     "output_type": "stream",
     "text": [
      "0.9759391584102877\n"
     ]
    }
   ],
   "execution_count": 11
  },
  {
   "metadata": {
    "ExecuteTime": {
     "end_time": "2024-07-01T11:58:40.762830Z",
     "start_time": "2024-07-01T11:58:40.760327Z"
    }
   },
   "cell_type": "code",
   "source": [],
   "id": "50553b9544c928dc",
   "outputs": [],
   "execution_count": 11
  }
 ],
 "metadata": {
  "kernelspec": {
   "display_name": "Python 3",
   "language": "python",
   "name": "python3"
  },
  "language_info": {
   "codemirror_mode": {
    "name": "ipython",
    "version": 2
   },
   "file_extension": ".py",
   "mimetype": "text/x-python",
   "name": "python",
   "nbconvert_exporter": "python",
   "pygments_lexer": "ipython2",
   "version": "2.7.6"
  }
 },
 "nbformat": 4,
 "nbformat_minor": 5
}
