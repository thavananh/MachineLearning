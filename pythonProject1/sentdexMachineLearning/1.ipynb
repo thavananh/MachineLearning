{
 "cells": [
  {
   "metadata": {
    "ExecuteTime": {
     "end_time": "2024-06-30T15:12:47.322912Z",
     "start_time": "2024-06-30T15:12:45.183031Z"
    }
   },
   "cell_type": "code",
   "source": [
    "import requests\n",
    "import quandl\n",
    "import pandas as pd\n",
    "from sklearn import preprocessing, model_selection, svm\n",
    "from sklearn.linear_model import LinearRegression\n",
    "import numpy as np\n",
    "\n",
    "df = pd.DataFrame((quandl.get('WIKI/GOOGL', authtoken='1rN-xLV-VcAMm6S64eCv')))\n"
   ],
   "id": "initial_id",
   "outputs": [],
   "execution_count": 24
  },
  {
   "metadata": {
    "ExecuteTime": {
     "end_time": "2024-06-30T15:12:47.332133Z",
     "start_time": "2024-06-30T15:12:47.323916Z"
    }
   },
   "cell_type": "code",
   "source": [
    "df = df[['Adj. Open', 'Adj. High', 'Adj. Low', 'Adj. Close', 'Adj. Volume']]\n",
    "df['HL_PCT'] = (df['Adj. High'] - df['Adj. Close']) / df['Adj. Close'] * 100.0\n",
    "df['PCT_change'] = (df['Adj. Close'] - df['Adj. Open']) / df['Adj. Open'] * 100.0\n",
    "df = df[['Adj. Close', 'HL_PCT', 'PCT_change', 'Adj. Volume']]"
   ],
   "id": "b98d22a12146f531",
   "outputs": [],
   "execution_count": 25
  },
  {
   "metadata": {
    "ExecuteTime": {
     "end_time": "2024-06-30T15:12:47.341772Z",
     "start_time": "2024-06-30T15:12:47.333138Z"
    }
   },
   "cell_type": "code",
   "source": [
    "print(df.head())"
   ],
   "id": "edcd00c58010d4b",
   "outputs": [
    {
     "name": "stdout",
     "output_type": "stream",
     "text": [
      "            Adj. Close    HL_PCT  PCT_change  Adj. Volume\n",
      "Date                                                     \n",
      "2004-08-19   50.322842  3.712563    0.324968   44659000.0\n",
      "2004-08-20   54.322689  0.710922    7.227007   22834300.0\n",
      "2004-08-23   54.869377  3.729433   -1.227880   18256100.0\n",
      "2004-08-24   52.597363  6.417469   -5.726357   15247300.0\n",
      "2004-08-25   53.164113  1.886792    1.183658    9188600.0\n"
     ]
    }
   ],
   "execution_count": 26
  },
  {
   "metadata": {
    "ExecuteTime": {
     "end_time": "2024-06-30T15:16:12.745570Z",
     "start_time": "2024-06-30T15:16:12.735720Z"
    }
   },
   "cell_type": "code",
   "source": [
    "import math\n",
    "\n",
    "df.fillna(-99999, inplace=True)\n",
    "forecast_out = int(math.ceil(0.01 * len(df)))\n",
    "print(forecast_out)\n",
    "df['label'] = df['Adj. Close'].shift(-forecast_out)"
   ],
   "id": "30a9b66785575289",
   "outputs": [
    {
     "name": "stdout",
     "output_type": "stream",
     "text": [
      "34\n",
      "Date\n",
      "2004-08-19      69.639972\n",
      "2004-08-20      69.078238\n",
      "2004-08-23      67.839414\n",
      "2004-08-24      68.912727\n",
      "2004-08-25      70.668146\n",
      "                 ...     \n",
      "2017-12-08    1177.370000\n",
      "2017-12-11    1182.220000\n",
      "2017-12-12    1181.590000\n",
      "2017-12-13    1119.200000\n",
      "2017-12-14    1068.760000\n",
      "Name: label, Length: 3355, dtype: float64\n"
     ]
    }
   ],
   "execution_count": 36
  },
  {
   "metadata": {
    "ExecuteTime": {
     "end_time": "2024-06-30T15:12:47.360428Z",
     "start_time": "2024-06-30T15:12:47.353277Z"
    }
   },
   "cell_type": "code",
   "source": [
    "print(df.head())"
   ],
   "id": "c78d9da1d9c512a9",
   "outputs": [
    {
     "name": "stdout",
     "output_type": "stream",
     "text": [
      "            Adj. Close    HL_PCT  PCT_change  Adj. Volume      label\n",
      "Date                                                                \n",
      "2004-08-19   50.322842  3.712563    0.324968   44659000.0  69.078238\n",
      "2004-08-20   54.322689  0.710922    7.227007   22834300.0  67.839414\n",
      "2004-08-23   54.869377  3.729433   -1.227880   18256100.0  68.912727\n",
      "2004-08-24   52.597363  6.417469   -5.726357   15247300.0  70.668146\n",
      "2004-08-25   53.164113  1.886792    1.183658    9188600.0  71.219849\n"
     ]
    }
   ],
   "execution_count": 28
  },
  {
   "metadata": {
    "ExecuteTime": {
     "end_time": "2024-06-30T15:24:49.734863Z",
     "start_time": "2024-06-30T15:24:49.727684Z"
    }
   },
   "cell_type": "code",
   "source": [
    "df.dropna(inplace=True)\n",
    "print(len(df))"
   ],
   "id": "347990daca5e365c",
   "outputs": [
    {
     "name": "stdout",
     "output_type": "stream",
     "text": [
      "3355\n"
     ]
    }
   ],
   "execution_count": 37
  },
  {
   "metadata": {
    "ExecuteTime": {
     "end_time": "2024-06-30T15:12:47.379101Z",
     "start_time": "2024-06-30T15:12:47.374103Z"
    }
   },
   "cell_type": "code",
   "source": [
    "x = np.array(df.drop(['label'], axis=1))\n",
    "\n",
    "print(len(x))"
   ],
   "id": "6620453c9c9f67a1",
   "outputs": [
    {
     "name": "stdout",
     "output_type": "stream",
     "text": [
      "3389\n"
     ]
    }
   ],
   "execution_count": 30
  },
  {
   "metadata": {
    "ExecuteTime": {
     "end_time": "2024-06-30T15:12:47.385451Z",
     "start_time": "2024-06-30T15:12:47.381107Z"
    }
   },
   "cell_type": "code",
   "source": [
    "y = np.array(df['label'])\n",
    "print(len(y))"
   ],
   "id": "9f394355e2cae3c",
   "outputs": [
    {
     "name": "stdout",
     "output_type": "stream",
     "text": [
      "3389\n"
     ]
    }
   ],
   "execution_count": 31
  },
  {
   "metadata": {
    "ExecuteTime": {
     "end_time": "2024-06-30T15:12:47.392621Z",
     "start_time": "2024-06-30T15:12:47.387458Z"
    }
   },
   "cell_type": "code",
   "source": [
    "x = preprocessing.scale(x)\n",
    "y = np.array(df['label'])"
   ],
   "id": "85ee4d1d717534d7",
   "outputs": [],
   "execution_count": 32
  },
  {
   "metadata": {
    "ExecuteTime": {
     "end_time": "2024-06-30T15:12:47.401804Z",
     "start_time": "2024-06-30T15:12:47.393627Z"
    }
   },
   "cell_type": "code",
   "source": [
    "x_train, x_test, y_train, y_test = model_selection.train_test_split(x, y, test_size=0.2)\n",
    "clf = LinearRegression()\n",
    "clf.fit(x_train, y_train)\n",
    "accuracy = clf.score(x_test, y_test)"
   ],
   "id": "89ebbada971887b6",
   "outputs": [],
   "execution_count": 33
  },
  {
   "metadata": {
    "ExecuteTime": {
     "end_time": "2024-06-30T15:12:47.407839Z",
     "start_time": "2024-06-30T15:12:47.403812Z"
    }
   },
   "cell_type": "code",
   "source": [
    "print(accuracy)"
   ],
   "id": "df12d89448ebaa08",
   "outputs": [
    {
     "name": "stdout",
     "output_type": "stream",
     "text": [
      "0.9781791694640637\n"
     ]
    }
   ],
   "execution_count": 34
  },
  {
   "metadata": {
    "ExecuteTime": {
     "end_time": "2024-06-30T15:12:47.412970Z",
     "start_time": "2024-06-30T15:12:47.409844Z"
    }
   },
   "cell_type": "code",
   "source": [],
   "id": "50553b9544c928dc",
   "outputs": [],
   "execution_count": 34
  }
 ],
 "metadata": {
  "kernelspec": {
   "display_name": "Python 3",
   "language": "python",
   "name": "python3"
  },
  "language_info": {
   "codemirror_mode": {
    "name": "ipython",
    "version": 2
   },
   "file_extension": ".py",
   "mimetype": "text/x-python",
   "name": "python",
   "nbconvert_exporter": "python",
   "pygments_lexer": "ipython2",
   "version": "2.7.6"
  }
 },
 "nbformat": 4,
 "nbformat_minor": 5
}
