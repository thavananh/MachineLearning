{
 "cells": [
  {
   "metadata": {
    "ExecuteTime": {
     "end_time": "2024-06-29T13:45:40.798605Z",
     "start_time": "2024-06-29T13:45:37.517951Z"
    }
   },
   "cell_type": "code",
   "source": [
    "import requests\n",
    "import quandl\n",
    "import pandas as pd\n",
    "from sklearn import preprocessing, model_selection, svm\n",
    "from sklearn.linear_model import LinearRegression\n",
    "import numpy as np\n",
    "\n",
    "df = quandl.get('WIKI/GOOGL')\n"
   ],
   "id": "initial_id",
   "outputs": [],
   "execution_count": 63
  },
  {
   "metadata": {
    "ExecuteTime": {
     "end_time": "2024-06-29T13:45:40.806550Z",
     "start_time": "2024-06-29T13:45:40.800141Z"
    }
   },
   "cell_type": "code",
   "source": [
    "df = df[['Adj. Open', 'Adj. High', 'Adj. Low', 'Adj. Close', 'Adj. Volume']]\n",
    "df['HL_PCT'] = (df['Adj. High'] - df['Adj. Close']) / df['Adj. Close'] * 100.0\n",
    "df['PCT_change'] = (df['Adj. Close'] - df['Adj. Open']) / df['Adj. Open'] * 100.0\n",
    "df = df[['Adj. Close', 'HL_PCT', 'PCT_change', 'Adj. Volume']]"
   ],
   "id": "b98d22a12146f531",
   "outputs": [],
   "execution_count": 64
  },
  {
   "metadata": {
    "ExecuteTime": {
     "end_time": "2024-06-29T13:45:40.820029Z",
     "start_time": "2024-06-29T13:45:40.807676Z"
    }
   },
   "cell_type": "code",
   "source": "print(df.head())",
   "id": "edcd00c58010d4b",
   "outputs": [
    {
     "name": "stdout",
     "output_type": "stream",
     "text": [
      "            Adj. Close    HL_PCT  PCT_change  Adj. Volume\n",
      "Date                                                     \n",
      "2004-08-19   50.322842  3.712563    0.324968   44659000.0\n",
      "2004-08-20   54.322689  0.710922    7.227007   22834300.0\n",
      "2004-08-23   54.869377  3.729433   -1.227880   18256100.0\n",
      "2004-08-24   52.597363  6.417469   -5.726357   15247300.0\n",
      "2004-08-25   53.164113  1.886792    1.183658    9188600.0\n"
     ]
    }
   ],
   "execution_count": 65
  },
  {
   "metadata": {
    "ExecuteTime": {
     "end_time": "2024-06-29T13:45:40.829092Z",
     "start_time": "2024-06-29T13:45:40.821853Z"
    }
   },
   "cell_type": "code",
   "source": [
    "import math\n",
    "forecast_col = 'Adj. Close'\n",
    "df.fillna(-99999, inplace=True)\n",
    "print(df)\n",
    "forecast_out = int(math.ceil(0.01 * len(df)))\n",
    "print(len(df))\n",
    "df['label'] = df[forecast_col].shift(-forecast_out)"
   ],
   "id": "30a9b66785575289",
   "outputs": [
    {
     "name": "stdout",
     "output_type": "stream",
     "text": [
      "             Adj. Close    HL_PCT  PCT_change  Adj. Volume\n",
      "Date                                                      \n",
      "2004-08-19    50.322842  3.712563    0.324968   44659000.0\n",
      "2004-08-20    54.322689  0.710922    7.227007   22834300.0\n",
      "2004-08-23    54.869377  3.729433   -1.227880   18256100.0\n",
      "2004-08-24    52.597363  6.417469   -5.726357   15247300.0\n",
      "2004-08-25    53.164113  1.886792    1.183658    9188600.0\n",
      "...                 ...       ...         ...          ...\n",
      "2018-03-21  1094.000000  1.343693    0.130884    1990515.0\n",
      "2018-03-22  1053.150000  2.921711   -2.487014    3418154.0\n",
      "2018-03-23  1026.550000  3.918952   -2.360729    2413517.0\n",
      "2018-03-26  1054.090000  0.491419    0.332191    3272409.0\n",
      "2018-03-27  1006.940000  5.720301   -5.353887    2940957.0\n",
      "\n",
      "[3424 rows x 4 columns]\n",
      "3424\n"
     ]
    }
   ],
   "execution_count": 66
  },
  {
   "metadata": {
    "ExecuteTime": {
     "end_time": "2024-06-29T13:45:40.835278Z",
     "start_time": "2024-06-29T13:45:40.830162Z"
    }
   },
   "cell_type": "code",
   "source": "print(df.head())",
   "id": "c78d9da1d9c512a9",
   "outputs": [
    {
     "name": "stdout",
     "output_type": "stream",
     "text": [
      "            Adj. Close    HL_PCT  PCT_change  Adj. Volume      label\n",
      "Date                                                                \n",
      "2004-08-19   50.322842  3.712563    0.324968   44659000.0  69.078238\n",
      "2004-08-20   54.322689  0.710922    7.227007   22834300.0  67.839414\n",
      "2004-08-23   54.869377  3.729433   -1.227880   18256100.0  68.912727\n",
      "2004-08-24   52.597363  6.417469   -5.726357   15247300.0  70.668146\n",
      "2004-08-25   53.164113  1.886792    1.183658    9188600.0  71.219849\n"
     ]
    }
   ],
   "execution_count": 67
  },
  {
   "metadata": {
    "ExecuteTime": {
     "end_time": "2024-06-29T13:45:40.843488Z",
     "start_time": "2024-06-29T13:45:40.836393Z"
    }
   },
   "cell_type": "code",
   "source": [
    "df.dropna(inplace=True)\n",
    "print(df.tail())"
   ],
   "id": "347990daca5e365c",
   "outputs": [
    {
     "name": "stdout",
     "output_type": "stream",
     "text": [
      "            Adj. Close    HL_PCT  PCT_change  Adj. Volume    label\n",
      "Date                                                              \n",
      "2018-01-30     1177.37  0.896914   -0.029718    1792602.0  1094.00\n",
      "2018-01-31     1182.22  0.346805   -0.134312    1643877.0  1053.15\n",
      "2018-02-01     1181.59  0.495942    0.476195    2774967.0  1026.55\n",
      "2018-02-02     1119.20  1.081129   -0.729098    5798880.0  1054.09\n",
      "2018-02-05     1068.76  4.325574   -2.893850    3742469.0  1006.94\n"
     ]
    }
   ],
   "execution_count": 68
  },
  {
   "metadata": {
    "ExecuteTime": {
     "end_time": "2024-06-29T13:45:40.849726Z",
     "start_time": "2024-06-29T13:45:40.844600Z"
    }
   },
   "cell_type": "code",
   "source": [
    "x = np.array(df.drop(['label'], axis=1))\n",
    "\n",
    "print(len(x))"
   ],
   "id": "6620453c9c9f67a1",
   "outputs": [
    {
     "name": "stdout",
     "output_type": "stream",
     "text": [
      "3389\n"
     ]
    }
   ],
   "execution_count": 69
  },
  {
   "metadata": {
    "ExecuteTime": {
     "end_time": "2024-06-29T13:45:40.854283Z",
     "start_time": "2024-06-29T13:45:40.851213Z"
    }
   },
   "cell_type": "code",
   "source": [
    "y = np.array(df['label'])\n",
    "print(len(y))"
   ],
   "id": "9f394355e2cae3c",
   "outputs": [
    {
     "name": "stdout",
     "output_type": "stream",
     "text": [
      "3389\n"
     ]
    }
   ],
   "execution_count": 70
  },
  {
   "metadata": {
    "ExecuteTime": {
     "end_time": "2024-06-29T13:45:40.859715Z",
     "start_time": "2024-06-29T13:45:40.855381Z"
    }
   },
   "cell_type": "code",
   "source": [
    "x = preprocessing.scale(x)\n",
    "y = np.array(df['label'])"
   ],
   "id": "85ee4d1d717534d7",
   "outputs": [],
   "execution_count": 71
  },
  {
   "metadata": {
    "ExecuteTime": {
     "end_time": "2024-06-29T13:45:40.868932Z",
     "start_time": "2024-06-29T13:45:40.862050Z"
    }
   },
   "cell_type": "code",
   "source": [
    "x_train, x_test, y_train, y_test = model_selection.train_test_split(x, y, test_size=0.2)\n",
    "clf = LinearRegression()\n",
    "clf.fit(x_train, y_train)\n",
    "accuracy = clf.score(x_test, y_test)"
   ],
   "id": "89ebbada971887b6",
   "outputs": [],
   "execution_count": 72
  },
  {
   "metadata": {
    "ExecuteTime": {
     "end_time": "2024-06-29T13:45:40.873505Z",
     "start_time": "2024-06-29T13:45:40.870027Z"
    }
   },
   "cell_type": "code",
   "source": "print(accuracy)",
   "id": "df12d89448ebaa08",
   "outputs": [
    {
     "name": "stdout",
     "output_type": "stream",
     "text": [
      "0.9797107497047091\n"
     ]
    }
   ],
   "execution_count": 73
  },
  {
   "metadata": {
    "ExecuteTime": {
     "end_time": "2024-06-29T13:45:40.877542Z",
     "start_time": "2024-06-29T13:45:40.875060Z"
    }
   },
   "cell_type": "code",
   "source": "",
   "id": "50553b9544c928dc",
   "outputs": [],
   "execution_count": 73
  }
 ],
 "metadata": {
  "kernelspec": {
   "display_name": "Python 3",
   "language": "python",
   "name": "python3"
  },
  "language_info": {
   "codemirror_mode": {
    "name": "ipython",
    "version": 2
   },
   "file_extension": ".py",
   "mimetype": "text/x-python",
   "name": "python",
   "nbconvert_exporter": "python",
   "pygments_lexer": "ipython2",
   "version": "2.7.6"
  }
 },
 "nbformat": 4,
 "nbformat_minor": 5
}
