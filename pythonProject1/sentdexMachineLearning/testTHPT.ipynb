{
 "cells": [
  {
   "cell_type": "code",
   "id": "initial_id",
   "metadata": {
    "collapsed": true,
    "ExecuteTime": {
     "end_time": "2024-07-21T20:02:04.368684Z",
     "start_time": "2024-07-21T20:02:04.366040Z"
    }
   },
   "source": [
    "import numpy as np\n",
    "import pandas as pd"
   ],
   "outputs": [],
   "execution_count": 119
  },
  {
   "metadata": {
    "ExecuteTime": {
     "end_time": "2024-07-21T20:02:11.271277Z",
     "start_time": "2024-07-21T20:02:04.376059Z"
    }
   },
   "cell_type": "code",
   "source": "df = pd.read_excel('DuLieuXin.xlsx', header=None)",
   "id": "8cc674cd901b6ad4",
   "outputs": [],
   "execution_count": 120
  },
  {
   "metadata": {
    "ExecuteTime": {
     "end_time": "2024-07-21T20:02:11.275334Z",
     "start_time": "2024-07-21T20:02:11.272737Z"
    }
   },
   "cell_type": "code",
   "source": [
    "# # Tạo danh sách cho các cột mới\n",
    "# names, ids, scores = [], [], []\n",
    "# \n",
    "# # Duyệt qua các hàng của dataframe\n",
    "# for i in range(0, len(df), 2):\n",
    "#     if i+1 < len(df):\n",
    "#         names.append(df.iloc[i, 0])\n",
    "#         ids.append(df.iloc[i+1, 0])\n",
    "#         scores.append(df.iloc[i, 2])\n",
    "# \n",
    "# # Tạo dataframe mới với các cột đã tách\n",
    "# new_df = pd.DataFrame({'Họ và Tên': names, 'Số báo danh': ids, 'Điểm': scores})\n",
    "# \n",
    "# # Lưu lại kết quả vào một file Excel mới\n",
    "# output_path = 'DuLieuXin.xlsx'  # Thay thế bằng đường dẫn thật của file đầu ra\n",
    "# new_df.to_excel(output_path, index=False)\n",
    "# \n",
    "# print(\"Đã hoàn thành!\")"
   ],
   "id": "cc3f52039ff49bab",
   "outputs": [],
   "execution_count": 121
  },
  {
   "metadata": {
    "ExecuteTime": {
     "end_time": "2024-07-21T20:02:11.284070Z",
     "start_time": "2024-07-21T20:02:11.276264Z"
    }
   },
   "cell_type": "code",
   "source": "import unicodedata",
   "id": "9d84984420854fb2",
   "outputs": [],
   "execution_count": 122
  },
  {
   "metadata": {
    "ExecuteTime": {
     "end_time": "2024-07-21T20:02:11.288256Z",
     "start_time": "2024-07-21T20:02:11.285559Z"
    }
   },
   "cell_type": "code",
   "source": [
    "def normalize_unicode(text):\n",
    "  return unicodedata.normalize('NFC', text)"
   ],
   "id": "fc7e9d076369af91",
   "outputs": [],
   "execution_count": 123
  },
  {
   "metadata": {
    "ExecuteTime": {
     "end_time": "2024-07-21T20:02:11.325025Z",
     "start_time": "2024-07-21T20:02:11.289270Z"
    }
   },
   "cell_type": "code",
   "source": "df.iloc[:, 0] = df.iloc[:, 0].apply(normalize_unicode)",
   "id": "7ae6105cb9304f05",
   "outputs": [],
   "execution_count": 124
  },
  {
   "metadata": {
    "ExecuteTime": {
     "end_time": "2024-07-21T20:18:37.053434Z",
     "start_time": "2024-07-21T20:18:37.018434Z"
    }
   },
   "cell_type": "code",
   "source": "result = df[df.iloc[:, 0].str.contains(r'PHẠM PHAN TRÚC PHƯƠNG')]",
   "id": "b2be9ebf1ccbe34f",
   "outputs": [],
   "execution_count": 187
  },
  {
   "metadata": {
    "ExecuteTime": {
     "end_time": "2024-07-21T20:18:37.162334Z",
     "start_time": "2024-07-21T20:18:37.158248Z"
    }
   },
   "cell_type": "code",
   "source": "print(result)",
   "id": "df2662d370cb351e",
   "outputs": [
    {
     "name": "stdout",
     "output_type": "stream",
     "text": [
      "                           0         1  \\\n",
      "17730  PHẠM PHAN TRÚC PHƯƠNG  02017776   \n",
      "\n",
      "                                                       2  \n",
      "17730  Toán: 7.20 Ngữ văn: 5.25 Vật lí: 6.00 Hóa học:...  \n"
     ]
    }
   ],
   "execution_count": 188
  },
  {
   "metadata": {
    "ExecuteTime": {
     "end_time": "2024-07-21T20:18:37.329263Z",
     "start_time": "2024-07-21T20:18:37.313828Z"
    }
   },
   "cell_type": "code",
   "source": "result.to_excel('Test.xlsx', index = False)",
   "id": "1724570a9776cef0",
   "outputs": [],
   "execution_count": 189
  },
  {
   "metadata": {
    "ExecuteTime": {
     "end_time": "2024-07-21T20:18:06.071669Z",
     "start_time": "2024-07-21T20:18:06.069093Z"
    }
   },
   "cell_type": "code",
   "source": "",
   "id": "dba98af81ffdd3b1",
   "outputs": [],
   "execution_count": 186
  },
  {
   "metadata": {},
   "cell_type": "code",
   "outputs": [],
   "execution_count": null,
   "source": "",
   "id": "a178d1e7417b4c6e"
  }
 ],
 "metadata": {
  "kernelspec": {
   "display_name": "Python 3",
   "language": "python",
   "name": "python3"
  },
  "language_info": {
   "codemirror_mode": {
    "name": "ipython",
    "version": 2
   },
   "file_extension": ".py",
   "mimetype": "text/x-python",
   "name": "python",
   "nbconvert_exporter": "python",
   "pygments_lexer": "ipython2",
   "version": "2.7.6"
  }
 },
 "nbformat": 4,
 "nbformat_minor": 5
}
