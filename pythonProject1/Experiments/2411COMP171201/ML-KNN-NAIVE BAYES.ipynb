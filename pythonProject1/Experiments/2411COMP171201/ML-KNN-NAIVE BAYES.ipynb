{
 "cells": [
  {
   "cell_type": "code",
   "id": "initial_id",
   "metadata": {
    "collapsed": true,
    "ExecuteTime": {
     "end_time": "2024-10-06T13:52:59.230073Z",
     "start_time": "2024-10-06T13:52:59.225642Z"
    }
   },
   "source": [
    "import pandas as pd\n",
    "import numpy as np\n",
    "import matplotlib.pyplot as plt"
   ],
   "outputs": [],
   "execution_count": 131
  },
  {
   "metadata": {
    "ExecuteTime": {
     "end_time": "2024-10-06T13:52:59.305983Z",
     "start_time": "2024-10-06T13:52:59.295514Z"
    }
   },
   "cell_type": "code",
   "source": [
    "df = pd.read_csv('Maternal Health Risk Data Set.csv')\n",
    "X = df.iloc[:, :-1].values\n",
    "y = df.iloc[:, -1].values\n",
    "from sklearn.compose import ColumnTransformer\n",
    "from sklearn.preprocessing import LabelEncoder, OneHotEncoder, MinMaxScaler\n"
   ],
   "id": "b92ce214bb07073e",
   "outputs": [],
   "execution_count": 132
  },
  {
   "metadata": {
    "ExecuteTime": {
     "end_time": "2024-10-06T13:52:59.363200Z",
     "start_time": "2024-10-06T13:52:59.358376Z"
    }
   },
   "cell_type": "code",
   "source": "print(X)",
   "id": "21d443f6cd52cf07",
   "outputs": [
    {
     "name": "stdout",
     "output_type": "stream",
     "text": [
      "[[ 25. 130.  80.  15.  98.  86.]\n",
      " [ 35. 140.  90.  13.  98.  70.]\n",
      " [ 29.  90.  70.   8. 100.  80.]\n",
      " ...\n",
      " [ 35.  85.  60.  19.  98.  86.]\n",
      " [ 43. 120.  90.  18.  98.  70.]\n",
      " [ 32. 120.  65.   6. 101.  76.]]\n"
     ]
    }
   ],
   "execution_count": 133
  },
  {
   "metadata": {
    "ExecuteTime": {
     "end_time": "2024-10-06T13:52:59.426986Z",
     "start_time": "2024-10-06T13:52:59.422513Z"
    }
   },
   "cell_type": "code",
   "source": "print(y)",
   "id": "85cbaa65c9a2b54",
   "outputs": [
    {
     "name": "stdout",
     "output_type": "stream",
     "text": [
      "['high risk' 'high risk' 'high risk' ... 'high risk' 'high risk'\n",
      " 'mid risk']\n"
     ]
    }
   ],
   "execution_count": 134
  },
  {
   "metadata": {
    "ExecuteTime": {
     "end_time": "2024-10-06T13:52:59.494434Z",
     "start_time": "2024-10-06T13:52:59.483733Z"
    }
   },
   "cell_type": "code",
   "source": "df.info()",
   "id": "d5cafc1c060d01bb",
   "outputs": [
    {
     "name": "stdout",
     "output_type": "stream",
     "text": [
      "<class 'pandas.core.frame.DataFrame'>\n",
      "RangeIndex: 1014 entries, 0 to 1013\n",
      "Data columns (total 7 columns):\n",
      " #   Column       Non-Null Count  Dtype  \n",
      "---  ------       --------------  -----  \n",
      " 0   Age          1014 non-null   int64  \n",
      " 1   SystolicBP   1014 non-null   int64  \n",
      " 2   DiastolicBP  1014 non-null   int64  \n",
      " 3   BS           1014 non-null   float64\n",
      " 4   BodyTemp     1014 non-null   float64\n",
      " 5   HeartRate    1014 non-null   int64  \n",
      " 6   RiskLevel    1014 non-null   object \n",
      "dtypes: float64(2), int64(4), object(1)\n",
      "memory usage: 55.6+ KB\n"
     ]
    }
   ],
   "execution_count": 135
  },
  {
   "metadata": {
    "ExecuteTime": {
     "end_time": "2024-10-06T13:52:59.579930Z",
     "start_time": "2024-10-06T13:52:59.573404Z"
    }
   },
   "cell_type": "code",
   "source": [
    "from sklearn.model_selection import train_test_split\n",
    "X_train, X_test, y_train, y_test = train_test_split(X, y, test_size=0.2, random_state=0)\n",
    "le = LabelEncoder()\n",
    "y_train = le.fit_transform(y_train)\n",
    "y_test = le.transform(y_test)"
   ],
   "id": "6987f9c0e086342a",
   "outputs": [],
   "execution_count": 136
  },
  {
   "metadata": {
    "ExecuteTime": {
     "end_time": "2024-10-06T13:52:59.780205Z",
     "start_time": "2024-10-06T13:52:59.631315Z"
    }
   },
   "cell_type": "code",
   "source": [
    "from sklearn.neighbors import KNeighborsClassifier\n",
    "knn = KNeighborsClassifier(n_neighbors=10, p=3)\n",
    "knn.fit(X_train, y_train)\n",
    "y_pred_test_knn = knn.predict(X_test)\n",
    "print(f'Accuracy on test set: {knn.score(X_test, y_test)}')\n",
    "print(f'Accuracy on train set: {knn.score(X_train, y_train)}')"
   ],
   "id": "a9be9f5fa617f2ee",
   "outputs": [
    {
     "name": "stdout",
     "output_type": "stream",
     "text": [
      "Accuracy on test set: 0.6551724137931034\n",
      "Accuracy on train set: 0.7398273736128237\n"
     ]
    }
   ],
   "execution_count": 137
  },
  {
   "metadata": {
    "ExecuteTime": {
     "end_time": "2024-10-06T13:53:00.049567Z",
     "start_time": "2024-10-06T13:52:59.807791Z"
    }
   },
   "cell_type": "code",
   "source": [
    "from sklearn.metrics import confusion_matrix, ConfusionMatrixDisplay\n",
    "cm = confusion_matrix(y_test, y_pred_test_knn, labels=knn.classes_)\n",
    "disp = ConfusionMatrixDisplay(confusion_matrix=cm, display_labels=knn.classes_)\n",
    "disp.plot()\n",
    "plt.gca().grid(False)"
   ],
   "id": "6047f7dc72f338d2",
   "outputs": [
    {
     "data": {
      "text/plain": [
       "<Figure size 640x480 with 2 Axes>"
      ],
      "image/png": "[encoded data removed]"
     },
     "metadata": {},
     "output_type": "display_data"
    }
   ],
   "execution_count": 138
  },
  {
   "metadata": {
    "ExecuteTime": {
     "end_time": "2024-10-06T13:53:00.085470Z",
     "start_time": "2024-10-06T13:53:00.076747Z"
    }
   },
   "cell_type": "code",
   "source": [
    "from sklearn.naive_bayes import GaussianNB\n",
    "gnb = GaussianNB()\n",
    "gnb.fit(X_train, y_train)\n",
    "y_pred_test_gnb = gnb.predict(X_test)\n",
    "print(f'Accuracy on test set: {gnb.score(X_test, y_test)}')\n",
    "print(f'Accuracy on train set: {gnb.score(X_train, y_train)}')"
   ],
   "id": "af210303701a89fb",
   "outputs": [
    {
     "name": "stdout",
     "output_type": "stream",
     "text": [
      "Accuracy on test set: 0.5566502463054187\n",
      "Accuracy on train set: 0.6177558569667078\n"
     ]
    }
   ],
   "execution_count": 139
  },
  {
   "metadata": {
    "ExecuteTime": {
     "end_time": "2024-10-06T13:53:00.373911Z",
     "start_time": "2024-10-06T13:53:00.135301Z"
    }
   },
   "cell_type": "code",
   "source": [
    "from sklearn.metrics import confusion_matrix, ConfusionMatrixDisplay\n",
    "cm = confusion_matrix(y_test, y_pred_test_gnb, labels=gnb.classes_)\n",
    "disp = ConfusionMatrixDisplay(confusion_matrix=cm, display_labels=knn.classes_)\n",
    "disp.plot()\n",
    "plt.gca().grid(False)"
   ],
   "id": "e24518ac7ae13887",
   "outputs": [
    {
     "data": {
      "text/plain": [
       "<Figure size 640x480 with 2 Axes>"
      ],
      "image/png": "[encoded data removed]"
     },
     "metadata": {},
     "output_type": "display_data"
    }
   ],
   "execution_count": 140
  },
  {
   "metadata": {
    "ExecuteTime": {
     "end_time": "2024-10-06T13:53:00.401242Z",
     "start_time": "2024-10-06T13:53:00.398496Z"
    }
   },
   "cell_type": "code",
   "source": "#Cross entropy",
   "id": "df66b59fd8590107",
   "outputs": [],
   "execution_count": 141
  },
  {
   "metadata": {
    "ExecuteTime": {
     "end_time": "2024-10-06T13:53:00.458813Z",
     "start_time": "2024-10-06T13:53:00.451582Z"
    }
   },
   "cell_type": "code",
   "source": [
    "from sklearn.metrics import log_loss\n",
    "\n",
    "# Dự đoán xác suất thay vì nhãn\n",
    "y_prob_test_gnb = gnb.predict_proba(X_test)\n",
    "print(y_test)\n",
    "\n",
    "# Tính cross-entropy (log loss) giữa nhãn thực tế và xác suất dự đoán\n",
    "cross_entropy_loss = log_loss(y_test, y_prob_test_gnb)\n",
    "\n",
    "print(f'Cross-entropy loss on test set: {cross_entropy_loss}')"
   ],
   "id": "9f146f0e1ef387c7",
   "outputs": [
    {
     "name": "stdout",
     "output_type": "stream",
     "text": [
      "[1 2 1 0 2 0 0 0 1 1 1 2 1 2 1 1 2 0 0 1 2 1 2 0 2 2 2 2 2 2 0 2 2 0 2 2 0\n",
      " 2 0 0 1 1 1 2 2 1 0 1 1 1 2 1 0 0 2 2 0 0 1 0 1 0 0 1 0 2 1 2 0 1 2 0 2 1\n",
      " 2 1 2 1 2 1 2 0 1 1 1 2 1 0 1 0 1 0 2 1 0 1 2 2 2 0 0 2 1 1 1 2 1 2 2 2 1\n",
      " 0 2 1 2 0 1 0 2 0 2 2 2 2 1 1 2 1 1 1 1 2 2 1 1 2 2 2 1 1 1 1 2 0 2 1 2 2\n",
      " 2 2 2 1 1 0 1 1 1 1 1 2 1 2 2 0 1 1 2 1 1 0 2 2 2 2 0 0 2 1 0 0 1 2 0 0 2\n",
      " 0 1 0 0 2 2 0 1 2 0 0 2 1 1 2 1 1 0]\n",
      "Cross-entropy loss on test set: 1.1095476760263188\n"
     ]
    }
   ],
   "execution_count": 142
  },
  {
   "metadata": {
    "ExecuteTime": {
     "end_time": "2024-10-06T13:53:00.603894Z",
     "start_time": "2024-10-06T13:53:00.588946Z"
    }
   },
   "cell_type": "code",
   "source": [
    "from sklearn.metrics import log_loss\n",
    "\n",
    "# Dự đoán xác suất thay vì nhãn\n",
    "y_prob_test_knn = knn.predict_proba(X_test)\n",
    "\n",
    "# Tính cross-entropy (log loss) giữa nhãn thực tế và xác suất dự đoán\n",
    "cross_entropy_loss = log_loss(y_test, y_prob_test_knn)\n",
    "\n",
    "print(f'Cross-entropy loss on test set (knn): {cross_entropy_loss}')"
   ],
   "id": "285a0ae791ae52d5",
   "outputs": [
    {
     "name": "stdout",
     "output_type": "stream",
     "text": [
      "Cross-entropy loss on test set (knn): 1.53575086877104\n"
     ]
    }
   ],
   "execution_count": 143
  },
  {
   "metadata": {
    "ExecuteTime": {
     "end_time": "2024-10-06T13:53:00.757310Z",
     "start_time": "2024-10-06T13:53:00.748316Z"
    }
   },
   "cell_type": "code",
   "source": [
    "from sklearn.metrics import f1_score\n",
    "score = f1_score(y_test, y_pred_test_knn, average='macro')\n",
    "print(f'F1 score (knn) on test set: {score}')"
   ],
   "id": "aface409bcca6cdf",
   "outputs": [
    {
     "name": "stdout",
     "output_type": "stream",
     "text": [
      "F1 score (knn) on test set: 0.6489428162267813\n"
     ]
    }
   ],
   "execution_count": 144
  },
  {
   "metadata": {
    "ExecuteTime": {
     "end_time": "2024-10-06T13:53:00.898353Z",
     "start_time": "2024-10-06T13:53:00.889052Z"
    }
   },
   "cell_type": "code",
   "source": [
    "from sklearn.metrics import f1_score\n",
    "score = f1_score(y_test, y_pred_test_gnb, average='macro')\n",
    "print(f'F1 score (Naive Bayes) on test set: {score}')"
   ],
   "id": "94834d733c7a5851",
   "outputs": [
    {
     "name": "stdout",
     "output_type": "stream",
     "text": [
      "F1 score (Naive Bayes) on test set: 0.5183490010140598\n"
     ]
    }
   ],
   "execution_count": 145
  },
  {
   "metadata": {
    "ExecuteTime": {
     "end_time": "2024-10-06T13:53:01.049875Z",
     "start_time": "2024-10-06T13:53:01.040238Z"
    }
   },
   "cell_type": "code",
   "source": [
    "from sklearn.metrics import recall_score\n",
    "score = recall_score(y_test, y_pred_test_knn, average='macro')\n",
    "print(f'Recall score (knn) on test set: {score}')"
   ],
   "id": "6ce04073edf30c94",
   "outputs": [
    {
     "name": "stdout",
     "output_type": "stream",
     "text": [
      "Recall score (knn) on test set: 0.6512146676852559\n"
     ]
    }
   ],
   "execution_count": 146
  },
  {
   "metadata": {
    "ExecuteTime": {
     "end_time": "2024-10-06T13:53:01.170649Z",
     "start_time": "2024-10-06T13:53:01.161162Z"
    }
   },
   "cell_type": "code",
   "source": [
    "from sklearn.metrics import recall_score\n",
    "score = recall_score(y_test, y_pred_test_gnb, average='macro')\n",
    "print(f'Recall score (gnb) on test set: {score}')"
   ],
   "id": "ee312ac099802d0e",
   "outputs": [
    {
     "name": "stdout",
     "output_type": "stream",
     "text": [
      "Recall score (gnb) on test set: 0.5702028690263984\n"
     ]
    }
   ],
   "execution_count": 147
  }
 ],
 "metadata": {
  "kernelspec": {
   "display_name": "Python 3",
   "language": "python",
   "name": "python3"
  },
  "language_info": {
   "codemirror_mode": {
    "name": "ipython",
    "version": 2
   },
   "file_extension": ".py",
   "mimetype": "text/x-python",
   "name": "python",
   "nbconvert_exporter": "python",
   "pygments_lexer": "ipython2",
   "version": "2.7.6"
  }
 },
 "nbformat": 4,
 "nbformat_minor": 5
}
