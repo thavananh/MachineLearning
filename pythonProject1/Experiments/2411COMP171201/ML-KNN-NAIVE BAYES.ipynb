{
 "cells": [
  {
   "cell_type": "code",
   "id": "initial_id",
   "metadata": {
    "collapsed": true,
    "ExecuteTime": {
     "end_time": "2024-10-06T03:28:05.808537Z",
     "start_time": "2024-10-06T03:28:05.804455Z"
    }
   },
   "source": [
    "import pandas as pd\n",
    "import numpy as np\n",
    "import matplotlib.pyplot as plt"
   ],
   "outputs": [],
   "execution_count": 5
  },
  {
   "metadata": {
    "ExecuteTime": {
     "end_time": "2024-10-06T03:28:05.853354Z",
     "start_time": "2024-10-06T03:28:05.842579Z"
    }
   },
   "cell_type": "code",
   "source": [
    "df = pd.read_csv('Maternal Health Risk Data Set.csv')\n",
    "X = df.iloc[:, :-1].values\n",
    "y = df.iloc[:, -1].values"
   ],
   "id": "b92ce214bb07073e",
   "outputs": [],
   "execution_count": 6
  },
  {
   "metadata": {
    "ExecuteTime": {
     "end_time": "2024-10-06T03:28:05.874502Z",
     "start_time": "2024-10-06T03:28:05.869034Z"
    }
   },
   "cell_type": "code",
   "source": "print(X)",
   "id": "21d443f6cd52cf07",
   "outputs": [
    {
     "name": "stdout",
     "output_type": "stream",
     "text": [
      "[[ 25. 130.  80.  15.  98.  86.]\n",
      " [ 35. 140.  90.  13.  98.  70.]\n",
      " [ 29.  90.  70.   8. 100.  80.]\n",
      " ...\n",
      " [ 35.  85.  60.  19.  98.  86.]\n",
      " [ 43. 120.  90.  18.  98.  70.]\n",
      " [ 32. 120.  65.   6. 101.  76.]]\n"
     ]
    }
   ],
   "execution_count": 7
  },
  {
   "metadata": {
    "ExecuteTime": {
     "end_time": "2024-10-06T03:28:05.972716Z",
     "start_time": "2024-10-06T03:28:05.970170Z"
    }
   },
   "cell_type": "code",
   "source": "print(y)",
   "id": "85cbaa65c9a2b54",
   "outputs": [
    {
     "name": "stdout",
     "output_type": "stream",
     "text": [
      "['high risk' 'high risk' 'high risk' ... 'high risk' 'high risk'\n",
      " 'mid risk']\n"
     ]
    }
   ],
   "execution_count": 8
  },
  {
   "metadata": {
    "ExecuteTime": {
     "end_time": "2024-10-06T03:28:06.111877Z",
     "start_time": "2024-10-06T03:28:06.086748Z"
    }
   },
   "cell_type": "code",
   "source": "df.info()\n",
   "id": "d5cafc1c060d01bb",
   "outputs": [
    {
     "name": "stdout",
     "output_type": "stream",
     "text": [
      "<class 'pandas.core.frame.DataFrame'>\n",
      "RangeIndex: 1014 entries, 0 to 1013\n",
      "Data columns (total 7 columns):\n",
      " #   Column       Non-Null Count  Dtype  \n",
      "---  ------       --------------  -----  \n",
      " 0   Age          1014 non-null   int64  \n",
      " 1   SystolicBP   1014 non-null   int64  \n",
      " 2   DiastolicBP  1014 non-null   int64  \n",
      " 3   BS           1014 non-null   float64\n",
      " 4   BodyTemp     1014 non-null   float64\n",
      " 5   HeartRate    1014 non-null   int64  \n",
      " 6   RiskLevel    1014 non-null   object \n",
      "dtypes: float64(2), int64(4), object(1)\n",
      "memory usage: 55.6+ KB\n"
     ]
    }
   ],
   "execution_count": 9
  },
  {
   "metadata": {},
   "cell_type": "code",
   "outputs": [],
   "execution_count": null,
   "source": "from sklearn.",
   "id": "a9be9f5fa617f2ee"
  }
 ],
 "metadata": {
  "kernelspec": {
   "display_name": "Python 3",
   "language": "python",
   "name": "python3"
  },
  "language_info": {
   "codemirror_mode": {
    "name": "ipython",
    "version": 2
   },
   "file_extension": ".py",
   "mimetype": "text/x-python",
   "name": "python",
   "nbconvert_exporter": "python",
   "pygments_lexer": "ipython2",
   "version": "2.7.6"
  }
 },
 "nbformat": 4,
 "nbformat_minor": 5
}
