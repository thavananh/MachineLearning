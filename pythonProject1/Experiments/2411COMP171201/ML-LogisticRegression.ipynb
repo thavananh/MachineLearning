{
 "cells": [
  {
   "cell_type": "code",
   "execution_count": 149,
   "id": "initial_id",
   "metadata": {
    "ExecuteTime": {
     "end_time": "2024-09-20T03:35:26.510843Z",
     "start_time": "2024-09-20T03:35:24.956436Z"
    },
    "collapsed": true
   },
   "outputs": [],
   "source": [
    "import numpy as np\n",
    "import pandas as pd\n",
    "import matplotlib.pyplot as plt\n",
    "import matplotlib"
   ]
  },
  {
   "cell_type": "code",
   "execution_count": 150,
   "id": "4ae3e266203bd6df",
   "metadata": {
    "ExecuteTime": {
     "end_time": "2024-09-20T03:36:06.125084Z",
     "start_time": "2024-09-20T03:36:06.020086Z"
    }
   },
   "outputs": [],
   "source": [
    "df = pd.read_csv('Maternal Health Risk Data Set.csv')\n",
    "X = df.iloc[:, :-1].values\n",
    "y = df.iloc[:, -1].values"
   ]
  },
  {
   "cell_type": "code",
   "execution_count": 151,
   "id": "abeaa381856cbf22",
   "metadata": {
    "ExecuteTime": {
     "end_time": "2024-09-20T03:35:27.609583600Z",
     "start_time": "2024-09-20T02:10:52.998854Z"
    }
   },
   "outputs": [
    {
     "name": "stdout",
     "output_type": "stream",
     "text": [
      "[[ 25. 130.  80.  15.  98.  86.]\n",
      " [ 35. 140.  90.  13.  98.  70.]\n",
      " [ 29.  90.  70.   8. 100.  80.]\n",
      " ...\n",
      " [ 35.  85.  60.  19.  98.  86.]\n",
      " [ 43. 120.  90.  18.  98.  70.]\n",
      " [ 32. 120.  65.   6. 101.  76.]]\n"
     ]
    }
   ],
   "source": [
    "print(X)"
   ]
  },
  {
   "cell_type": "code",
   "execution_count": 152,
   "id": "d5e32d2c6c894c94",
   "metadata": {
    "ExecuteTime": {
     "end_time": "2024-09-20T03:35:27.612952100Z",
     "start_time": "2024-09-20T02:10:53.066100Z"
    }
   },
   "outputs": [
    {
     "name": "stdout",
     "output_type": "stream",
     "text": [
      "['high risk' 'high risk' 'high risk' ... 'high risk' 'high risk'\n",
      " 'mid risk']\n"
     ]
    }
   ],
   "source": [
    "print(y)"
   ]
  },
  {
   "cell_type": "code",
   "execution_count": 153,
   "id": "aeb795f5a8cf0cc6",
   "metadata": {
    "ExecuteTime": {
     "end_time": "2024-09-20T03:35:27.612952100Z",
     "start_time": "2024-09-20T02:10:53.129541Z"
    }
   },
   "outputs": [
    {
     "name": "stdout",
     "output_type": "stream",
     "text": [
      "False\n"
     ]
    }
   ],
   "source": [
    "from sklearn.impute import SimpleImputer\n",
    "flag = False\n",
    "for i in df.columns.tolist():\n",
    "    if ('?' in df[i].tolist() or '' in df[i].tolist()):\n",
    "        print(f'There are missing values in {i} row, please check it')\n",
    "        flag = True\n",
    "print(flag)"
   ]
  },
  {
   "cell_type": "code",
   "execution_count": 154,
   "id": "733b47bac4ea0f9e",
   "metadata": {
    "ExecuteTime": {
     "end_time": "2024-09-20T03:35:27.612952100Z",
     "start_time": "2024-09-20T02:10:53.214138Z"
    }
   },
   "outputs": [
    {
     "data": {
      "text/html": [
       "<div>\n",
       "<style scoped>\n",
       "    .dataframe tbody tr th:only-of-type {\n",
       "        vertical-align: middle;\n",
       "    }\n",
       "\n",
       "    .dataframe tbody tr th {\n",
       "        vertical-align: top;\n",
       "    }\n",
       "\n",
       "    .dataframe thead th {\n",
       "        text-align: right;\n",
       "    }\n",
       "</style>\n",
       "<table border=\"1\" class=\"dataframe\">\n",
       "  <thead>\n",
       "    <tr style=\"text-align: right;\">\n",
       "      <th></th>\n",
       "      <th>Age</th>\n",
       "      <th>SystolicBP</th>\n",
       "      <th>DiastolicBP</th>\n",
       "      <th>BS</th>\n",
       "      <th>BodyTemp</th>\n",
       "      <th>HeartRate</th>\n",
       "      <th>RiskLevel</th>\n",
       "    </tr>\n",
       "  </thead>\n",
       "  <tbody>\n",
       "    <tr>\n",
       "      <th>0</th>\n",
       "      <td>False</td>\n",
       "      <td>False</td>\n",
       "      <td>False</td>\n",
       "      <td>False</td>\n",
       "      <td>False</td>\n",
       "      <td>False</td>\n",
       "      <td>False</td>\n",
       "    </tr>\n",
       "    <tr>\n",
       "      <th>1</th>\n",
       "      <td>False</td>\n",
       "      <td>False</td>\n",
       "      <td>False</td>\n",
       "      <td>False</td>\n",
       "      <td>False</td>\n",
       "      <td>False</td>\n",
       "      <td>False</td>\n",
       "    </tr>\n",
       "    <tr>\n",
       "      <th>2</th>\n",
       "      <td>False</td>\n",
       "      <td>False</td>\n",
       "      <td>False</td>\n",
       "      <td>False</td>\n",
       "      <td>False</td>\n",
       "      <td>False</td>\n",
       "      <td>False</td>\n",
       "    </tr>\n",
       "    <tr>\n",
       "      <th>3</th>\n",
       "      <td>False</td>\n",
       "      <td>False</td>\n",
       "      <td>False</td>\n",
       "      <td>False</td>\n",
       "      <td>False</td>\n",
       "      <td>False</td>\n",
       "      <td>False</td>\n",
       "    </tr>\n",
       "    <tr>\n",
       "      <th>4</th>\n",
       "      <td>False</td>\n",
       "      <td>False</td>\n",
       "      <td>False</td>\n",
       "      <td>False</td>\n",
       "      <td>False</td>\n",
       "      <td>False</td>\n",
       "      <td>False</td>\n",
       "    </tr>\n",
       "  </tbody>\n",
       "</table>\n",
       "</div>"
      ],
      "text/plain": [
       "     Age  SystolicBP  DiastolicBP     BS  BodyTemp  HeartRate  RiskLevel\n",
       "0  False       False        False  False     False      False      False\n",
       "1  False       False        False  False     False      False      False\n",
       "2  False       False        False  False     False      False      False\n",
       "3  False       False        False  False     False      False      False\n",
       "4  False       False        False  False     False      False      False"
      ]
     },
     "execution_count": 154,
     "metadata": {},
     "output_type": "execute_result"
    }
   ],
   "source": [
    "tmp = df.isnull()\n",
    "tmp.head()"
   ]
  },
  {
   "cell_type": "code",
   "execution_count": 155,
   "id": "7ead6fda59c74c84",
   "metadata": {
    "ExecuteTime": {
     "end_time": "2024-09-20T03:35:27.612952100Z",
     "start_time": "2024-09-20T02:10:53.324990Z"
    }
   },
   "outputs": [
    {
     "name": "stdout",
     "output_type": "stream",
     "text": [
      "Age\n",
      "False    1014\n",
      "Name: count, dtype: int64\n",
      "\n",
      "SystolicBP\n",
      "False    1014\n",
      "Name: count, dtype: int64\n",
      "\n",
      "DiastolicBP\n",
      "False    1014\n",
      "Name: count, dtype: int64\n",
      "\n",
      "BS\n",
      "False    1014\n",
      "Name: count, dtype: int64\n",
      "\n",
      "BodyTemp\n",
      "False    1014\n",
      "Name: count, dtype: int64\n",
      "\n",
      "HeartRate\n",
      "False    1014\n",
      "Name: count, dtype: int64\n",
      "\n",
      "RiskLevel\n",
      "False    1014\n",
      "Name: count, dtype: int64\n",
      "\n"
     ]
    }
   ],
   "source": [
    "for i in tmp.columns.tolist():\n",
    "    print(tmp[i].value_counts())\n",
    "    print('')"
   ]
  },
  {
   "cell_type": "code",
   "execution_count": 156,
   "id": "c71284bd25b12b75",
   "metadata": {
    "ExecuteTime": {
     "end_time": "2024-09-20T03:35:27.612952100Z",
     "start_time": "2024-09-20T02:10:53.392453Z"
    }
   },
   "outputs": [
    {
     "name": "stdout",
     "output_type": "stream",
     "text": [
      "<class 'pandas.core.frame.DataFrame'>\n",
      "RangeIndex: 1014 entries, 0 to 1013\n",
      "Data columns (total 7 columns):\n",
      " #   Column       Non-Null Count  Dtype  \n",
      "---  ------       --------------  -----  \n",
      " 0   Age          1014 non-null   int64  \n",
      " 1   SystolicBP   1014 non-null   int64  \n",
      " 2   DiastolicBP  1014 non-null   int64  \n",
      " 3   BS           1014 non-null   float64\n",
      " 4   BodyTemp     1014 non-null   float64\n",
      " 5   HeartRate    1014 non-null   int64  \n",
      " 6   RiskLevel    1014 non-null   object \n",
      "dtypes: float64(2), int64(4), object(1)\n",
      "memory usage: 55.6+ KB\n"
     ]
    }
   ],
   "source": [
    "df.info()"
   ]
  },
  {
   "cell_type": "code",
   "execution_count": 157,
   "id": "a8edf1c92678284d",
   "metadata": {
    "ExecuteTime": {
     "end_time": "2024-09-20T03:35:27.612952100Z",
     "start_time": "2024-09-20T02:10:53.762744Z"
    }
   },
   "outputs": [],
   "source": [
    "from sklearn.preprocessing import StandardScaler\n",
    "sc = StandardScaler()\n",
    "X = sc.fit_transform(X)"
   ]
  },
  {
   "cell_type": "code",
   "execution_count": 158,
   "id": "3c52155da2a9a50a",
   "metadata": {
    "ExecuteTime": {
     "end_time": "2024-09-20T03:35:27.662796900Z",
     "start_time": "2024-09-20T02:10:53.874657Z"
    }
   },
   "outputs": [
    {
     "name": "stdout",
     "output_type": "stream",
     "text": [
      "['high risk' 'low risk' 'mid risk']\n"
     ]
    }
   ],
   "source": [
    "print(np.unique(y))"
   ]
  },
  {
   "cell_type": "code",
   "execution_count": 159,
   "id": "7530ea3681410f26",
   "metadata": {
    "ExecuteTime": {
     "end_time": "2024-09-20T03:35:27.670857400Z",
     "start_time": "2024-09-20T02:10:54.047234Z"
    }
   },
   "outputs": [],
   "source": [
    "# for i in range(len(y)):\n",
    "#     if y[i] == 'high risk':\n",
    "#         y[i] = 0\n",
    "#     elif y[i] == 'low risk':\n",
    "#         y[i] = 1\n",
    "#     elif y[i] == 'mid risk':\n",
    "#         y[i] = 2"
   ]
  },
  {
   "cell_type": "code",
   "execution_count": 160,
   "id": "43ff4606517df578",
   "metadata": {
    "ExecuteTime": {
     "end_time": "2024-09-20T03:35:27.670857400Z",
     "start_time": "2024-09-20T02:10:54.114263Z"
    }
   },
   "outputs": [
    {
     "name": "stdout",
     "output_type": "stream",
     "text": [
      "['high risk' 'high risk' 'high risk' ... 'high risk' 'high risk'\n",
      " 'mid risk']\n"
     ]
    }
   ],
   "source": [
    "print(y)"
   ]
  },
  {
   "cell_type": "code",
   "execution_count": 161,
   "id": "b53c3467be0e84b1",
   "metadata": {
    "ExecuteTime": {
     "end_time": "2024-09-20T03:35:27.670857400Z",
     "start_time": "2024-09-20T02:10:54.274223Z"
    }
   },
   "outputs": [],
   "source": [
    "from sklearn.linear_model import LogisticRegression\n",
    "logisticReg = LogisticRegression(tol=1e-12, max_iter=10000000, n_jobs=-1, solver='saga', penalty='elasticnet', l1_ratio=0.4)\n",
    "logisticReg.fit(X, y)\n",
    "y_pred = logisticReg.predict(X)     "
   ]
  },
  {
   "cell_type": "code",
   "execution_count": 162,
   "id": "644fbf84",
   "metadata": {},
   "outputs": [
    {
     "name": "stdout",
     "output_type": "stream",
     "text": [
      "              precision    recall  f1-score   support\n",
      "\n",
      "   high risk       0.75      0.73      0.74       272\n",
      "    low risk       0.64      0.79      0.71       406\n",
      "    mid risk       0.47      0.34      0.39       336\n",
      "\n",
      "    accuracy                           0.62      1014\n",
      "   macro avg       0.62      0.62      0.61      1014\n",
      "weighted avg       0.61      0.62      0.61      1014\n",
      "\n"
     ]
    }
   ],
   "source": [
    "from sklearn.metrics import classification_report\n",
    "print(classification_report(y, y_pred))         "
   ]
  },
  {
   "cell_type": "code",
   "execution_count": 163,
   "id": "29c4c526edf4ed20",
   "metadata": {},
   "outputs": [
    {
     "data": {
      "image/png": "[encoded data removed]",
      "text/plain": [
       "<Figure size 640x480 with 2 Axes>"
      ]
     },
     "metadata": {},
     "output_type": "display_data"
    }
   ],
   "source": [
    "from sklearn.metrics import confusion_matrix, ConfusionMatrixDisplay\n",
    "cm = confusion_matrix(y, y_pred, labels=logisticReg.classes_)\n",
    "disp = ConfusionMatrixDisplay(confusion_matrix=cm, display_labels=logisticReg.classes_)\n",
    "disp.plot()\n",
    "plt.gca().grid(False)"
   ]
  }
 ],
 "metadata": {
  "kernelspec": {
   "display_name": "Python 3",
   "language": "python",
   "name": "python3"
  },
  "language_info": {
   "codemirror_mode": {
    "name": "ipython",
    "version": 3
   },
   "file_extension": ".py",
   "mimetype": "text/x-python",
   "name": "python",
   "nbconvert_exporter": "python",
   "pygments_lexer": "ipython3",
   "version": "3.12.4"
  }
 },
 "nbformat": 4,
 "nbformat_minor": 5
}
