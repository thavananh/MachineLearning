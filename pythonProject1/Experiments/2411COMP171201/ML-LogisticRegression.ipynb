{
 "cells": [
  {
   "cell_type": "code",
   "id": "initial_id",
   "metadata": {
    "collapsed": true,
    "ExecuteTime": {
     "end_time": "2024-09-20T02:10:52.874920Z",
     "start_time": "2024-09-20T02:10:52.870117Z"
    }
   },
   "source": [
    "import numpy as np\n",
    "import pandas as pd\n",
    "import matplotlib.pyplot as plt"
   ],
   "outputs": [],
   "execution_count": 117
  },
  {
   "metadata": {
    "ExecuteTime": {
     "end_time": "2024-09-20T02:10:52.950948Z",
     "start_time": "2024-09-20T02:10:52.940157Z"
    }
   },
   "cell_type": "code",
   "source": [
    "df = pd.read_csv('Maternal Health Risk Data Set.csv')\n",
    "X = df.iloc[:, :-1].values\n",
    "y = df.iloc[:, -1].values"
   ],
   "id": "4ae3e266203bd6df",
   "outputs": [],
   "execution_count": 118
  },
  {
   "metadata": {
    "ExecuteTime": {
     "end_time": "2024-09-20T02:10:53.004444Z",
     "start_time": "2024-09-20T02:10:52.998854Z"
    }
   },
   "cell_type": "code",
   "source": "print(X)",
   "id": "abeaa381856cbf22",
   "outputs": [
    {
     "name": "stdout",
     "output_type": "stream",
     "text": [
      "[[ 25. 130.  80.  15.  98.  86.]\n",
      " [ 35. 140.  90.  13.  98.  70.]\n",
      " [ 29.  90.  70.   8. 100.  80.]\n",
      " ...\n",
      " [ 35.  85.  60.  19.  98.  86.]\n",
      " [ 43. 120.  90.  18.  98.  70.]\n",
      " [ 32. 120.  65.   6. 101.  76.]]\n"
     ]
    }
   ],
   "execution_count": 119
  },
  {
   "metadata": {
    "ExecuteTime": {
     "end_time": "2024-09-20T02:10:53.071653Z",
     "start_time": "2024-09-20T02:10:53.066100Z"
    }
   },
   "cell_type": "code",
   "source": "print(y)",
   "id": "d5e32d2c6c894c94",
   "outputs": [
    {
     "name": "stdout",
     "output_type": "stream",
     "text": [
      "['high risk' 'high risk' 'high risk' ... 'high risk' 'high risk'\n",
      " 'mid risk']\n"
     ]
    }
   ],
   "execution_count": 120
  },
  {
   "metadata": {
    "ExecuteTime": {
     "end_time": "2024-09-20T02:10:53.137694Z",
     "start_time": "2024-09-20T02:10:53.129541Z"
    }
   },
   "cell_type": "code",
   "source": [
    "from sklearn.impute import SimpleImputer\n",
    "flag = False\n",
    "for i in df.columns.tolist():\n",
    "    if ('?' in df[i].tolist() or '' in df[i].tolist()):\n",
    "        print(f'There are missing values in {i} row, please check it')\n",
    "        flag = True\n",
    "print(flag)"
   ],
   "id": "aeb795f5a8cf0cc6",
   "outputs": [
    {
     "name": "stdout",
     "output_type": "stream",
     "text": [
      "False\n"
     ]
    }
   ],
   "execution_count": 121
  },
  {
   "metadata": {
    "ExecuteTime": {
     "end_time": "2024-09-20T02:10:53.230646Z",
     "start_time": "2024-09-20T02:10:53.214138Z"
    }
   },
   "cell_type": "code",
   "source": [
    "tmp = df.isnull()\n",
    "tmp.head()"
   ],
   "id": "733b47bac4ea0f9e",
   "outputs": [
    {
     "data": {
      "text/plain": [
       "     Age  SystolicBP  DiastolicBP     BS  BodyTemp  HeartRate  RiskLevel\n",
       "0  False       False        False  False     False      False      False\n",
       "1  False       False        False  False     False      False      False\n",
       "2  False       False        False  False     False      False      False\n",
       "3  False       False        False  False     False      False      False\n",
       "4  False       False        False  False     False      False      False"
      ],
      "text/html": [
       "<div>\n",
       "<style scoped>\n",
       "    .dataframe tbody tr th:only-of-type {\n",
       "        vertical-align: middle;\n",
       "    }\n",
       "\n",
       "    .dataframe tbody tr th {\n",
       "        vertical-align: top;\n",
       "    }\n",
       "\n",
       "    .dataframe thead th {\n",
       "        text-align: right;\n",
       "    }\n",
       "</style>\n",
       "<table border=\"1\" class=\"dataframe\">\n",
       "  <thead>\n",
       "    <tr style=\"text-align: right;\">\n",
       "      <th></th>\n",
       "      <th>Age</th>\n",
       "      <th>SystolicBP</th>\n",
       "      <th>DiastolicBP</th>\n",
       "      <th>BS</th>\n",
       "      <th>BodyTemp</th>\n",
       "      <th>HeartRate</th>\n",
       "      <th>RiskLevel</th>\n",
       "    </tr>\n",
       "  </thead>\n",
       "  <tbody>\n",
       "    <tr>\n",
       "      <th>0</th>\n",
       "      <td>False</td>\n",
       "      <td>False</td>\n",
       "      <td>False</td>\n",
       "      <td>False</td>\n",
       "      <td>False</td>\n",
       "      <td>False</td>\n",
       "      <td>False</td>\n",
       "    </tr>\n",
       "    <tr>\n",
       "      <th>1</th>\n",
       "      <td>False</td>\n",
       "      <td>False</td>\n",
       "      <td>False</td>\n",
       "      <td>False</td>\n",
       "      <td>False</td>\n",
       "      <td>False</td>\n",
       "      <td>False</td>\n",
       "    </tr>\n",
       "    <tr>\n",
       "      <th>2</th>\n",
       "      <td>False</td>\n",
       "      <td>False</td>\n",
       "      <td>False</td>\n",
       "      <td>False</td>\n",
       "      <td>False</td>\n",
       "      <td>False</td>\n",
       "      <td>False</td>\n",
       "    </tr>\n",
       "    <tr>\n",
       "      <th>3</th>\n",
       "      <td>False</td>\n",
       "      <td>False</td>\n",
       "      <td>False</td>\n",
       "      <td>False</td>\n",
       "      <td>False</td>\n",
       "      <td>False</td>\n",
       "      <td>False</td>\n",
       "    </tr>\n",
       "    <tr>\n",
       "      <th>4</th>\n",
       "      <td>False</td>\n",
       "      <td>False</td>\n",
       "      <td>False</td>\n",
       "      <td>False</td>\n",
       "      <td>False</td>\n",
       "      <td>False</td>\n",
       "      <td>False</td>\n",
       "    </tr>\n",
       "  </tbody>\n",
       "</table>\n",
       "</div>"
      ]
     },
     "execution_count": 122,
     "metadata": {},
     "output_type": "execute_result"
    }
   ],
   "execution_count": 122
  },
  {
   "metadata": {
    "ExecuteTime": {
     "end_time": "2024-09-20T02:10:53.336017Z",
     "start_time": "2024-09-20T02:10:53.324990Z"
    }
   },
   "cell_type": "code",
   "source": [
    "for i in tmp.columns.tolist():\n",
    "    print(tmp[i].value_counts())\n",
    "    print('')"
   ],
   "id": "7ead6fda59c74c84",
   "outputs": [
    {
     "name": "stdout",
     "output_type": "stream",
     "text": [
      "Age\n",
      "False    1014\n",
      "Name: count, dtype: int64\n",
      "\n",
      "SystolicBP\n",
      "False    1014\n",
      "Name: count, dtype: int64\n",
      "\n",
      "DiastolicBP\n",
      "False    1014\n",
      "Name: count, dtype: int64\n",
      "\n",
      "BS\n",
      "False    1014\n",
      "Name: count, dtype: int64\n",
      "\n",
      "BodyTemp\n",
      "False    1014\n",
      "Name: count, dtype: int64\n",
      "\n",
      "HeartRate\n",
      "False    1014\n",
      "Name: count, dtype: int64\n",
      "\n",
      "RiskLevel\n",
      "False    1014\n",
      "Name: count, dtype: int64\n",
      "\n"
     ]
    }
   ],
   "execution_count": 123
  },
  {
   "metadata": {
    "ExecuteTime": {
     "end_time": "2024-09-20T02:10:53.404348Z",
     "start_time": "2024-09-20T02:10:53.392453Z"
    }
   },
   "cell_type": "code",
   "source": "df.info()",
   "id": "c71284bd25b12b75",
   "outputs": [
    {
     "name": "stdout",
     "output_type": "stream",
     "text": [
      "<class 'pandas.core.frame.DataFrame'>\n",
      "RangeIndex: 1014 entries, 0 to 1013\n",
      "Data columns (total 7 columns):\n",
      " #   Column       Non-Null Count  Dtype  \n",
      "---  ------       --------------  -----  \n",
      " 0   Age          1014 non-null   int64  \n",
      " 1   SystolicBP   1014 non-null   int64  \n",
      " 2   DiastolicBP  1014 non-null   int64  \n",
      " 3   BS           1014 non-null   float64\n",
      " 4   BodyTemp     1014 non-null   float64\n",
      " 5   HeartRate    1014 non-null   int64  \n",
      " 6   RiskLevel    1014 non-null   object \n",
      "dtypes: float64(2), int64(4), object(1)\n",
      "memory usage: 55.6+ KB\n"
     ]
    }
   ],
   "execution_count": 124
  },
  {
   "metadata": {
    "ExecuteTime": {
     "end_time": "2024-09-20T02:10:53.769297Z",
     "start_time": "2024-09-20T02:10:53.762744Z"
    }
   },
   "cell_type": "code",
   "source": [
    "from sklearn.preprocessing import StandardScaler\n",
    "sc = StandardScaler()\n",
    "X = sc.fit_transform(X)"
   ],
   "id": "a8edf1c92678284d",
   "outputs": [],
   "execution_count": 125
  },
  {
   "metadata": {
    "ExecuteTime": {
     "end_time": "2024-09-20T02:10:53.880576Z",
     "start_time": "2024-09-20T02:10:53.874657Z"
    }
   },
   "cell_type": "code",
   "source": "print(np.unique(y))",
   "id": "3c52155da2a9a50a",
   "outputs": [
    {
     "name": "stdout",
     "output_type": "stream",
     "text": [
      "['high risk' 'low risk' 'mid risk']\n"
     ]
    }
   ],
   "execution_count": 126
  },
  {
   "metadata": {
    "ExecuteTime": {
     "end_time": "2024-09-20T02:10:54.053951Z",
     "start_time": "2024-09-20T02:10:54.047234Z"
    }
   },
   "cell_type": "code",
   "source": [
    "for i in range(len(y)):\n",
    "    if y[i] == 'high risk':\n",
    "        y[i] = 0\n",
    "    elif y[i] == 'low risk':\n",
    "        y[i] = 1\n",
    "    elif y[i] == 'mid risk':\n",
    "        y[i] = 2"
   ],
   "id": "7530ea3681410f26",
   "outputs": [],
   "execution_count": 127
  },
  {
   "metadata": {
    "ExecuteTime": {
     "end_time": "2024-09-20T02:10:54.119785Z",
     "start_time": "2024-09-20T02:10:54.114263Z"
    }
   },
   "cell_type": "code",
   "source": "print(y)",
   "id": "43ff4606517df578",
   "outputs": [
    {
     "name": "stdout",
     "output_type": "stream",
     "text": [
      "[0 0 0 ... 0 0 2]\n"
     ]
    }
   ],
   "execution_count": 128
  },
  {
   "metadata": {
    "ExecuteTime": {
     "end_time": "2024-09-20T02:10:54.277852Z",
     "start_time": "2024-09-20T02:10:54.274223Z"
    }
   },
   "cell_type": "code",
   "source": [
    "from sklearn.preprocessing import PolynomialFeatures\n",
    "from sklearn.linear_model import LogisticRegression\n",
    "polyFeatures = PolynomialFeatures(degree=4)\n",
    "X_poly = polyFeatures.fit_transform(X)\n",
    "logisticReg = LogisticRegression()\n",
    "logisticReg.fit(X_poly, y)\n",
    "y_pred = logisticReg.predict(X_poly)    "
   ],
   "id": "b53c3467be0e84b1",
   "outputs": [],
   "execution_count": null
  },
  {
   "metadata": {},
   "cell_type": "code",
   "outputs": [],
   "execution_count": null,
   "source": "",
   "id": "29c4c526edf4ed20"
  }
 ],
 "metadata": {
  "kernelspec": {
   "display_name": "Python 3",
   "language": "python",
   "name": "python3"
  },
  "language_info": {
   "codemirror_mode": {
    "name": "ipython",
    "version": 2
   },
   "file_extension": ".py",
   "mimetype": "text/x-python",
   "name": "python",
   "nbconvert_exporter": "python",
   "pygments_lexer": "ipython2",
   "version": "2.7.6"
  }
 },
 "nbformat": 4,
 "nbformat_minor": 5
}
