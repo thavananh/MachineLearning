{
 "cells": [
  {
   "cell_type": "code",
   "execution_count": 48,
   "id": "57dea95f95023f78",
   "metadata": {
    "ExecuteTime": {
     "end_time": "2024-10-02T12:14:05.937711Z",
     "start_time": "2024-10-02T12:14:05.934484Z"
    }
   },
   "outputs": [],
   "source": [
    "import numpy as np\n",
    "import pandas as pd\n",
    "import matplotlib.pyplot as plt\n",
    "import csv"
   ]
  },
  {
   "cell_type": "code",
   "execution_count": 49,
   "id": "1be16e9d99a2aae7",
   "metadata": {
    "ExecuteTime": {
     "end_time": "2024-10-02T12:14:06.028969Z",
     "start_time": "2024-10-02T12:14:06.025739Z"
    }
   },
   "outputs": [],
   "source": [
    "#Convert data to csv"
   ]
  },
  {
   "cell_type": "code",
   "execution_count": 50,
   "id": "9bffe575d0bc1bc5",
   "metadata": {
    "ExecuteTime": {
     "end_time": "2024-10-02T12:14:06.402319Z",
     "start_time": "2024-10-02T12:14:06.075996Z"
    }
   },
   "outputs": [],
   "source": [
    "# f = open(\"adult.data\", \"r\")\n",
    "# data_list = []\n",
    "# for item in f:\n",
    "#     tmp_list = []\n",
    "#     for item1 in item.split(\",\"):\n",
    "#         tmp_list.append(item1)\n",
    "#     data_list.append(tmp_list)\n",
    "\n",
    "# headers = ['age', 'work class', 'fnlwgt', 'education', 'education-num', 'marital-status', 'occupation',\n",
    "#                'relationship', 'race', 'sex', 'capital-gain', 'capital-loss', 'hours-per-week', 'native-country', 'income']\n",
    "\n",
    "# with open('adult.csv', 'w', newline='') as csvfile:\n",
    "#     writer = csv.writer(csvfile)\n",
    "#     writer.writerow(headers)\n",
    "#     for row in data_list:\n",
    "#         writer.writerow([item.strip() for item in row])"
   ]
  },
  {
   "cell_type": "code",
   "execution_count": 51,
   "id": "6bf4bd41b8c187e7",
   "metadata": {
    "ExecuteTime": {
     "end_time": "2024-10-02T12:14:06.524873Z",
     "start_time": "2024-10-02T12:14:06.428893Z"
    }
   },
   "outputs": [
    {
     "data": {
      "text/html": [
       "<div>\n",
       "<style scoped>\n",
       "    .dataframe tbody tr th:only-of-type {\n",
       "        vertical-align: middle;\n",
       "    }\n",
       "\n",
       "    .dataframe tbody tr th {\n",
       "        vertical-align: top;\n",
       "    }\n",
       "\n",
       "    .dataframe thead th {\n",
       "        text-align: right;\n",
       "    }\n",
       "</style>\n",
       "<table border=\"1\" class=\"dataframe\">\n",
       "  <thead>\n",
       "    <tr style=\"text-align: right;\">\n",
       "      <th></th>\n",
       "      <th>age</th>\n",
       "      <th>work class</th>\n",
       "      <th>fnlwgt</th>\n",
       "      <th>education</th>\n",
       "      <th>education-num</th>\n",
       "      <th>marital-status</th>\n",
       "      <th>occupation</th>\n",
       "      <th>relationship</th>\n",
       "      <th>race</th>\n",
       "      <th>sex</th>\n",
       "      <th>capital-gain</th>\n",
       "      <th>capital-loss</th>\n",
       "      <th>hours-per-week</th>\n",
       "      <th>native-country</th>\n",
       "      <th>income</th>\n",
       "    </tr>\n",
       "  </thead>\n",
       "  <tbody>\n",
       "    <tr>\n",
       "      <th>0</th>\n",
       "      <td>39.0</td>\n",
       "      <td>State-gov</td>\n",
       "      <td>77516.0</td>\n",
       "      <td>Bachelors</td>\n",
       "      <td>13.0</td>\n",
       "      <td>Never-married</td>\n",
       "      <td>Adm-clerical</td>\n",
       "      <td>Not-in-family</td>\n",
       "      <td>White</td>\n",
       "      <td>Male</td>\n",
       "      <td>2174.0</td>\n",
       "      <td>0.0</td>\n",
       "      <td>40.0</td>\n",
       "      <td>United-States</td>\n",
       "      <td>&lt;=50K</td>\n",
       "    </tr>\n",
       "    <tr>\n",
       "      <th>1</th>\n",
       "      <td>50.0</td>\n",
       "      <td>Self-emp-not-inc</td>\n",
       "      <td>83311.0</td>\n",
       "      <td>Bachelors</td>\n",
       "      <td>13.0</td>\n",
       "      <td>Married-civ-spouse</td>\n",
       "      <td>Exec-managerial</td>\n",
       "      <td>Husband</td>\n",
       "      <td>White</td>\n",
       "      <td>Male</td>\n",
       "      <td>0.0</td>\n",
       "      <td>0.0</td>\n",
       "      <td>13.0</td>\n",
       "      <td>United-States</td>\n",
       "      <td>&lt;=50K</td>\n",
       "    </tr>\n",
       "    <tr>\n",
       "      <th>2</th>\n",
       "      <td>38.0</td>\n",
       "      <td>Private</td>\n",
       "      <td>215646.0</td>\n",
       "      <td>HS-grad</td>\n",
       "      <td>9.0</td>\n",
       "      <td>Divorced</td>\n",
       "      <td>Handlers-cleaners</td>\n",
       "      <td>Not-in-family</td>\n",
       "      <td>White</td>\n",
       "      <td>Male</td>\n",
       "      <td>0.0</td>\n",
       "      <td>0.0</td>\n",
       "      <td>40.0</td>\n",
       "      <td>United-States</td>\n",
       "      <td>&lt;=50K</td>\n",
       "    </tr>\n",
       "    <tr>\n",
       "      <th>3</th>\n",
       "      <td>53.0</td>\n",
       "      <td>Private</td>\n",
       "      <td>234721.0</td>\n",
       "      <td>11th</td>\n",
       "      <td>7.0</td>\n",
       "      <td>Married-civ-spouse</td>\n",
       "      <td>Handlers-cleaners</td>\n",
       "      <td>Husband</td>\n",
       "      <td>Black</td>\n",
       "      <td>Male</td>\n",
       "      <td>0.0</td>\n",
       "      <td>0.0</td>\n",
       "      <td>40.0</td>\n",
       "      <td>United-States</td>\n",
       "      <td>&lt;=50K</td>\n",
       "    </tr>\n",
       "    <tr>\n",
       "      <th>4</th>\n",
       "      <td>28.0</td>\n",
       "      <td>Private</td>\n",
       "      <td>338409.0</td>\n",
       "      <td>Bachelors</td>\n",
       "      <td>13.0</td>\n",
       "      <td>Married-civ-spouse</td>\n",
       "      <td>Prof-specialty</td>\n",
       "      <td>Wife</td>\n",
       "      <td>Black</td>\n",
       "      <td>Female</td>\n",
       "      <td>0.0</td>\n",
       "      <td>0.0</td>\n",
       "      <td>40.0</td>\n",
       "      <td>Cuba</td>\n",
       "      <td>&lt;=50K</td>\n",
       "    </tr>\n",
       "  </tbody>\n",
       "</table>\n",
       "</div>"
      ],
      "text/plain": [
       "    age        work class    fnlwgt  education  education-num  \\\n",
       "0  39.0         State-gov   77516.0  Bachelors           13.0   \n",
       "1  50.0  Self-emp-not-inc   83311.0  Bachelors           13.0   \n",
       "2  38.0           Private  215646.0    HS-grad            9.0   \n",
       "3  53.0           Private  234721.0       11th            7.0   \n",
       "4  28.0           Private  338409.0  Bachelors           13.0   \n",
       "\n",
       "       marital-status         occupation   relationship   race     sex  \\\n",
       "0       Never-married       Adm-clerical  Not-in-family  White    Male   \n",
       "1  Married-civ-spouse    Exec-managerial        Husband  White    Male   \n",
       "2            Divorced  Handlers-cleaners  Not-in-family  White    Male   \n",
       "3  Married-civ-spouse  Handlers-cleaners        Husband  Black    Male   \n",
       "4  Married-civ-spouse     Prof-specialty           Wife  Black  Female   \n",
       "\n",
       "   capital-gain  capital-loss  hours-per-week native-country income  \n",
       "0        2174.0           0.0            40.0  United-States  <=50K  \n",
       "1           0.0           0.0            13.0  United-States  <=50K  \n",
       "2           0.0           0.0            40.0  United-States  <=50K  \n",
       "3           0.0           0.0            40.0  United-States  <=50K  \n",
       "4           0.0           0.0            40.0           Cuba  <=50K  "
      ]
     },
     "execution_count": 51,
     "metadata": {},
     "output_type": "execute_result"
    }
   ],
   "source": [
    "df = pd.read_csv(\"adult.csv\")\n",
    "df_cleaned = df.iloc[:-1]\n",
    "df.head()\n",
    "\n",
    "# Now re-assign the values to x and y without the last row\n",
    "X = np.array(df_cleaned.iloc[:, :-1].values)\n",
    "y = np.array(df_cleaned.iloc[:, -1].values)\n",
    "df.head()"
   ]
  },
  {
   "cell_type": "code",
   "execution_count": 52,
   "id": "a283e0123c1ef4e9",
   "metadata": {
    "ExecuteTime": {
     "end_time": "2024-10-02T12:14:06.553620Z",
     "start_time": "2024-10-02T12:14:06.550291Z"
    }
   },
   "outputs": [
    {
     "name": "stdout",
     "output_type": "stream",
     "text": [
      "[[39.0 'State-gov' 77516.0 ... 0.0 40.0 'United-States']\n",
      " [50.0 'Self-emp-not-inc' 83311.0 ... 0.0 13.0 'United-States']\n",
      " [38.0 'Private' 215646.0 ... 0.0 40.0 'United-States']\n",
      " ...\n",
      " [58.0 'Private' 151910.0 ... 0.0 40.0 'United-States']\n",
      " [22.0 'Private' 201490.0 ... 0.0 20.0 'United-States']\n",
      " [52.0 'Self-emp-inc' 287927.0 ... 0.0 40.0 'United-States']]\n"
     ]
    }
   ],
   "source": [
    "print(X)"
   ]
  },
  {
   "cell_type": "code",
   "execution_count": 53,
   "id": "b06dfb748b94dad9",
   "metadata": {
    "ExecuteTime": {
     "end_time": "2024-10-02T12:14:06.602438Z",
     "start_time": "2024-10-02T12:14:06.597478Z"
    }
   },
   "outputs": [
    {
     "name": "stdout",
     "output_type": "stream",
     "text": [
      "['<=50K' '<=50K' '<=50K' ... '<=50K' '<=50K' '>50K']\n"
     ]
    }
   ],
   "source": [
    "print(y)"
   ]
  },
  {
   "cell_type": "code",
   "execution_count": 54,
   "id": "a4d54045",
   "metadata": {},
   "outputs": [],
   "source": [
    "from sklearn.model_selection import train_test_split\n",
    "X_train, X_test, y_train, y_test = train_test_split(X, y, test_size=0.2, random_state=2004)"
   ]
  },
  {
   "cell_type": "code",
   "execution_count": 55,
   "id": "326237bd564d9dc6",
   "metadata": {
    "ExecuteTime": {
     "end_time": "2024-10-02T12:14:06.666936Z",
     "start_time": "2024-10-02T12:14:06.653351Z"
    }
   },
   "outputs": [],
   "source": [
    "from sklearn.preprocessing import LabelEncoder, OneHotEncoder\n",
    "from sklearn.compose import ColumnTransformer\n",
    "# le = LabelEncoder()\n",
    "# y_train = le.fit_transform(y_train)\n",
    "# y_test = le.transform(y_test)"
   ]
  },
  {
   "cell_type": "code",
   "execution_count": 56,
   "id": "4314f989",
   "metadata": {},
   "outputs": [],
   "source": [
    "from sklearn.preprocessing import StandardScaler\n",
    "# Các chỉ số cột cần scale\n",
    "indices = [0, 2, 4, 10, 11, 12]\n",
    "\n",
    "# Tạo một instance của StandardScaler\n",
    "scaler = StandardScaler()\n",
    "\n",
    "# Lấy các cột cần scale từ X_train và X_test\n",
    "X_train_selected = X_train[:, indices]\n",
    "X_test_selected = X_test[:, indices]\n",
    "\n",
    "# Áp dụng fit_transform cho X_train và transform cho X_test\n",
    "X_train_scaled = scaler.fit_transform(X_train_selected)\n",
    "X_test_scaled = scaler.transform(X_test_selected)\n",
    "\n",
    "# Gán lại các cột đã được scale vào X_train và X_test\n",
    "X_train[:, indices] = X_train_scaled\n",
    "X_test[:, indices] = X_test_scaled"
   ]
  },
  {
   "cell_type": "code",
   "execution_count": 57,
   "id": "7a0d693b952a8847",
   "metadata": {
    "ExecuteTime": {
     "end_time": "2024-10-02T12:14:06.917353Z",
     "start_time": "2024-10-02T12:14:06.711905Z"
    }
   },
   "outputs": [],
   "source": [
    "ct = ColumnTransformer(transformers=[('encoder', OneHotEncoder(), [1, 3, 5, 6, 7, 8, 9, 13])], remainder='passthrough')\n",
    "X_train = ct.fit_transform(X_train)\n",
    "X_test = ct.transform(X_test)"
   ]
  },
  {
   "cell_type": "code",
   "execution_count": 58,
   "id": "056164b2",
   "metadata": {},
   "outputs": [
    {
     "name": "stdout",
     "output_type": "stream",
     "text": [
      "Accuracy on test set: 0.8174420389989252\n"
     ]
    }
   ],
   "source": [
    "from sklearn.tree import DecisionTreeClassifier\n",
    "DTC = DecisionTreeClassifier(criterion='gini', random_state=2004)\n",
    "DTC.fit(X_train, y_train)\n",
    "y_pred = DTC.predict(X_test)\n",
    "print(f'Accuracy on test set: {DTC.score(X_test, y_test)}')"
   ]
  },
  {
   "cell_type": "code",
   "execution_count": 59,
   "id": "b4d3a1ba",
   "metadata": {},
   "outputs": [
    {
     "data": {
      "image/png": "[encoded data removed]",
      "text/plain": [
       "<Figure size 640x480 with 2 Axes>"
      ]
     },
     "metadata": {},
     "output_type": "display_data"
    }
   ],
   "source": [
    "from sklearn.metrics import confusion_matrix, ConfusionMatrixDisplay\n",
    "cm = confusion_matrix(y_test, y_pred, labels=DTC.classes_)\n",
    "disp = ConfusionMatrixDisplay(confusion_matrix=cm, display_labels=DTC.classes_)\n",
    "disp.plot()\n",
    "plt.gca().grid(False)"
   ]
  }
 ],
 "metadata": {
  "kernelspec": {
   "display_name": "Python 3",
   "language": "python",
   "name": "python3"
  },
  "language_info": {
   "codemirror_mode": {
    "name": "ipython",
    "version": 3
   },
   "file_extension": ".py",
   "mimetype": "text/x-python",
   "name": "python",
   "nbconvert_exporter": "python",
   "pygments_lexer": "ipython3",
   "version": "3.12.4"
  }
 },
 "nbformat": 4,
 "nbformat_minor": 5
}
