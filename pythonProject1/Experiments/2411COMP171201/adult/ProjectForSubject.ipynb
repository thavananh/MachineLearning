{
 "cells": [
  {
   "metadata": {
    "ExecuteTime": {
     "end_time": "2024-10-01T19:52:37.734990Z",
     "start_time": "2024-10-01T19:52:37.730453Z"
    }
   },
   "cell_type": "code",
   "source": [
    "import numpy as np\n",
    "import pandas as pd\n",
    "import matplotlib.pyplot as plt\n",
    "import csv"
   ],
   "id": "57dea95f95023f78",
   "outputs": [],
   "execution_count": 4
  },
  {
   "metadata": {
    "ExecuteTime": {
     "end_time": "2024-10-01T19:52:37.996052Z",
     "start_time": "2024-10-01T19:52:37.992168Z"
    }
   },
   "cell_type": "code",
   "source": "#Convert data to csv",
   "id": "1be16e9d99a2aae7",
   "outputs": [],
   "execution_count": 5
  },
  {
   "metadata": {
    "ExecuteTime": {
     "end_time": "2024-10-01T19:52:38.361979Z",
     "start_time": "2024-10-01T19:52:38.048336Z"
    }
   },
   "cell_type": "code",
   "source": [
    "f = open(\"adult.data\", \"r\")\n",
    "data_list = []\n",
    "for item in f:\n",
    "    tmp_list = []\n",
    "    for item1 in item.split(\",\"):\n",
    "        tmp_list.append(item1)\n",
    "    data_list.append(tmp_list)\n",
    "\n",
    "headers = ['age', 'work class', 'education', 'education-num', 'marital-status', 'occupation',\n",
    "               'relationship', 'race', 'sex', 'capital-gain', 'capital-loss', 'hours-per-week', 'native-country', 'income']\n",
    "\n",
    "with open('adult.csv', 'w', newline='') as csvfile:\n",
    "    writer = csv.writer(csvfile)\n",
    "    writer.writerow(headers)\n",
    "    for row in data_list:\n",
    "        writer.writerow([item.strip() for item in row])"
   ],
   "id": "9bffe575d0bc1bc5",
   "outputs": [],
   "execution_count": 6
  },
  {
   "metadata": {},
   "cell_type": "code",
   "outputs": [],
   "execution_count": null,
   "source": "df = pd.read_csv(\"adult.csv\")",
   "id": "6bf4bd41b8c187e7"
  }
 ],
 "metadata": {
  "kernelspec": {
   "display_name": "Python 3",
   "language": "python",
   "name": "python3"
  },
  "language_info": {
   "codemirror_mode": {
    "name": "ipython",
    "version": 2
   },
   "file_extension": ".py",
   "mimetype": "text/x-python",
   "name": "python",
   "nbconvert_exporter": "python",
   "pygments_lexer": "ipython2",
   "version": "2.7.6"
  }
 },
 "nbformat": 4,
 "nbformat_minor": 5
}
