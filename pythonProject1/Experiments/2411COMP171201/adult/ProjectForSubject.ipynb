{
 "cells": [
  {
   "cell_type": "code",
   "id": "57dea95f95023f78",
   "metadata": {
    "ExecuteTime": {
     "end_time": "2024-10-04T05:46:48.591789Z",
     "start_time": "2024-10-04T05:46:48.587958Z"
    }
   },
   "source": [
    "import numpy as np\n",
    "import pandas as pd\n",
    "import matplotlib.pyplot as plt\n",
    "import csv"
   ],
   "outputs": [],
   "execution_count": 464
  },
  {
   "cell_type": "code",
   "id": "1be16e9d99a2aae7",
   "metadata": {
    "ExecuteTime": {
     "end_time": "2024-10-04T05:46:48.702097Z",
     "start_time": "2024-10-04T05:46:48.698171Z"
    }
   },
   "source": [
    "#Convert data to csv"
   ],
   "outputs": [],
   "execution_count": 465
  },
  {
   "cell_type": "code",
   "id": "9bffe575d0bc1bc5",
   "metadata": {
    "ExecuteTime": {
     "end_time": "2024-10-04T05:46:48.771355Z",
     "start_time": "2024-10-04T05:46:48.767011Z"
    }
   },
   "source": [
    "# f = open(\"adult.data\", \"r\")\n",
    "# data_list = []\n",
    "# for item in f:\n",
    "#     tmp_list = []\n",
    "#     for item1 in item.split(\",\"):\n",
    "#         tmp_list.append(item1)\n",
    "#     data_list.append(tmp_list)\n",
    "\n",
    "# headers = ['age', 'work class', 'fnlwgt', 'education', 'education-num', 'marital-status', 'occupation',\n",
    "#                'relationship', 'race', 'sex', 'capital-gain', 'capital-loss', 'hours-per-week', 'native-country', 'income']\n",
    "\n",
    "# with open('adult.csv', 'w', newline='') as csvfile:\n",
    "#     writer = csv.writer(csvfile)\n",
    "#     writer.writerow(headers)\n",
    "#     for row in data_list:\n",
    "#         writer.writerow([item.strip() for item in row])"
   ],
   "outputs": [],
   "execution_count": 466
  },
  {
   "cell_type": "code",
   "id": "6bf4bd41b8c187e7",
   "metadata": {
    "ExecuteTime": {
     "end_time": "2024-10-04T05:46:48.934922Z",
     "start_time": "2024-10-04T05:46:48.829802Z"
    }
   },
   "source": [
    "df = pd.read_csv(\"adult.csv\")\n",
    "df_cleaned = df.iloc[:-1]\n",
    "df.head()\n",
    "\n",
    "# Now re-assign the values to x and y without the last row\n",
    "X = np.array(df_cleaned.iloc[:, :-1].values)\n",
    "y = np.array(df_cleaned.iloc[:, -1].values)\n",
    "df.head()"
   ],
   "outputs": [
    {
     "data": {
      "text/plain": [
       "    age        work class    fnlwgt  education  education-num  \\\n",
       "0  39.0         State-gov   77516.0  Bachelors           13.0   \n",
       "1  50.0  Self-emp-not-inc   83311.0  Bachelors           13.0   \n",
       "2  38.0           Private  215646.0    HS-grad            9.0   \n",
       "3  53.0           Private  234721.0       11th            7.0   \n",
       "4  28.0           Private  338409.0  Bachelors           13.0   \n",
       "\n",
       "       marital-status         occupation   relationship   race     sex  \\\n",
       "0       Never-married       Adm-clerical  Not-in-family  White    Male   \n",
       "1  Married-civ-spouse    Exec-managerial        Husband  White    Male   \n",
       "2            Divorced  Handlers-cleaners  Not-in-family  White    Male   \n",
       "3  Married-civ-spouse  Handlers-cleaners        Husband  Black    Male   \n",
       "4  Married-civ-spouse     Prof-specialty           Wife  Black  Female   \n",
       "\n",
       "   capital-gain  capital-loss  hours-per-week native-country income  \n",
       "0        2174.0           0.0            40.0  United-States  <=50K  \n",
       "1           0.0           0.0            13.0  United-States  <=50K  \n",
       "2           0.0           0.0            40.0  United-States  <=50K  \n",
       "3           0.0           0.0            40.0  United-States  <=50K  \n",
       "4           0.0           0.0            40.0           Cuba  <=50K  "
      ],
      "text/html": [
       "<div>\n",
       "<style scoped>\n",
       "    .dataframe tbody tr th:only-of-type {\n",
       "        vertical-align: middle;\n",
       "    }\n",
       "\n",
       "    .dataframe tbody tr th {\n",
       "        vertical-align: top;\n",
       "    }\n",
       "\n",
       "    .dataframe thead th {\n",
       "        text-align: right;\n",
       "    }\n",
       "</style>\n",
       "<table border=\"1\" class=\"dataframe\">\n",
       "  <thead>\n",
       "    <tr style=\"text-align: right;\">\n",
       "      <th></th>\n",
       "      <th>age</th>\n",
       "      <th>work class</th>\n",
       "      <th>fnlwgt</th>\n",
       "      <th>education</th>\n",
       "      <th>education-num</th>\n",
       "      <th>marital-status</th>\n",
       "      <th>occupation</th>\n",
       "      <th>relationship</th>\n",
       "      <th>race</th>\n",
       "      <th>sex</th>\n",
       "      <th>capital-gain</th>\n",
       "      <th>capital-loss</th>\n",
       "      <th>hours-per-week</th>\n",
       "      <th>native-country</th>\n",
       "      <th>income</th>\n",
       "    </tr>\n",
       "  </thead>\n",
       "  <tbody>\n",
       "    <tr>\n",
       "      <th>0</th>\n",
       "      <td>39.0</td>\n",
       "      <td>State-gov</td>\n",
       "      <td>77516.0</td>\n",
       "      <td>Bachelors</td>\n",
       "      <td>13.0</td>\n",
       "      <td>Never-married</td>\n",
       "      <td>Adm-clerical</td>\n",
       "      <td>Not-in-family</td>\n",
       "      <td>White</td>\n",
       "      <td>Male</td>\n",
       "      <td>2174.0</td>\n",
       "      <td>0.0</td>\n",
       "      <td>40.0</td>\n",
       "      <td>United-States</td>\n",
       "      <td>&lt;=50K</td>\n",
       "    </tr>\n",
       "    <tr>\n",
       "      <th>1</th>\n",
       "      <td>50.0</td>\n",
       "      <td>Self-emp-not-inc</td>\n",
       "      <td>83311.0</td>\n",
       "      <td>Bachelors</td>\n",
       "      <td>13.0</td>\n",
       "      <td>Married-civ-spouse</td>\n",
       "      <td>Exec-managerial</td>\n",
       "      <td>Husband</td>\n",
       "      <td>White</td>\n",
       "      <td>Male</td>\n",
       "      <td>0.0</td>\n",
       "      <td>0.0</td>\n",
       "      <td>13.0</td>\n",
       "      <td>United-States</td>\n",
       "      <td>&lt;=50K</td>\n",
       "    </tr>\n",
       "    <tr>\n",
       "      <th>2</th>\n",
       "      <td>38.0</td>\n",
       "      <td>Private</td>\n",
       "      <td>215646.0</td>\n",
       "      <td>HS-grad</td>\n",
       "      <td>9.0</td>\n",
       "      <td>Divorced</td>\n",
       "      <td>Handlers-cleaners</td>\n",
       "      <td>Not-in-family</td>\n",
       "      <td>White</td>\n",
       "      <td>Male</td>\n",
       "      <td>0.0</td>\n",
       "      <td>0.0</td>\n",
       "      <td>40.0</td>\n",
       "      <td>United-States</td>\n",
       "      <td>&lt;=50K</td>\n",
       "    </tr>\n",
       "    <tr>\n",
       "      <th>3</th>\n",
       "      <td>53.0</td>\n",
       "      <td>Private</td>\n",
       "      <td>234721.0</td>\n",
       "      <td>11th</td>\n",
       "      <td>7.0</td>\n",
       "      <td>Married-civ-spouse</td>\n",
       "      <td>Handlers-cleaners</td>\n",
       "      <td>Husband</td>\n",
       "      <td>Black</td>\n",
       "      <td>Male</td>\n",
       "      <td>0.0</td>\n",
       "      <td>0.0</td>\n",
       "      <td>40.0</td>\n",
       "      <td>United-States</td>\n",
       "      <td>&lt;=50K</td>\n",
       "    </tr>\n",
       "    <tr>\n",
       "      <th>4</th>\n",
       "      <td>28.0</td>\n",
       "      <td>Private</td>\n",
       "      <td>338409.0</td>\n",
       "      <td>Bachelors</td>\n",
       "      <td>13.0</td>\n",
       "      <td>Married-civ-spouse</td>\n",
       "      <td>Prof-specialty</td>\n",
       "      <td>Wife</td>\n",
       "      <td>Black</td>\n",
       "      <td>Female</td>\n",
       "      <td>0.0</td>\n",
       "      <td>0.0</td>\n",
       "      <td>40.0</td>\n",
       "      <td>Cuba</td>\n",
       "      <td>&lt;=50K</td>\n",
       "    </tr>\n",
       "  </tbody>\n",
       "</table>\n",
       "</div>"
      ]
     },
     "execution_count": 467,
     "metadata": {},
     "output_type": "execute_result"
    }
   ],
   "execution_count": 467
  },
  {
   "cell_type": "code",
   "id": "a283e0123c1ef4e9",
   "metadata": {
    "ExecuteTime": {
     "end_time": "2024-10-04T05:46:49.012799Z",
     "start_time": "2024-10-04T05:46:49.008928Z"
    }
   },
   "source": [
    "print(X)"
   ],
   "outputs": [
    {
     "name": "stdout",
     "output_type": "stream",
     "text": [
      "[[39.0 'State-gov' 77516.0 ... 0.0 40.0 'United-States']\n",
      " [50.0 'Self-emp-not-inc' 83311.0 ... 0.0 13.0 'United-States']\n",
      " [38.0 'Private' 215646.0 ... 0.0 40.0 'United-States']\n",
      " ...\n",
      " [58.0 'Private' 151910.0 ... 0.0 40.0 'United-States']\n",
      " [22.0 'Private' 201490.0 ... 0.0 20.0 'United-States']\n",
      " [52.0 'Self-emp-inc' 287927.0 ... 0.0 40.0 'United-States']]\n"
     ]
    }
   ],
   "execution_count": 468
  },
  {
   "cell_type": "code",
   "id": "b06dfb748b94dad9",
   "metadata": {
    "ExecuteTime": {
     "end_time": "2024-10-04T05:46:49.089438Z",
     "start_time": "2024-10-04T05:46:49.085515Z"
    }
   },
   "source": [
    "print(y)"
   ],
   "outputs": [
    {
     "name": "stdout",
     "output_type": "stream",
     "text": [
      "['<=50K' '<=50K' '<=50K' ... '<=50K' '<=50K' '>50K']\n"
     ]
    }
   ],
   "execution_count": 469
  },
  {
   "cell_type": "code",
   "id": "a4d54045",
   "metadata": {
    "ExecuteTime": {
     "end_time": "2024-10-04T05:46:49.235452Z",
     "start_time": "2024-10-04T05:46:49.220280Z"
    }
   },
   "source": [
    "from sklearn.model_selection import train_test_split\n",
    "X_train, X_test, y_train, y_test = train_test_split(X, y, test_size=0.2, random_state=2004)"
   ],
   "outputs": [],
   "execution_count": 470
  },
  {
   "cell_type": "code",
   "id": "326237bd564d9dc6",
   "metadata": {
    "ExecuteTime": {
     "end_time": "2024-10-04T05:46:49.350549Z",
     "start_time": "2024-10-04T05:46:49.333957Z"
    }
   },
   "source": [
    "from sklearn.preprocessing import LabelEncoder, OneHotEncoder, MinMaxScaler\n",
    "from sklearn.compose import ColumnTransformer\n",
    "le = LabelEncoder()\n",
    "y_train = le.fit_transform(y_train)\n",
    "y_test = le.transform(y_test)"
   ],
   "outputs": [],
   "execution_count": 471
  },
  {
   "cell_type": "code",
   "id": "4314f989",
   "metadata": {
    "ExecuteTime": {
     "end_time": "2024-10-04T05:46:49.449532Z",
     "start_time": "2024-10-04T05:46:49.402715Z"
    }
   },
   "source": [
    "from sklearn.preprocessing import StandardScaler\n",
    "# Các chỉ số cột cần scale\n",
    "indices = [0, 2, 4, 10, 11, 12]\n",
    "\n",
    "# Tạo một instance của StandardScaler\n",
    "scaler = StandardScaler()\n",
    "\n",
    "# Lấy các cột cần scale từ X_train và X_test\n",
    "X_train_selected = X_train[:, indices]\n",
    "X_test_selected = X_test[:, indices]\n",
    "\n",
    "# Áp dụng fit_transform cho X_train và transform cho X_test\n",
    "X_train_scaled = scaler.fit_transform(X_train_selected)\n",
    "X_test_scaled = scaler.transform(X_test_selected)\n",
    "\n",
    "# Gán lại các cột đã được scale vào X_train và X_test\n",
    "X_train[:, indices] = X_train_scaled\n",
    "X_test[:, indices] = X_test_scaled"
   ],
   "outputs": [],
   "execution_count": 472
  },
  {
   "cell_type": "code",
   "id": "7a0d693b952a8847",
   "metadata": {
    "ExecuteTime": {
     "end_time": "2024-10-04T05:46:49.587648Z",
     "start_time": "2024-10-04T05:46:49.486179Z"
    }
   },
   "source": [
    "ct = ColumnTransformer(transformers=[('encoder', OneHotEncoder(), [1, 3, 5, 6, 7, 8, 9, 13])], remainder='passthrough')\n",
    "X_train = ct.fit_transform(X_train)\n",
    "X_test = ct.transform(X_test)"
   ],
   "outputs": [],
   "execution_count": 473
  },
  {
   "cell_type": "code",
   "id": "056164b2",
   "metadata": {},
   "source": [
    "# from sklearn.tree import DecisionTreeClassifier\n",
    "# DTC = DecisionTreeClassifier(criterion='gini', random_state=2004)\n",
    "# DTC.fit(X_train, y_train)\n",
    "# y_pred_DTC = DTC.predict(X_test)\n",
    "# print(f'Accuracy on test set: {DTC.score(X_test, y_test)}')\n",
    "#Accuracy on test set: 0.8174420389989252"
   ],
   "outputs": [],
   "execution_count": 474
  },
  {
   "cell_type": "code",
   "id": "b4d3a1ba",
   "metadata": {
    "ExecuteTime": {
     "end_time": "2024-10-04T05:46:49.671200Z",
     "start_time": "2024-10-04T05:46:49.668129Z"
    }
   },
   "source": [
    "# from sklearn.metrics import confusion_matrix, ConfusionMatrixDisplay\n",
    "# cm = confusion_matrix(y_test, y_pred_DTC, labels=DTC.classes_)\n",
    "# disp = ConfusionMatrixDisplay(confusion_matrix=cm, display_labels=DTC.classes_)\n",
    "# disp.plot()\n",
    "# plt.gca().grid(False)       "
   ],
   "outputs": [],
   "execution_count": 475
  },
  {
   "cell_type": "code",
   "id": "0a9b2245",
   "metadata": {
    "ExecuteTime": {
     "end_time": "2024-10-04T05:46:49.721874Z",
     "start_time": "2024-10-04T05:46:49.718975Z"
    }
   },
   "source": [
    "# Fine tune decision tree"
   ],
   "outputs": [],
   "execution_count": 476
  },
  {
   "cell_type": "code",
   "id": "fc412b29",
   "metadata": {
    "ExecuteTime": {
     "end_time": "2024-10-04T05:46:49.771099Z",
     "start_time": "2024-10-04T05:46:49.767305Z"
    }
   },
   "source": [
    "# my_dict = {}\n",
    "# my_list = []\n",
    "# \n",
    "# from sklearn.model_selection import GridSearchCV\n",
    "# param_grid = {\n",
    "#     'criterion': ['gini', 'entropy', 'log_loss'],\n",
    "#     'max_depth': [None, 5, 10, 12, 15, 20],\n",
    "#     'min_samples_split': [10, 15, 25, 30],\n",
    "#     'min_samples_leaf': [1, 2, 5, 10],\n",
    "#     'max_features': [None, 5, 10, 15, 20, 'sqrt', 'log2'],\n",
    "#     'random_state': [2004],\n",
    "#     'class_weight': [None, 'balanced']\n",
    "# }\n",
    "# grid_search = GridSearchCV(\n",
    "#     estimator=DecisionTreeClassifier(),\n",
    "#     param_grid=param_grid,\n",
    "#     cv=5,  # Số lượng fold cho cross-validation\n",
    "#     scoring='accuracy',  # Hoặc metric khác phù hợp với bài toán\n",
    "#     n_jobs=-1  # Sử dụng tất cả các CPU cores có sẵn\n",
    "# )\n",
    "# grid_search.fit(X_train, y_train)\n",
    "# # In ra siêu tham số tốt nhất\n",
    "# print(\"Best hyperparameters:\")\n",
    "# print(grid_search.best_params_)\n",
    "# \n",
    "# # In ra điểm số tốt nhất\n",
    "# print(\"Best score:\")\n",
    "# print(grid_search.best_score_)\n",
    "# \n",
    "# \n",
    "# # Best hyperparameters:\n",
    "# # {'class_weight': None, 'criterion': 'gini', 'max_depth': 10, 'max_features': 20, 'min_samples_leaf': 2, 'min_samples_split': 15, 'random_state': 2004}\n",
    "# # Best score:\n",
    "# # 0.8535393820454704"
   ],
   "outputs": [],
   "execution_count": 477
  },
  {
   "cell_type": "code",
   "id": "fc78f054",
   "metadata": {
    "ExecuteTime": {
     "end_time": "2024-10-04T05:46:49.820520Z",
     "start_time": "2024-10-04T05:46:49.817439Z"
    }
   },
   "source": [
    "# from sklearn.neighbors import KNeighborsClassifier\n",
    "# KNC = KNeighborsClassifier(n_jobs=-1)\n",
    "# KNC.fit(X_train, y_train)\n",
    "# y_pred_KNN = KNC.predict(X_test)\n",
    "# print(f'Accuracy on test set: {KNC.score(X_test, y_test)}')\n",
    "#Accuracy on test set: 0.8361738062336864"
   ],
   "outputs": [],
   "execution_count": 478
  },
  {
   "metadata": {
    "ExecuteTime": {
     "end_time": "2024-10-04T05:46:49.868923Z",
     "start_time": "2024-10-04T05:46:49.865605Z"
    }
   },
   "cell_type": "code",
   "source": [
    "# from sklearn.metrics import confusion_matrix, ConfusionMatrixDisplay\n",
    "# cm = confusion_matrix(y_test, y_pred_KNN, labels=KNC.classes_)\n",
    "# disp = ConfusionMatrixDisplay(confusion_matrix=cm, display_labels=KNC.classes_)\n",
    "# disp.plot()\n",
    "# plt.gca().grid(False)"
   ],
   "id": "95899bc3854ce2db",
   "outputs": [],
   "execution_count": 479
  },
  {
   "metadata": {
    "ExecuteTime": {
     "end_time": "2024-10-04T05:46:49.919327Z",
     "start_time": "2024-10-04T05:46:49.915125Z"
    }
   },
   "cell_type": "code",
   "source": [
    "# from sklearn.neighbors import KNeighborsClassifier\n",
    "# my_dict = {}\n",
    "# my_list = []\n",
    "# \n",
    "# from sklearn.model_selection import GridSearchCV\n",
    "# param_grid = {\n",
    "#     'n_neighbors': [15, 16, 17],\n",
    "#     'weights': ['uniform'],\n",
    "#     'algorithm': ['auto', 'brute'],\n",
    "#     'leaf_size': [7,8],\n",
    "#     'p': [1],\n",
    "#     'metric': ['sqeuclidean', 'cosine', 'chebyshev']\n",
    "#     #'braycurtis', 'canberra', 'chebyshev', 'cityblock', 'cosine', 'correlation', 'euclidean', 'jensenshannon', 'mahalanobis', 'minkowski', 'seuclidean', 'sqeuclidean'\n",
    "# }\n",
    "# grid_search = GridSearchCV(\n",
    "#     estimator=KNeighborsClassifier(n_jobs=-1),\n",
    "#     param_grid=param_grid,\n",
    "#     cv=5,  # Số lượng fold cho cross-validation\n",
    "#     scoring='accuracy',  # Hoặc metric khác phù hợp với bài toán\n",
    "#     n_jobs=10  # Sử dụng tất cả các CPU cores có sẵn\n",
    "# )\n",
    "# grid_search.fit(X_train, y_train)\n",
    "# # In ra siêu tham số tốt nhất\n",
    "# print(\"Best hyperparameters:\")\n",
    "# print(grid_search.best_params_)\n",
    "# \n",
    "# # In ra điểm số tốt nhất\n",
    "# print(\"Best score:\")\n",
    "# print(grid_search.best_score_)\n",
    "# \n",
    "# \n",
    "# # Best hyperparameters:\n",
    "# # {'algorithm': 'auto', 'leaf_size': 10, 'metric': 'minkowski', 'n_neighbors': 15, 'p': 2, 'weights': 'uniform'}\n",
    "# # Best score:\n",
    "# # 0.8414465219469183\n",
    "# \n",
    "# # Best hyperparameters:\n",
    "# # {'algorithm': 'auto', 'leaf_size': 9, 'metric': 'cosine', 'n_neighbors': 16, 'p': 1, 'weights': 'uniform'}\n",
    "# # Best score:\n",
    "# # 0.8417920703462816\n",
    "# \n",
    "# # Best hyperparameters:\n",
    "# # {'algorithm': 'auto', 'leaf_size': 7, 'metric': 'cosine', 'n_neighbors': 16, 'p': 1, 'weights': 'uniform'}\n",
    "# # Best score:\n",
    "# # 0.8417920703462816"
   ],
   "id": "fbdbab1e780aba4d",
   "outputs": [],
   "execution_count": 480
  },
  {
   "metadata": {
    "ExecuteTime": {
     "end_time": "2024-10-04T05:46:49.970196Z",
     "start_time": "2024-10-04T05:46:49.967063Z"
    }
   },
   "cell_type": "code",
   "source": [
    "# from sklearn.linear_model import LogisticRegression\n",
    "# classifier = LogisticRegression()\n",
    "# classifier.fit(X_train, y_train)\n",
    "# y_pred_logistic = classifier.predict(X_test)\n",
    "# print(f'Accuracy on test set: {classifier.score(X_test, y_test)}')\n",
    "# # Accuracy on test set: 0.8536772608628896"
   ],
   "id": "9e5c6cfdc0fcb505",
   "outputs": [],
   "execution_count": 481
  },
  {
   "metadata": {
    "ExecuteTime": {
     "end_time": "2024-10-04T05:46:50.021270Z",
     "start_time": "2024-10-04T05:46:50.017571Z"
    }
   },
   "cell_type": "code",
   "source": [
    "# from sklearn.linear_model import LogisticRegression\n",
    "# my_dict = {}\n",
    "# my_list = []\n",
    "# \n",
    "# from sklearn.model_selection import GridSearchCV\n",
    "# param_grid = {\n",
    "#     'tol': [1e-5, 1e-6, 1e-7],\n",
    "#     'max_iter': [10000000],\n",
    "#     'solver': ['lbfgs', 'newton-cg', 'newton-cholesky', 'sag', 'saga'],\n",
    "# }\n",
    "# grid_search = GridSearchCV(\n",
    "#     estimator=LogisticRegression(n_jobs=-1),\n",
    "#     param_grid=param_grid,\n",
    "#     cv=5,  # Số lượng fold cho cross-validation\n",
    "#     scoring='accuracy',  # Hoặc metric khác phù hợp với bài toán\n",
    "#     n_jobs=-1  # Sử dụng tất cả các CPU cores có sẵn\n",
    "# )\n",
    "# grid_search.fit(X_train, y_train)\n",
    "# # In ra siêu tham số tốt nhất\n",
    "# print(\"Best hyperparameters:\")\n",
    "# print(grid_search.best_params_)\n",
    "# \n",
    "# # In ra điểm số tốt nhất\n",
    "# print(\"Best score:\")\n",
    "# print(grid_search.best_score_)\n",
    "# \n",
    "# # Best hyperparameters:\n",
    "# # {'max_iter': 10000000, 'solver': 'saga', 'tol': 1e-06}\n",
    "# # Best score:\n",
    "# # 0.8510440920759839\n"
   ],
   "id": "128387a15af11841",
   "outputs": [],
   "execution_count": 482
  },
  {
   "metadata": {
    "ExecuteTime": {
     "end_time": "2024-10-04T05:46:50.071773Z",
     "start_time": "2024-10-04T05:46:50.068423Z"
    }
   },
   "cell_type": "code",
   "source": [
    "from sklearn.naive_bayes import GaussianNB, MultinomialNB, ComplementNB, BernoulliNB, CategoricalNB\n",
    "# GNB = GaussianNB()\n",
    "# GNB.fit(X_train.toarray(), y_train)\n",
    "# y_pred_GNB = GNB.predict(X_test.toarray())\n",
    "# print(f'Accuracy on test set: {GNB.score(X_test.toarray(), y_test)}')\n",
    "# # Accuracy on test set: 0.5562720712421311"
   ],
   "id": "70d0247cb95d481",
   "outputs": [],
   "execution_count": 483
  },
  {
   "metadata": {
    "ExecuteTime": {
     "end_time": "2024-10-04T05:46:50.139517Z",
     "start_time": "2024-10-04T05:46:50.125476Z"
    }
   },
   "cell_type": "code",
   "source": [
    "# from sklearn.model_selection import train_test_split\n",
    "# X_train, X_test, y_train, y_test = train_test_split(X, y, test_size=0.2, random_state=2004)\n",
    "# print(X_train)"
   ],
   "id": "13211e153c7adfd",
   "outputs": [
    {
     "name": "stdout",
     "output_type": "stream",
     "text": [
      "[[31.0 'Private' 315128.0 ... 0.0 52.0 'United-States']\n",
      " [26.0 'Private' 292353.0 ... 0.0 40.0 'United-States']\n",
      " [25.0 'Private' 164488.0 ... 0.0 40.0 '?']\n",
      " ...\n",
      " [19.0 'Private' 170800.0 ... 0.0 20.0 'United-States']\n",
      " [43.0 'Private' 108945.0 ... 0.0 50.0 'United-States']\n",
      " [58.0 'Private' 102509.0 ... 0.0 50.0 'United-States']]\n"
     ]
    }
   ],
   "execution_count": 484
  },
  {
   "metadata": {
    "ExecuteTime": {
     "end_time": "2024-10-04T05:46:50.226218Z",
     "start_time": "2024-10-04T05:46:50.190138Z"
    }
   },
   "cell_type": "code",
   "source": [
    "# from sklearn.preprocessing import MinMaxScaler\n",
    "# # Các chỉ số cột cần scale\n",
    "# indices = [0, 2, 4, 10, 11, 12]\n",
    "# \n",
    "# # Tạo một instance của StandardScaler\n",
    "# scaler = MinMaxScaler()\n",
    "# \n",
    "# # Lấy các cột cần scale từ X_train và X_test\n",
    "# X_train_selected = X_train[:, indices]\n",
    "# X_test_selected = X_test[:, indices]\n",
    "# \n",
    "# # Áp dụng fit_transform cho X_train và transform cho X_test\n",
    "# X_train_scaled = scaler.fit_transform(X_train_selected)\n",
    "# X_test_scaled = scaler.transform(X_test_selected)\n",
    "# \n",
    "# # Gán lại các cột đã được scale vào X_train và X_test\n",
    "# X_train[:, indices] = X_train_scaled\n",
    "# X_test[:, indices] = X_test_scaled"
   ],
   "id": "c2e048a62c4814af",
   "outputs": [],
   "execution_count": 485
  },
  {
   "metadata": {
    "ExecuteTime": {
     "end_time": "2024-10-04T05:46:50.363144Z",
     "start_time": "2024-10-04T05:46:50.264043Z"
    }
   },
   "cell_type": "code",
   "source": [
    "# ct = ColumnTransformer(transformers=[('encoder', OneHotEncoder(), [1, 3, 5, 6, 7, 8, 9, 13])], remainder='passthrough')\n",
    "# X_train = ct.fit_transform(X_train)\n",
    "# X_test = ct.transform(X_test)"
   ],
   "id": "7f21c2b7a5fc99bf",
   "outputs": [],
   "execution_count": 486
  },
  {
   "metadata": {
    "ExecuteTime": {
     "end_time": "2024-10-04T05:46:50.402469Z",
     "start_time": "2024-10-04T05:46:50.399584Z"
    }
   },
   "cell_type": "code",
   "source": [
    "# MNB = MultinomialNB()\n",
    "# MNB.fit(X_train, y_train)\n",
    "# print(f'Accuracy on test set: {MNB.score(X_test, y_test)}')\n",
    "# # Accuracy on test set: 0.8022416705051436"
   ],
   "id": "cc810c323df2af01",
   "outputs": [],
   "execution_count": 487
  },
  {
   "metadata": {
    "ExecuteTime": {
     "end_time": "2024-10-04T05:46:50.440953Z",
     "start_time": "2024-10-04T05:46:50.438116Z"
    }
   },
   "cell_type": "code",
   "source": [
    "# CNB = ComplementNB()\n",
    "# CNB.fit(X_train, y_train)\n",
    "# print(f'Accuracy on test set: {CNB.score(X_test, y_test)}')\n",
    "# # Accuracy on test set: 0.7595578074619991"
   ],
   "id": "4491d7472b589311",
   "outputs": [],
   "execution_count": 488
  },
  {
   "metadata": {
    "ExecuteTime": {
     "end_time": "2024-10-04T05:46:50.485577Z",
     "start_time": "2024-10-04T05:46:50.482706Z"
    }
   },
   "cell_type": "code",
   "source": [
    "# BNB = BernoulliNB()\n",
    "# BNB.fit(X_train, y_train)\n",
    "# print(f'Accuracy on test set: {BNB.score(X_test, y_test)}')"
   ],
   "id": "aad1ae924841dbc2",
   "outputs": [],
   "execution_count": 489
  },
  {
   "metadata": {
    "ExecuteTime": {
     "end_time": "2024-10-04T05:46:50.735517Z",
     "start_time": "2024-10-04T05:46:50.536041Z"
    }
   },
   "cell_type": "code",
   "source": [
    "# CNB = CategoricalNB()\n",
    "# CNB.fit(X_train.toarray(), y_train)\n",
    "# print(f'Accuracy on test set: {CNB.score(X_test.toarray(), y_test)}')\n",
    "\n",
    "#CategoricalNB not work, can't fix to make it work. Maybe it's not suitable for this dataset"
   ],
   "id": "97364cae5162eef8",
   "outputs": [
    {
     "ename": "IndexError",
     "evalue": "index 1 is out of bounds for axis 1 with size 1",
     "output_type": "error",
     "traceback": [
      "\u001B[0;31m---------------------------------------------------------------------------\u001B[0m",
      "\u001B[0;31mIndexError\u001B[0m                                Traceback (most recent call last)",
      "Cell \u001B[0;32mIn[490], line 3\u001B[0m\n\u001B[1;32m      1\u001B[0m CNB \u001B[38;5;241m=\u001B[39m CategoricalNB()\n\u001B[1;32m      2\u001B[0m CNB\u001B[38;5;241m.\u001B[39mfit(X_train\u001B[38;5;241m.\u001B[39mtoarray(), y_train)\n\u001B[0;32m----> 3\u001B[0m \u001B[38;5;28mprint\u001B[39m(\u001B[38;5;124mf\u001B[39m\u001B[38;5;124m'\u001B[39m\u001B[38;5;124mAccuracy on test set: \u001B[39m\u001B[38;5;132;01m{\u001B[39;00mCNB\u001B[38;5;241m.\u001B[39mscore(X_test\u001B[38;5;241m.\u001B[39mtoarray(),\u001B[38;5;250m \u001B[39my_test)\u001B[38;5;132;01m}\u001B[39;00m\u001B[38;5;124m'\u001B[39m)\n",
      "File \u001B[0;32m~/anaconda3/lib/python3.12/site-packages/sklearn/base.py:764\u001B[0m, in \u001B[0;36mClassifierMixin.score\u001B[0;34m(self, X, y, sample_weight)\u001B[0m\n\u001B[1;32m    739\u001B[0m \u001B[38;5;250m\u001B[39m\u001B[38;5;124;03m\"\"\"\u001B[39;00m\n\u001B[1;32m    740\u001B[0m \u001B[38;5;124;03mReturn the mean accuracy on the given test data and labels.\u001B[39;00m\n\u001B[1;32m    741\u001B[0m \n\u001B[0;32m   (...)\u001B[0m\n\u001B[1;32m    760\u001B[0m \u001B[38;5;124;03m    Mean accuracy of ``self.predict(X)`` w.r.t. `y`.\u001B[39;00m\n\u001B[1;32m    761\u001B[0m \u001B[38;5;124;03m\"\"\"\u001B[39;00m\n\u001B[1;32m    762\u001B[0m \u001B[38;5;28;01mfrom\u001B[39;00m \u001B[38;5;21;01m.\u001B[39;00m\u001B[38;5;21;01mmetrics\u001B[39;00m \u001B[38;5;28;01mimport\u001B[39;00m accuracy_score\n\u001B[0;32m--> 764\u001B[0m \u001B[38;5;28;01mreturn\u001B[39;00m accuracy_score(y, \u001B[38;5;28mself\u001B[39m\u001B[38;5;241m.\u001B[39mpredict(X), sample_weight\u001B[38;5;241m=\u001B[39msample_weight)\n",
      "File \u001B[0;32m~/anaconda3/lib/python3.12/site-packages/sklearn/naive_bayes.py:102\u001B[0m, in \u001B[0;36m_BaseNB.predict\u001B[0;34m(self, X)\u001B[0m\n\u001B[1;32m    100\u001B[0m check_is_fitted(\u001B[38;5;28mself\u001B[39m)\n\u001B[1;32m    101\u001B[0m X \u001B[38;5;241m=\u001B[39m \u001B[38;5;28mself\u001B[39m\u001B[38;5;241m.\u001B[39m_check_X(X)\n\u001B[0;32m--> 102\u001B[0m jll \u001B[38;5;241m=\u001B[39m \u001B[38;5;28mself\u001B[39m\u001B[38;5;241m.\u001B[39m_joint_log_likelihood(X)\n\u001B[1;32m    103\u001B[0m \u001B[38;5;28;01mreturn\u001B[39;00m \u001B[38;5;28mself\u001B[39m\u001B[38;5;241m.\u001B[39mclasses_[np\u001B[38;5;241m.\u001B[39margmax(jll, axis\u001B[38;5;241m=\u001B[39m\u001B[38;5;241m1\u001B[39m)]\n",
      "File \u001B[0;32m~/anaconda3/lib/python3.12/site-packages/sklearn/naive_bayes.py:1513\u001B[0m, in \u001B[0;36mCategoricalNB._joint_log_likelihood\u001B[0;34m(self, X)\u001B[0m\n\u001B[1;32m   1511\u001B[0m \u001B[38;5;28;01mfor\u001B[39;00m i \u001B[38;5;129;01min\u001B[39;00m \u001B[38;5;28mrange\u001B[39m(\u001B[38;5;28mself\u001B[39m\u001B[38;5;241m.\u001B[39mn_features_in_):\n\u001B[1;32m   1512\u001B[0m     indices \u001B[38;5;241m=\u001B[39m X[:, i]\n\u001B[0;32m-> 1513\u001B[0m     jll \u001B[38;5;241m+\u001B[39m\u001B[38;5;241m=\u001B[39m \u001B[38;5;28mself\u001B[39m\u001B[38;5;241m.\u001B[39mfeature_log_prob_[i][:, indices]\u001B[38;5;241m.\u001B[39mT\n\u001B[1;32m   1514\u001B[0m total_ll \u001B[38;5;241m=\u001B[39m jll \u001B[38;5;241m+\u001B[39m \u001B[38;5;28mself\u001B[39m\u001B[38;5;241m.\u001B[39mclass_log_prior_\n\u001B[1;32m   1515\u001B[0m \u001B[38;5;28;01mreturn\u001B[39;00m total_ll\n",
      "\u001B[0;31mIndexError\u001B[0m: index 1 is out of bounds for axis 1 with size 1"
     ]
    }
   ],
   "execution_count": 490
  }
 ],
 "metadata": {
  "kernelspec": {
   "display_name": "Python 3",
   "language": "python",
   "name": "python3"
  },
  "language_info": {
   "codemirror_mode": {
    "name": "ipython",
    "version": 3
   },
   "file_extension": ".py",
   "mimetype": "text/x-python",
   "name": "python",
   "nbconvert_exporter": "python",
   "pygments_lexer": "ipython3",
   "version": "3.12.4"
  }
 },
 "nbformat": 4,
 "nbformat_minor": 5
}
