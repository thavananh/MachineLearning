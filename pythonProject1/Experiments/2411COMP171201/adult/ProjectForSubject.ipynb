{
 "cells": [
  {
   "metadata": {
    "ExecuteTime": {
     "end_time": "2024-10-02T03:50:00.983038Z",
     "start_time": "2024-10-02T03:50:00.968095Z"
    }
   },
   "cell_type": "code",
   "source": [
    "import numpy as np\n",
    "import pandas as pd\n",
    "import matplotlib.pyplot as plt\n",
    "import csv"
   ],
   "id": "57dea95f95023f78",
   "outputs": [],
   "execution_count": 9
  },
  {
   "metadata": {
    "ExecuteTime": {
     "end_time": "2024-10-02T03:50:01.019176Z",
     "start_time": "2024-10-02T03:50:00.990813Z"
    }
   },
   "cell_type": "code",
   "source": "#Convert data to csv",
   "id": "1be16e9d99a2aae7",
   "outputs": [],
   "execution_count": 10
  },
  {
   "metadata": {
    "ExecuteTime": {
     "end_time": "2024-10-02T03:50:01.054126Z",
     "start_time": "2024-10-02T03:50:01.048018Z"
    }
   },
   "cell_type": "code",
   "source": [
    "# f = open(\"adult.data\", \"r\")\n",
    "# data_list = []\n",
    "# for item in f:\n",
    "#     tmp_list = []\n",
    "#     for item1 in item.split(\",\"):\n",
    "#         tmp_list.append(item1)\n",
    "#     data_list.append(tmp_list)\n",
    "# \n",
    "# headers = ['age', 'work class', 'education', 'education-num', 'marital-status', 'occupation',\n",
    "#                'relationship', 'race', 'sex', 'capital-gain', 'capital-loss', 'hours-per-week', 'native-country', 'income']\n",
    "# \n",
    "# with open('adult.csv', 'w', newline='', encoding='utf-8') as csvfile:\n",
    "#     writer = csv.writer(csvfile)\n",
    "#     writer.writerow(headers)\n",
    "#     for row in data_list:\n",
    "#         writer.writerow([item.strip() for item in row])"
   ],
   "id": "9bffe575d0bc1bc5",
   "outputs": [],
   "execution_count": 11
  },
  {
   "metadata": {
    "ExecuteTime": {
     "end_time": "2024-10-02T03:50:01.222908Z",
     "start_time": "2024-10-02T03:50:01.084705Z"
    }
   },
   "cell_type": "code",
   "source": [
    "df = pd.read_csv(\"adult.csv\")\n",
    "df_cleaned = df.iloc[:-1]\n",
    "\n",
    "# Now re-assign the values to x and y without the last row\n",
    "X = np.array(df_cleaned.iloc[:, :-1].values)\n",
    "y = np.array(df_cleaned.iloc[:, -1].values)"
   ],
   "id": "6bf4bd41b8c187e7",
   "outputs": [],
   "execution_count": 12
  },
  {
   "metadata": {
    "ExecuteTime": {
     "end_time": "2024-10-02T03:50:01.255842Z",
     "start_time": "2024-10-02T03:50:01.249794Z"
    }
   },
   "cell_type": "code",
   "source": "print(X)",
   "id": "a283e0123c1ef4e9",
   "outputs": [
    {
     "name": "stdout",
     "output_type": "stream",
     "text": [
      "[[39 'State-gov' 77516 ... 0 40 'United-States']\n",
      " [50 'Self-emp-not-inc' 83311 ... 0 13 'United-States']\n",
      " [38 'Private' 215646 ... 0 40 'United-States']\n",
      " ...\n",
      " [40 'Private' 154374 ... 0 40 'United-States']\n",
      " [58 'Private' 151910 ... 0 40 'United-States']\n",
      " [22 'Private' 201490 ... 0 20 'United-States']]\n"
     ]
    }
   ],
   "execution_count": 13
  },
  {
   "metadata": {
    "ExecuteTime": {
     "end_time": "2024-10-02T03:50:01.320693Z",
     "start_time": "2024-10-02T03:50:01.308076Z"
    }
   },
   "cell_type": "code",
   "source": "print(y)",
   "id": "b06dfb748b94dad9",
   "outputs": [
    {
     "name": "stdout",
     "output_type": "stream",
     "text": [
      "['<=50K' '<=50K' '<=50K' ... '>50K' '<=50K' '<=50K']\n"
     ]
    }
   ],
   "execution_count": 14
  },
  {
   "metadata": {
    "ExecuteTime": {
     "end_time": "2024-10-02T03:50:01.357810Z",
     "start_time": "2024-10-02T03:50:01.340738Z"
    }
   },
   "cell_type": "code",
   "source": [
    "from sklearn.preprocessing import LabelEncoder, OneHotEncoder\n",
    "from sklearn.compose import ColumnTransformer\n",
    "le = LabelEncoder()\n",
    "y = le.fit_transform(y)"
   ],
   "id": "326237bd564d9dc6",
   "outputs": [],
   "execution_count": 15
  },
  {
   "metadata": {
    "ExecuteTime": {
     "end_time": "2024-10-02T03:50:01.520682Z",
     "start_time": "2024-10-02T03:50:01.400648Z"
    }
   },
   "cell_type": "code",
   "source": [
    "ct = ColumnTransformer(transformers=[('encoder', OneHotEncoder(), [1, 3, 5, 6, 7, 8, 9, 13])], remainder='passthrough')\n",
    "X = ct.fit_transform(X)\n",
    "print(X)"
   ],
   "id": "7a0d693b952a8847",
   "outputs": [
    {
     "name": "stdout",
     "output_type": "stream",
     "text": [
      "  (0, 7)\t1.0\n",
      "  (0, 18)\t1.0\n",
      "  (0, 29)\t1.0\n",
      "  (0, 33)\t1.0\n",
      "  (0, 48)\t1.0\n",
      "  (0, 57)\t1.0\n",
      "  (0, 59)\t1.0\n",
      "  (0, 99)\t1.0\n",
      "  (0, 102)\t39.0\n",
      "  (0, 103)\t77516.0\n",
      "  (0, 104)\t13.0\n",
      "  (0, 105)\t2174.0\n",
      "  (0, 107)\t40.0\n",
      "  (1, 6)\t1.0\n",
      "  (1, 18)\t1.0\n",
      "  (1, 27)\t1.0\n",
      "  (1, 36)\t1.0\n",
      "  (1, 47)\t1.0\n",
      "  (1, 57)\t1.0\n",
      "  (1, 59)\t1.0\n",
      "  (1, 99)\t1.0\n",
      "  (1, 102)\t50.0\n",
      "  (1, 103)\t83311.0\n",
      "  (1, 104)\t13.0\n",
      "  (1, 107)\t13.0\n",
      "  :\t:\n",
      "  (32557, 107)\t40.0\n",
      "  (32558, 4)\t1.0\n",
      "  (32558, 20)\t1.0\n",
      "  (32558, 31)\t1.0\n",
      "  (32558, 33)\t1.0\n",
      "  (32558, 51)\t1.0\n",
      "  (32558, 57)\t1.0\n",
      "  (32558, 58)\t1.0\n",
      "  (32558, 99)\t1.0\n",
      "  (32558, 102)\t58.0\n",
      "  (32558, 103)\t151910.0\n",
      "  (32558, 104)\t9.0\n",
      "  (32558, 107)\t40.0\n",
      "  (32559, 4)\t1.0\n",
      "  (32559, 20)\t1.0\n",
      "  (32559, 29)\t1.0\n",
      "  (32559, 33)\t1.0\n",
      "  (32559, 50)\t1.0\n",
      "  (32559, 57)\t1.0\n",
      "  (32559, 59)\t1.0\n",
      "  (32559, 99)\t1.0\n",
      "  (32559, 102)\t22.0\n",
      "  (32559, 103)\t201490.0\n",
      "  (32559, 104)\t9.0\n",
      "  (32559, 107)\t20.0\n"
     ]
    }
   ],
   "execution_count": 16
  },
  {
   "metadata": {
    "ExecuteTime": {
     "end_time": "2024-10-02T03:50:01.715455Z",
     "start_time": "2024-10-02T03:50:01.597999Z"
    }
   },
   "cell_type": "code",
   "source": [
    "from sklearn.model_selection import train_test_split\n",
    "X_train, X_test, y_train, y_test = train_test_split(X, y, test_size=0.2, random_state=2004)"
   ],
   "id": "88ec6127a66e3cf6",
   "outputs": [],
   "execution_count": 17
  },
  {
   "metadata": {
    "ExecuteTime": {
     "end_time": "2024-10-02T03:50:01.745359Z",
     "start_time": "2024-10-02T03:50:01.737767Z"
    }
   },
   "cell_type": "code",
   "source": "from sklearn.preprocessing import StandardScaler",
   "id": "b9204cbd9dd0e30b",
   "outputs": [],
   "execution_count": 18
  }
 ],
 "metadata": {
  "kernelspec": {
   "display_name": "Python 3",
   "language": "python",
   "name": "python3"
  },
  "language_info": {
   "codemirror_mode": {
    "name": "ipython",
    "version": 2
   },
   "file_extension": ".py",
   "mimetype": "text/x-python",
   "name": "python",
   "nbconvert_exporter": "python",
   "pygments_lexer": "ipython2",
   "version": "2.7.6"
  }
 },
 "nbformat": 4,
 "nbformat_minor": 5
}
