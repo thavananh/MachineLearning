{
 "cells": [
  {
   "cell_type": "code",
   "id": "initial_id",
   "metadata": {
    "collapsed": true,
    "jupyter": {
     "is_executing": true
    }
   },
   "source": [
    "import numpy as np\n",
    "import matplotlib.pyplot as plt\n",
    "import pandas as pd"
   ],
   "outputs": [],
   "execution_count": null
  },
  {
   "metadata": {
    "ExecuteTime": {
     "end_time": "2024-09-16T08:39:51.207541Z",
     "start_time": "2024-09-16T08:39:51.199446Z"
    }
   },
   "cell_type": "code",
   "source": [
    "df = pd.read_csv('Mall_Customers.csv')\n",
    "df.head()\n",
    "X = df.iloc[:, 1:].values\n",
    "y = df.iloc[:, -1].values"
   ],
   "id": "101d3a7d366f16de",
   "outputs": [],
   "execution_count": 6
  },
  {
   "metadata": {
    "ExecuteTime": {
     "end_time": "2024-09-16T08:39:51.218820Z",
     "start_time": "2024-09-16T08:39:51.215517Z"
    }
   },
   "cell_type": "code",
   "source": "",
   "id": "ff80084f76738c42",
   "outputs": [],
   "execution_count": null
  }
 ],
 "metadata": {
  "kernelspec": {
   "display_name": "Python 3",
   "language": "python",
   "name": "python3"
  },
  "language_info": {
   "codemirror_mode": {
    "name": "ipython",
    "version": 2
   },
   "file_extension": ".py",
   "mimetype": "text/x-python",
   "name": "python",
   "nbconvert_exporter": "python",
   "pygments_lexer": "ipython2",
   "version": "2.7.6"
  }
 },
 "nbformat": 4,
 "nbformat_minor": 5
}
