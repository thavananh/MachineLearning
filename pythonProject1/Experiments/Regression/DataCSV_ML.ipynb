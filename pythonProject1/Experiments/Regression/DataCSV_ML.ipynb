{
 "cells": [
  {
   "cell_type": "code",
   "id": "initial_id",
   "metadata": {
    "collapsed": true,
    "ExecuteTime": {
     "end_time": "2024-09-10T04:12:55.445241Z",
     "start_time": "2024-09-10T04:12:55.433167Z"
    }
   },
   "source": [
    "import pandas as pd\n",
    "import numpy as np\n",
    "import matplotlib.pyplot as plt"
   ],
   "outputs": [],
   "execution_count": 6
  },
  {
   "metadata": {
    "ExecuteTime": {
     "end_time": "2024-09-10T04:12:55.510463Z",
     "start_time": "2024-09-10T04:12:55.474412Z"
    }
   },
   "cell_type": "code",
   "source": [
    "df = pd.read_csv('Data.csv')\n",
    "X = np.array(df.iloc[:, :-1].values)\n",
    "y = np.array(df.iloc[:, -1].values)"
   ],
   "id": "d0dae23e75e57df",
   "outputs": [],
   "execution_count": 7
  },
  {
   "metadata": {
    "ExecuteTime": {
     "end_time": "2024-09-10T04:12:55.545692Z",
     "start_time": "2024-09-10T04:12:55.534589Z"
    }
   },
   "cell_type": "code",
   "source": [
    "from sklearn.model_selection import train_test_split\n",
    "X_train, X_test, y_train, y_test = train_test_split(X, y, test_size=0.2, random_state=0)"
   ],
   "id": "bfbbf9811337c158",
   "outputs": [],
   "execution_count": 8
  },
  {
   "metadata": {
    "ExecuteTime": {
     "end_time": "2024-09-10T04:12:55.582241Z",
     "start_time": "2024-09-10T04:12:55.571386Z"
    }
   },
   "cell_type": "code",
   "source": [
    "from sklearn.preprocessing import StandardScaler\n",
    "sc = StandardScaler()\n",
    "X_train = sc.fit_transform(X_train)\n",
    "X_test = sc.transform(X_test)"
   ],
   "id": "acaddc87e0da8dba",
   "outputs": [],
   "execution_count": 9
  },
  {
   "metadata": {
    "ExecuteTime": {
     "end_time": "2024-09-10T04:12:55.627254Z",
     "start_time": "2024-09-10T04:12:55.607934Z"
    }
   },
   "cell_type": "code",
   "source": [
    "from sklearn.linear_model import LinearRegression\n",
    "lr = LinearRegression()\n",
    "lr.fit(X_train, y_train)\n",
    "y_pred_lr = lr.predict(X_test)\n",
    "lr.score(X_test, y_test)"
   ],
   "id": "d36b7312c4ba7b7f",
   "outputs": [
    {
     "data": {
      "text/plain": [
       "0.9325315554761302"
      ]
     },
     "execution_count": 10,
     "metadata": {},
     "output_type": "execute_result"
    }
   ],
   "execution_count": 10
  },
  {
   "metadata": {
    "ExecuteTime": {
     "end_time": "2024-09-10T04:12:55.749166Z",
     "start_time": "2024-09-10T04:12:55.713813Z"
    }
   },
   "cell_type": "code",
   "source": [
    "from sklearn.preprocessing import PolynomialFeatures\n",
    "poly = PolynomialFeatures(degree=2)\n",
    "X_train_poly = poly.fit_transform(X_train)\n",
    "X_test_poly = poly.transform(X_test)\n",
    "lr_poly = LinearRegression()\n",
    "lr_poly.fit(X_train_poly, y_train)\n",
    "y_pred_lr_poly = lr_poly.predict(X_test_poly)\n",
    "lr_poly.score(X_test_poly, y_test)"
   ],
   "id": "26273ca77c4766c9",
   "outputs": [
    {
     "data": {
      "text/plain": [
       "0.9421687659462381"
      ]
     },
     "execution_count": 11,
     "metadata": {},
     "output_type": "execute_result"
    }
   ],
   "execution_count": 11
  },
  {
   "metadata": {
    "ExecuteTime": {
     "end_time": "2024-09-10T04:12:55.968035Z",
     "start_time": "2024-09-10T04:12:55.824133Z"
    }
   },
   "cell_type": "code",
   "source": [
    "from sklearn.tree import DecisionTreeRegressor\n",
    "dtr = DecisionTreeRegressor(random_state=0)\n",
    "dtr.fit(X_train, y_train)\n",
    "y_pred_dtr = dtr.predict(X_test)\n",
    "dtr.score(X_test, y_test)"
   ],
   "id": "b531dcd83b09d641",
   "outputs": [
    {
     "data": {
      "text/plain": [
       "0.9231106384743017"
      ]
     },
     "execution_count": 12,
     "metadata": {},
     "output_type": "execute_result"
    }
   ],
   "execution_count": 12
  },
  {
   "metadata": {
    "ExecuteTime": {
     "end_time": "2024-09-10T04:13:00.560618Z",
     "start_time": "2024-09-10T04:12:56.001786Z"
    }
   },
   "cell_type": "code",
   "source": [
    "from sklearn.ensemble import RandomForestRegressor\n",
    "rfr = RandomForestRegressor(random_state=0)\n",
    "rfr.fit(X_train, y_train)\n",
    "y_pred_rfr = rfr.predict(X_test)\n",
    "rfr.score(X_test, y_test)"
   ],
   "id": "4c9edf7b32c07cf3",
   "outputs": [
    {
     "data": {
      "text/plain": [
       "0.9650896769046733"
      ]
     },
     "execution_count": 13,
     "metadata": {},
     "output_type": "execute_result"
    }
   ],
   "execution_count": 13
  },
  {
   "metadata": {
    "ExecuteTime": {
     "end_time": "2024-09-10T04:13:05.573858Z",
     "start_time": "2024-09-10T04:13:00.709220Z"
    }
   },
   "cell_type": "code",
   "source": [
    "from sklearn.svm import SVR\n",
    "svr = SVR()\n",
    "svr.fit(X_train, y_train)\n",
    "y_pred_svr = svr.predict(X_test)\n",
    "svr.score(X_test, y_test)"
   ],
   "id": "6068dc43e7ea3153",
   "outputs": [
    {
     "data": {
      "text/plain": [
       "0.9430195908033737"
      ]
     },
     "execution_count": 14,
     "metadata": {},
     "output_type": "execute_result"
    }
   ],
   "execution_count": 14
  },
  {
   "metadata": {
    "ExecuteTime": {
     "end_time": "2024-09-10T04:13:05.621185Z",
     "start_time": "2024-09-10T04:13:05.606365Z"
    }
   },
   "cell_type": "code",
   "source": [
    "np.set_printoptions(precision=3)\n",
    "print(np.concatenate((y_pred_lr.reshape(len(y_pred_lr), 1), y_test.reshape(len(y_test), 1)), 1))"
   ],
   "id": "f40bee2235ea8935",
   "outputs": [
    {
     "name": "stdout",
     "output_type": "stream",
     "text": [
      "[[431.428 431.23 ]\n",
      " [458.561 460.01 ]\n",
      " [462.753 461.14 ]\n",
      " ...\n",
      " [469.518 473.26 ]\n",
      " [442.418 438.   ]\n",
      " [461.883 463.28 ]]\n"
     ]
    }
   ],
   "execution_count": 15
  },
  {
   "metadata": {
    "ExecuteTime": {
     "end_time": "2024-09-10T04:13:05.672880Z",
     "start_time": "2024-09-10T04:13:05.660377Z"
    }
   },
   "cell_type": "code",
   "source": [
    "np.set_printoptions(precision=3)\n",
    "print(np.concatenate((y_pred_lr_poly.reshape(len(y_pred_lr_poly), 1), y_test.reshape(len(y_test), 1)), 1))"
   ],
   "id": "7a2d30d7b4b8e8c7",
   "outputs": [
    {
     "name": "stdout",
     "output_type": "stream",
     "text": [
      "[[432.77  431.23 ]\n",
      " [457.414 460.01 ]\n",
      " [462.023 461.14 ]\n",
      " ...\n",
      " [468.919 473.26 ]\n",
      " [441.357 438.   ]\n",
      " [461.125 463.28 ]]\n"
     ]
    }
   ],
   "execution_count": 16
  },
  {
   "metadata": {
    "ExecuteTime": {
     "end_time": "2024-09-10T04:13:05.719767Z",
     "start_time": "2024-09-10T04:13:05.710448Z"
    }
   },
   "cell_type": "code",
   "source": [
    "np.set_printoptions(precision=3)\n",
    "print(np.concatenate((y_pred_dtr.reshape(len(y_pred_dtr), 1), y_test.reshape(len(y_test), 1)), 1))"
   ],
   "id": "abba7f56ff871938",
   "outputs": [
    {
     "name": "stdout",
     "output_type": "stream",
     "text": [
      "[[431.28 431.23]\n",
      " [459.59 460.01]\n",
      " [460.06 461.14]\n",
      " ...\n",
      " [471.46 473.26]\n",
      " [437.76 438.  ]\n",
      " [462.74 463.28]]\n"
     ]
    }
   ],
   "execution_count": 17
  },
  {
   "metadata": {
    "ExecuteTime": {
     "end_time": "2024-09-10T04:13:05.762882Z",
     "start_time": "2024-09-10T04:13:05.752811Z"
    }
   },
   "cell_type": "code",
   "source": [
    "np.set_printoptions(precision=3)\n",
    "print(np.concatenate((y_pred_rfr.reshape(len(y_pred_rfr), 1), y_test.reshape(len(y_test), 1)), 1))"
   ],
   "id": "4206accb473272cf",
   "outputs": [
    {
     "name": "stdout",
     "output_type": "stream",
     "text": [
      "[[433.643 431.23 ]\n",
      " [457.711 460.01 ]\n",
      " [463.411 461.14 ]\n",
      " ...\n",
      " [468.968 473.26 ]\n",
      " [439.167 438.   ]\n",
      " [461.292 463.28 ]]\n"
     ]
    }
   ],
   "execution_count": 18
  },
  {
   "metadata": {
    "ExecuteTime": {
     "end_time": "2024-09-10T04:13:05.805860Z",
     "start_time": "2024-09-10T04:13:05.794591Z"
    }
   },
   "cell_type": "code",
   "source": [
    "np.set_printoptions(precision=3)\n",
    "print(np.concatenate((y_pred_svr.reshape(len(y_pred_svr), 1), y_test.reshape(len(y_test), 1)), 1))"
   ],
   "id": "ed393a26e92a1f20",
   "outputs": [
    {
     "name": "stdout",
     "output_type": "stream",
     "text": [
      "[[433.689 431.23 ]\n",
      " [457.272 460.01 ]\n",
      " [461.811 461.14 ]\n",
      " ...\n",
      " [470.291 473.26 ]\n",
      " [439.517 438.   ]\n",
      " [461.243 463.28 ]]\n"
     ]
    }
   ],
   "execution_count": 19
  }
 ],
 "metadata": {
  "kernelspec": {
   "display_name": "Python 3",
   "language": "python",
   "name": "python3"
  },
  "language_info": {
   "codemirror_mode": {
    "name": "ipython",
    "version": 2
   },
   "file_extension": ".py",
   "mimetype": "text/x-python",
   "name": "python",
   "nbconvert_exporter": "python",
   "pygments_lexer": "ipython2",
   "version": "2.7.6"
  }
 },
 "nbformat": 4,
 "nbformat_minor": 5
}
