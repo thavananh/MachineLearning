{
 "cells": [
  {
   "metadata": {
    "ExecuteTime": {
     "end_time": "2024-09-23T11:48:14.931554Z",
     "start_time": "2024-09-23T11:48:13.213489Z"
    }
   },
   "cell_type": "code",
   "source": [
    "print('Nhap 3 tham so: ', end='')\n",
    "T, P, C = input().split()\n",
    "T = int(T)\n",
    "P = int(P)\n",
    "C = int(C)\n",
    "print(T, P, C)\n",
    "while T < 1 or T > 2:\n",
    "    print('T: ', end='')\n",
    "    T = input()\n",
    "\n",
    "while P < 1:\n",
    "    print('P: ', end='')\n",
    "    P = input()\n",
    "\n",
    "while C > 109 or C < 0:\n",
    "    print('C: ', end='')\n",
    "    C = input()\n",
    "\n",
    "output = 0\n",
    "if T == 1:\n",
    "    output = P\n",
    "else:\n",
    "    output = P / 2\n",
    "    if P % 2 != 0:\n",
    "        output += 1\n",
    "\n",
    "print(int(output * C))"
   ],
   "id": "d9bf29b676435738",
   "outputs": [
    {
     "name": "stdout",
     "output_type": "stream",
     "text": [
      "Nhap 3 tham so: "
     ]
    },
    {
     "ename": "KeyboardInterrupt",
     "evalue": "Interrupted by user",
     "output_type": "error",
     "traceback": [
      "\u001B[1;31m---------------------------------------------------------------------------\u001B[0m",
      "\u001B[1;31mKeyboardInterrupt\u001B[0m                         Traceback (most recent call last)",
      "Cell \u001B[1;32mIn[12], line 2\u001B[0m\n\u001B[0;32m      1\u001B[0m \u001B[38;5;28mprint\u001B[39m(\u001B[38;5;124m'\u001B[39m\u001B[38;5;124mNhap 3 tham so: \u001B[39m\u001B[38;5;124m'\u001B[39m, end\u001B[38;5;241m=\u001B[39m\u001B[38;5;124m'\u001B[39m\u001B[38;5;124m'\u001B[39m)\n\u001B[1;32m----> 2\u001B[0m T, P, C \u001B[38;5;241m=\u001B[39m \u001B[38;5;28minput\u001B[39m()\u001B[38;5;241m.\u001B[39msplit()\n\u001B[0;32m      3\u001B[0m T \u001B[38;5;241m=\u001B[39m \u001B[38;5;28mint\u001B[39m(T)\n\u001B[0;32m      4\u001B[0m P \u001B[38;5;241m=\u001B[39m \u001B[38;5;28mint\u001B[39m(P)\n",
      "File \u001B[1;32m~\\anaconda3\\Lib\\site-packages\\ipykernel\\kernelbase.py:1262\u001B[0m, in \u001B[0;36mKernel.raw_input\u001B[1;34m(self, prompt)\u001B[0m\n\u001B[0;32m   1260\u001B[0m     msg \u001B[38;5;241m=\u001B[39m \u001B[38;5;124m\"\u001B[39m\u001B[38;5;124mraw_input was called, but this frontend does not support input requests.\u001B[39m\u001B[38;5;124m\"\u001B[39m\n\u001B[0;32m   1261\u001B[0m     \u001B[38;5;28;01mraise\u001B[39;00m StdinNotImplementedError(msg)\n\u001B[1;32m-> 1262\u001B[0m \u001B[38;5;28;01mreturn\u001B[39;00m \u001B[38;5;28mself\u001B[39m\u001B[38;5;241m.\u001B[39m_input_request(\n\u001B[0;32m   1263\u001B[0m     \u001B[38;5;28mstr\u001B[39m(prompt),\n\u001B[0;32m   1264\u001B[0m     \u001B[38;5;28mself\u001B[39m\u001B[38;5;241m.\u001B[39m_parent_ident[\u001B[38;5;124m\"\u001B[39m\u001B[38;5;124mshell\u001B[39m\u001B[38;5;124m\"\u001B[39m],\n\u001B[0;32m   1265\u001B[0m     \u001B[38;5;28mself\u001B[39m\u001B[38;5;241m.\u001B[39mget_parent(\u001B[38;5;124m\"\u001B[39m\u001B[38;5;124mshell\u001B[39m\u001B[38;5;124m\"\u001B[39m),\n\u001B[0;32m   1266\u001B[0m     password\u001B[38;5;241m=\u001B[39m\u001B[38;5;28;01mFalse\u001B[39;00m,\n\u001B[0;32m   1267\u001B[0m )\n",
      "File \u001B[1;32m~\\anaconda3\\Lib\\site-packages\\ipykernel\\kernelbase.py:1305\u001B[0m, in \u001B[0;36mKernel._input_request\u001B[1;34m(self, prompt, ident, parent, password)\u001B[0m\n\u001B[0;32m   1302\u001B[0m \u001B[38;5;28;01mexcept\u001B[39;00m \u001B[38;5;167;01mKeyboardInterrupt\u001B[39;00m:\n\u001B[0;32m   1303\u001B[0m     \u001B[38;5;66;03m# re-raise KeyboardInterrupt, to truncate traceback\u001B[39;00m\n\u001B[0;32m   1304\u001B[0m     msg \u001B[38;5;241m=\u001B[39m \u001B[38;5;124m\"\u001B[39m\u001B[38;5;124mInterrupted by user\u001B[39m\u001B[38;5;124m\"\u001B[39m\n\u001B[1;32m-> 1305\u001B[0m     \u001B[38;5;28;01mraise\u001B[39;00m \u001B[38;5;167;01mKeyboardInterrupt\u001B[39;00m(msg) \u001B[38;5;28;01mfrom\u001B[39;00m \u001B[38;5;28;01mNone\u001B[39;00m\n\u001B[0;32m   1306\u001B[0m \u001B[38;5;28;01mexcept\u001B[39;00m \u001B[38;5;167;01mException\u001B[39;00m:\n\u001B[0;32m   1307\u001B[0m     \u001B[38;5;28mself\u001B[39m\u001B[38;5;241m.\u001B[39mlog\u001B[38;5;241m.\u001B[39mwarning(\u001B[38;5;124m\"\u001B[39m\u001B[38;5;124mInvalid Message:\u001B[39m\u001B[38;5;124m\"\u001B[39m, exc_info\u001B[38;5;241m=\u001B[39m\u001B[38;5;28;01mTrue\u001B[39;00m)\n",
      "\u001B[1;31mKeyboardInterrupt\u001B[0m: Interrupted by user"
     ]
    }
   ],
   "execution_count": 12
  },
  {
   "metadata": {
    "ExecuteTime": {
     "end_time": "2024-09-23T11:48:14.944546600Z",
     "start_time": "2024-09-23T11:40:15.706757Z"
    }
   },
   "cell_type": "code",
   "source": [
    "s = input()\n",
    "countUp = 0\n",
    "countLower = 0\n",
    "for i in s:\n",
    "    if (i.isupper()):\n",
    "        countUp += 1\n",
    "    else:\n",
    "        countLower += 1\n",
    "        \n",
    "print(f'{countUp} UPPER {countLower} lower')"
   ],
   "id": "540efdeda9e3dc92",
   "outputs": [
    {
     "name": "stdout",
     "output_type": "stream",
     "text": [
      "1 UPPER 4 lower\n"
     ]
    }
   ],
   "execution_count": 6
  },
  {
   "metadata": {
    "ExecuteTime": {
     "end_time": "2024-09-23T11:48:19.975186Z",
     "start_time": "2024-09-23T11:48:16.934949Z"
    }
   },
   "cell_type": "code",
   "source": [
    "num = input()\n",
    "hatJump = len(num)\n",
    "sum = 0\n",
    "s1 = \"\"\n",
    "count = 0\n",
    "for i in num:\n",
    "    sum += int(i) ** hatJump\n",
    "    if count == len(num) - 1:\n",
    "        s1 += f'{i}^{hatJump}'\n",
    "    else:\n",
    "        s1 += f'{i}^{hatJump} + '\n",
    "    count += 1\n",
    "\n",
    "if sum == int(num):\n",
    "    print(f'{num} is Armstrong\\'s because: {s1} = {num}')"
   ],
   "id": "c4d01919a5d43ae6",
   "outputs": [
    {
     "name": "stdout",
     "output_type": "stream",
     "text": [
      "371 is Armstrong's because: 3^3 + 7^3 + 1^3 = 371\n"
     ]
    }
   ],
   "execution_count": 13
  },
  {
   "metadata": {},
   "cell_type": "code",
   "outputs": [],
   "execution_count": null,
   "source": [
    "def calculate_gpa():\n",
    "    \"\"\"Tính điểm trung bình (GPA) dựa trên điểm bài tập, giữa kỳ và cuối kỳ.\"\"\"\n",
    "\n",
    "    # Nhập và kiểm tra điểm\n",
    "    while True:\n",
    "        try:\n",
    "            diem_bai_tap = float(input(\"Nhập điểm bài tập (0-10): \"))\n",
    "            if 0 <= diem_bai_tap <= 10:\n",
    "                break\n",
    "            else:\n",
    "                print(\"Điểm không hợp lệ. Vui lòng nhập giá trị từ 0 đến 10.\")\n",
    "        except ValueError:\n",
    "            print(\"Đầu vào không hợp lệ. Vui lòng nhập một số.\")\n",
    "\n",
    "    while True:\n",
    "        try:\n",
    "            diem_giua_ky = float(input(\"Nhập điểm giữa kỳ (0-10): \"))\n",
    "            if 0 <= diem_giua_ky <= 10:\n",
    "                break\n",
    "            else:\n",
    "                print(\"Điểm không hợp lệ. Vui lòng nhập giá trị từ 0 đến 10.\")\n",
    "        except ValueError:\n",
    "            print(\"Đầu vào không hợp lệ. Vui lòng nhập một số.\")\n",
    "\n",
    "    while True:\n",
    "        try:\n",
    "            diem_cuoi_ky = float(input(\"Nhập điểm cuối kỳ (0-10): \"))\n",
    "            if 0 <= diem_cuoi_ky <= 10:\n",
    "                break\n",
    "            else:\n",
    "                print(\"Điểm không hợp lệ. Vui lòng nhập giá trị từ 0 đến 10.\")\n",
    "        except ValueError:\n",
    "            print(\"Đầu vào không hợp lệ. Vui lòng nhập một số.\")\n",
    "\n",
    "    # Tính điểm tổng kết\n",
    "    diem_tong_ket = (diem_bai_tap * 0.2) + (diem_giua_ky * 0.2) + (diem_cuoi_ky * 0.6)\n",
    "\n",
    "    # Ánh xạ điểm GPA và in ra\n",
    "    if 8.5 <= diem_tong_ket <= 10.0:\n",
    "        diem_chu = \"A\"\n",
    "        gpa = 4.0\n",
    "    elif 7.0 <= diem_tong_ket <= 8.4:\n",
    "        diem_chu = \"B\"\n",
    "        gpa = 3.0\n",
    "    elif 5.5 <= diem_tong_ket <= 6.9:\n",
    "        diem_chu = \"C\"\n",
    "        gpa = 2.0\n",
    "    elif 4.0 <= diem_tong_ket <= 5.4:\n",
    "        diem_chu = \"D\"\n",
    "        gpa = 1.0\n",
    "    elif 0.0 <= diem_tong_ket <= 3.9:\n",
    "        diem_chu = \"F\"\n",
    "        gpa = 0.0\n",
    "    else:\n",
    "        diem_chu = \"Không hợp lệ\"  # Không nên xảy ra do đã kiểm tra đầu vào\n",
    "        gpa = -1\n",
    "\n",
    "    print(f\"Điểm tổng kết: {diem_tong_ket:.2f}\")\n",
    "    print(f\"Điểm chữ: {diem_chu}\")\n",
    "    print(f\"GPA: {gpa}\")\n",
    "\n",
    "if __name__ == \"__main__\":\n",
    "    calculate_gpa() "
   ],
   "id": "55880648b2e09400"
  },
  {
   "metadata": {},
   "cell_type": "code",
   "outputs": [],
   "execution_count": null,
   "source": "",
   "id": "be0feee27e96e7d1"
  }
 ],
 "metadata": {
  "kernelspec": {
   "display_name": "Python 3",
   "language": "python",
   "name": "python3"
  },
  "language_info": {
   "codemirror_mode": {
    "name": "ipython",
    "version": 2
   },
   "file_extension": ".py",
   "mimetype": "text/x-python",
   "name": "python",
   "nbconvert_exporter": "python",
   "pygments_lexer": "ipython2",
   "version": "2.7.6"
  }
 },
 "nbformat": 4,
 "nbformat_minor": 5
}
