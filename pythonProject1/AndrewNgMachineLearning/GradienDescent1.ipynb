{
 "cells": [
  {
   "cell_type": "code",
   "id": "initial_id",
   "metadata": {
    "collapsed": true,
    "ExecuteTime": {
     "end_time": "2024-07-12T21:55:44.743063Z",
     "start_time": "2024-07-12T21:55:44.740521Z"
    }
   },
   "source": "import numpy as np",
   "outputs": [],
   "execution_count": 67
  },
  {
   "metadata": {
    "ExecuteTime": {
     "end_time": "2024-07-12T21:55:44.747690Z",
     "start_time": "2024-07-12T21:55:44.745100Z"
    }
   },
   "cell_type": "code",
   "source": [
    "x_train = np.array([1.0, 2.0])\n",
    "y_train = np.array([300.0, 500.0])"
   ],
   "id": "d5b445d19bc929e1",
   "outputs": [],
   "execution_count": 68
  },
  {
   "metadata": {
    "ExecuteTime": {
     "end_time": "2024-07-12T21:55:44.752345Z",
     "start_time": "2024-07-12T21:55:44.749091Z"
    }
   },
   "cell_type": "code",
   "source": [
    "def costFunction(x_train, y_train, w, b):\n",
    "    m = len(x_train)\n",
    "    cost_sum = 0\n",
    "    for i in range(m):\n",
    "        cost_sum += (w*x_train[i] + b - y_train[i])**2\n",
    "        \n",
    "    return cost_sum/2*m"
   ],
   "id": "fdde07b8b33be719",
   "outputs": [],
   "execution_count": 69
  },
  {
   "metadata": {
    "ExecuteTime": {
     "end_time": "2024-07-12T21:55:44.756568Z",
     "start_time": "2024-07-12T21:55:44.753459Z"
    }
   },
   "cell_type": "code",
   "source": [
    "def derivativeCostFunctionW(x_train, y_train, w, b):\n",
    "    m = len(x_train)\n",
    "    fsum = 0\n",
    "    for i in range(m):\n",
    "        fsum += (w*x_train[i] + b - y_train[i])*x_train[i]\n",
    "        \n",
    "    return fsum/m"
   ],
   "id": "31b1228f287deba9",
   "outputs": [],
   "execution_count": 70
  },
  {
   "metadata": {
    "ExecuteTime": {
     "end_time": "2024-07-12T21:55:44.761387Z",
     "start_time": "2024-07-12T21:55:44.757943Z"
    }
   },
   "cell_type": "code",
   "source": [
    "def derivativeCostFunctionB(x_train, y_train, w, b):\n",
    "    m = len(x_train)\n",
    "    fsum = 0\n",
    "    for i in range(m):\n",
    "        fsum += (w*x_train[i] + b - y_train[i])\n",
    "        \n",
    "    return fsum/m"
   ],
   "id": "acad8b6f0c95920f",
   "outputs": [],
   "execution_count": 71
  },
  {
   "metadata": {
    "ExecuteTime": {
     "end_time": "2024-07-12T21:55:44.765938Z",
     "start_time": "2024-07-12T21:55:44.762338Z"
    }
   },
   "cell_type": "code",
   "source": [
    "def gradientDescentFunction(x_train, y_train, learning_rate, w, b):\n",
    "    for i in range(0, 10001):\n",
    "        w = w - learning_rate*derivativeCostFunctionW(x_train, y_train, w, b)\n",
    "        b = b - learning_rate*derivativeCostFunctionB(x_train, y_train, w, b)\n",
    "    \n",
    "    return w, b"
   ],
   "id": "bb82bc647d24e592",
   "outputs": [],
   "execution_count": 72
  },
  {
   "metadata": {
    "ExecuteTime": {
     "end_time": "2024-07-12T21:56:36.579729Z",
     "start_time": "2024-07-12T21:56:36.546629Z"
    }
   },
   "cell_type": "code",
   "source": "w, b = gradientDescentFunction(x_train, y_train, 1.0e-2, 0, 0)",
   "id": "8a177487083ca9e1",
   "outputs": [],
   "execution_count": 74
  },
  {
   "metadata": {
    "ExecuteTime": {
     "end_time": "2024-07-12T21:56:42.492770Z",
     "start_time": "2024-07-12T21:56:42.489718Z"
    }
   },
   "cell_type": "code",
   "source": "print(w, b)",
   "id": "121d98a2ef216ae9",
   "outputs": [
    {
     "name": "stdout",
     "output_type": "stream",
     "text": [
      "199.99404111901782 100.0096397145328\n"
     ]
    }
   ],
   "execution_count": 75
  },
  {
   "metadata": {
    "ExecuteTime": {
     "end_time": "2024-07-12T22:07:23.460614Z",
     "start_time": "2024-07-12T22:07:23.457341Z"
    }
   },
   "cell_type": "code",
   "source": "print(w * 1.2 + b)",
   "id": "a6a5da55065f05ac",
   "outputs": [
    {
     "name": "stdout",
     "output_type": "stream",
     "text": [
      "340.0024890573542\n"
     ]
    }
   ],
   "execution_count": 76
  },
  {
   "metadata": {},
   "cell_type": "code",
   "outputs": [],
   "execution_count": null,
   "source": "",
   "id": "6f02c7f022635933"
  }
 ],
 "metadata": {
  "kernelspec": {
   "display_name": "Python 3",
   "language": "python",
   "name": "python3"
  },
  "language_info": {
   "codemirror_mode": {
    "name": "ipython",
    "version": 2
   },
   "file_extension": ".py",
   "mimetype": "text/x-python",
   "name": "python",
   "nbconvert_exporter": "python",
   "pygments_lexer": "ipython2",
   "version": "2.7.6"
  }
 },
 "nbformat": 4,
 "nbformat_minor": 5
}
