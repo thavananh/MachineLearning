{
 "cells": [
  {
   "cell_type": "code",
   "id": "initial_id",
   "metadata": {
    "collapsed": true,
    "ExecuteTime": {
     "end_time": "2024-07-13T11:14:36.971848Z",
     "start_time": "2024-07-13T11:14:36.969198Z"
    }
   },
   "source": [
    "import numpy as np\n",
    "import copy, math"
   ],
   "outputs": [],
   "execution_count": 258
  },
  {
   "metadata": {
    "ExecuteTime": {
     "end_time": "2024-07-13T11:14:36.983362Z",
     "start_time": "2024-07-13T11:14:36.979551Z"
    }
   },
   "cell_type": "code",
   "source": [
    "X_train = np.array([[2104, 5, 1, 45], [1416, 3, 2, 40], [852, 2, 1, 35]])\n",
    "y_train = np.array([460, 232, 178])\n",
    "print(X_train.shape)\n",
    "print(y_train.shape)\n",
    "print(X_train[0])\n",
    "print(X_train.shape[0])\n",
    "print(len(X_train[0]))"
   ],
   "id": "67bda9a54b537ac6",
   "outputs": [
    {
     "name": "stdout",
     "output_type": "stream",
     "text": [
      "(3, 4)\n",
      "(3,)\n",
      "[2104    5    1   45]\n",
      "3\n",
      "4\n"
     ]
    }
   ],
   "execution_count": 259
  },
  {
   "metadata": {
    "ExecuteTime": {
     "end_time": "2024-07-13T11:14:36.989585Z",
     "start_time": "2024-07-13T11:14:36.986551Z"
    }
   },
   "cell_type": "code",
   "source": [
    "b_init = 785.1811367994083\n",
    "w_init = np.array([ 0.39133535, 18.75376741, -53.36032453, -26.42131618])\n",
    "print(f\"w_init shape: {w_init.shape}, b_init type: {type(b_init)}\")\n",
    "    "
   ],
   "id": "925079691c2340d",
   "outputs": [
    {
     "name": "stdout",
     "output_type": "stream",
     "text": [
      "w_init shape: (4,), b_init type: <class 'float'>\n"
     ]
    }
   ],
   "execution_count": 260
  },
  {
   "metadata": {
    "ExecuteTime": {
     "end_time": "2024-07-13T11:14:36.993659Z",
     "start_time": "2024-07-13T11:14:36.990858Z"
    }
   },
   "cell_type": "code",
   "source": [
    "def predict_single_loop(x, w, b):\n",
    "    n = x.shape[0]\n",
    "    p = 0\n",
    "    for i in range(n):\n",
    "        p += x[i] * w[i]\n",
    "    \n",
    "    return p + b"
   ],
   "id": "febedc5a10b1237b",
   "outputs": [],
   "execution_count": 261
  },
  {
   "metadata": {
    "ExecuteTime": {
     "end_time": "2024-07-13T11:14:36.998168Z",
     "start_time": "2024-07-13T11:14:36.994833Z"
    }
   },
   "cell_type": "code",
   "source": "print(predict_single_loop(X_train[0,:], w_init, b_init))",
   "id": "10231e6c435c085f",
   "outputs": [
    {
     "name": "stdout",
     "output_type": "stream",
     "text": [
      "459.9999976194083\n"
     ]
    }
   ],
   "execution_count": 262
  },
  {
   "metadata": {
    "ExecuteTime": {
     "end_time": "2024-07-13T11:14:37.002387Z",
     "start_time": "2024-07-13T11:14:36.999206Z"
    }
   },
   "cell_type": "code",
   "source": [
    "def predict_single_dot(x, w, b):\n",
    "    p = np.dot(x, w) + b\n",
    "    return p"
   ],
   "id": "df7d40667ea9723b",
   "outputs": [],
   "execution_count": 263
  },
  {
   "metadata": {
    "ExecuteTime": {
     "end_time": "2024-07-13T11:14:37.017787Z",
     "start_time": "2024-07-13T11:14:37.014898Z"
    }
   },
   "cell_type": "code",
   "source": "print(predict_single_dot(X_train[0,:], w_init, b_init))",
   "id": "d27905b8c727e095",
   "outputs": [
    {
     "name": "stdout",
     "output_type": "stream",
     "text": [
      "459.9999976194082\n"
     ]
    }
   ],
   "execution_count": 264
  },
  {
   "metadata": {
    "ExecuteTime": {
     "end_time": "2024-07-13T11:14:37.022067Z",
     "start_time": "2024-07-13T11:14:37.019135Z"
    }
   },
   "cell_type": "code",
   "source": [
    "def compute_cost(X, y, w, b):\n",
    "    m = X.shape[0]\n",
    "    cost = 0.0\n",
    "    for i in range(m):\n",
    "        cost += (np.dot(X[i], w) + b - y[i]) ** 2\n",
    "    \n",
    "    return cost/(2*m)"
   ],
   "id": "5c527423e4ec1f16",
   "outputs": [],
   "execution_count": 265
  },
  {
   "metadata": {
    "ExecuteTime": {
     "end_time": "2024-07-13T11:14:37.031571Z",
     "start_time": "2024-07-13T11:14:37.028796Z"
    }
   },
   "cell_type": "code",
   "source": "print(compute_cost(X_train, y_train, w_init, b_init))",
   "id": "1783e7f91841ff0c",
   "outputs": [
    {
     "name": "stdout",
     "output_type": "stream",
     "text": [
      "1.5578904330213735e-12\n"
     ]
    }
   ],
   "execution_count": 266
  },
  {
   "metadata": {
    "ExecuteTime": {
     "end_time": "2024-07-13T11:14:37.037742Z",
     "start_time": "2024-07-13T11:14:37.034419Z"
    }
   },
   "cell_type": "code",
   "source": [
    "def compute_derivative_WB(X_train, y_train, w, b):\n",
    "    sum_w = 0.0\n",
    "    sum_b = 0.0\n",
    "    m, n = X_train.shape\n",
    "    for i in range(m):\n",
    "        tmp = ((np.dot(X_train[i], w) + b) - y_train[i])\n",
    "        for j in range (n):\n",
    "            sum_w += tmp * X_train[i][j]\n",
    "        sum_b += tmp\n",
    "    sum_w /= m\n",
    "    sum_b /= m\n",
    "    return sum_w, sum_b"
   ],
   "id": "9528401c0ee4873a",
   "outputs": [],
   "execution_count": 267
  },
  {
   "metadata": {},
   "cell_type": "markdown",
   "source": "",
   "id": "6e80ff6479e5b3b3"
  },
  {
   "metadata": {
    "ExecuteTime": {
     "end_time": "2024-07-13T11:14:59.084492Z",
     "start_time": "2024-07-13T11:14:59.076682Z"
    }
   },
   "cell_type": "code",
   "source": [
    "def compute_gradient_descent(X, y, w, b, learning_rate):\n",
    "    for i in range(1000):\n",
    "        w_derivative, b_derivative = compute_derivative_WB(X, y, w, b)\n",
    "        w = w - learning_rate*w_derivative\n",
    "        b = b - learning_rate*b_derivative\n",
    "    return w, b"
   ],
   "id": "d65ba01991791961",
   "outputs": [],
   "execution_count": 276
  },
  {
   "metadata": {
    "ExecuteTime": {
     "end_time": "2024-07-13T11:14:37.084612Z",
     "start_time": "2024-07-13T11:14:37.063058Z"
    }
   },
   "cell_type": "code",
   "source": "print(compute_gradient_descent(X_train, y_train, w_init, b_init, 5.0e-7))",
   "id": "55c5ab3f1a2c2e59",
   "outputs": [
    {
     "name": "stdout",
     "output_type": "stream",
     "text": [
      "(array([  0.39133535,  18.75376741, -53.36032453, -26.42131618]), 785.1811367994089)\n"
     ]
    }
   ],
   "execution_count": 269
  }
 ],
 "metadata": {
  "kernelspec": {
   "display_name": "Python 3",
   "language": "python",
   "name": "python3"
  },
  "language_info": {
   "codemirror_mode": {
    "name": "ipython",
    "version": 2
   },
   "file_extension": ".py",
   "mimetype": "text/x-python",
   "name": "python",
   "nbconvert_exporter": "python",
   "pygments_lexer": "ipython2",
   "version": "2.7.6"
  }
 },
 "nbformat": 4,
 "nbformat_minor": 5
}
