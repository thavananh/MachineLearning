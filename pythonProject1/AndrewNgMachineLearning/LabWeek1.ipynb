{
 "cells": [
  {
   "cell_type": "code",
   "id": "initial_id",
   "metadata": {
    "collapsed": true,
    "ExecuteTime": {
     "end_time": "2024-07-12T20:18:14.571642Z",
     "start_time": "2024-07-12T20:18:14.568210Z"
    }
   },
   "source": [
    "import numpy as np\n",
    "import matplotlib\n",
    "import matplotlib.pyplot as plt\n",
    "matplotlib.use('TkAgg')"
   ],
   "outputs": [],
   "execution_count": 37
  },
  {
   "metadata": {
    "ExecuteTime": {
     "end_time": "2024-07-12T20:18:14.643932Z",
     "start_time": "2024-07-12T20:18:14.639852Z"
    }
   },
   "cell_type": "code",
   "source": [
    "x_train = np.array([1.0, 2.0])\n",
    "y_train = np.array([300.0, 500.0])\n",
    "print(f\"x_train = {x_train}\")\n",
    "print(f\"y_train = {y_train}\")"
   ],
   "id": "6f3d118c070b4318",
   "outputs": [
    {
     "name": "stdout",
     "output_type": "stream",
     "text": [
      "x_train = [1. 2.]\n",
      "y_train = [300. 500.]\n"
     ]
    }
   ],
   "execution_count": 38
  },
  {
   "metadata": {
    "ExecuteTime": {
     "end_time": "2024-07-12T20:18:14.692728Z",
     "start_time": "2024-07-12T20:18:14.689205Z"
    }
   },
   "cell_type": "code",
   "source": [
    "m = len(x_train)\n",
    "print(f\"Number of training examples is = {m}\")"
   ],
   "id": "8e483f9b0a6aab81",
   "outputs": [
    {
     "name": "stdout",
     "output_type": "stream",
     "text": [
      "Number of training examples is = 2\n"
     ]
    }
   ],
   "execution_count": 39
  },
  {
   "metadata": {},
   "cell_type": "code",
   "source": [
    "i = 1 # Change this to 1 to see (x^1, y^1)\n",
    "\n",
    "x_i = x_train[i]\n",
    "y_i = y_train[i]\n",
    "print(f\"(x^({i}), y^({i})) = ({x_i}, {y_i})\")"
   ],
   "id": "4afa77790418d1b9",
   "outputs": [
    {
     "name": "stdout",
     "output_type": "stream",
     "text": [
      "(x^(1), y^(1)) = (2.0, 500.0)\n"
     ]
    }
   ],
   "execution_count": 40
  },
  {
   "metadata": {
    "ExecuteTime": {
     "end_time": "2024-07-12T20:18:16.721913Z",
     "start_time": "2024-07-12T20:18:14.698365Z"
    }
   },
   "cell_type": "code",
   "source": [
    "plt.scatter(x_train, y_train, marker = 'X', color = 'red')\n",
    "plt.title(\"House price\")\n",
    "plt.xlabel('Size (1000 sqft)')\n",
    "plt.ylabel('Price (in 1000s of dollars)')\n",
    "plt.show()"
   ],
   "id": "396fb88f09fade36",
   "outputs": [],
   "execution_count": 41
  },
  {
   "metadata": {
    "ExecuteTime": {
     "end_time": "2024-07-12T20:18:16.726634Z",
     "start_time": "2024-07-12T20:18:16.723434Z"
    }
   },
   "cell_type": "code",
   "source": [
    "w = 200\n",
    "b = 100\n",
    "print(f\"w = {w}, b = {b}\")"
   ],
   "id": "ecd205393eee93bc",
   "outputs": [
    {
     "name": "stdout",
     "output_type": "stream",
     "text": [
      "w = 200, b = 100\n"
     ]
    }
   ],
   "execution_count": 42
  },
  {
   "metadata": {},
   "cell_type": "markdown",
   "source": [
    "for $x^{(0)}$, `f_wb = w * x[0] + b`\n",
    "\n",
    "for $x^{(1)}$, `f_wb = w * x[1] + b`"
   ],
   "id": "f5e5cbc90aa1fd5e"
  },
  {
   "metadata": {
    "ExecuteTime": {
     "end_time": "2024-07-12T20:18:16.775394Z",
     "start_time": "2024-07-12T20:18:16.772144Z"
    }
   },
   "cell_type": "code",
   "source": [
    "def compute_model_output(x_train, w, b):\n",
    "    m = len(x_train)\n",
    "    f_wb = np.zeros(m) #khởi tạo mảng với chiều dài m và fill nó với 0\n",
    "    for i in range(m):\n",
    "        f_wb[i] = w * x_train[i] + b;\n",
    "    return f_wb"
   ],
   "id": "22b4b3aa5b1494d0",
   "outputs": [],
   "execution_count": 43
  },
  {
   "metadata": {},
   "cell_type": "markdown",
   "source": "",
   "id": "97157a91fcb3602a"
  },
  {
   "metadata": {
    "ExecuteTime": {
     "end_time": "2024-07-12T20:43:03.681490Z",
     "start_time": "2024-07-12T20:42:58.478509Z"
    }
   },
   "cell_type": "code",
   "source": [
    "tmp_f_wb = compute_model_output(x_train, w, b)\n",
    "\n",
    "# Plot our model prediction\n",
    "plt.plot(x_train, tmp_f_wb, color='blue',label='Our Prediction')\n",
    "\n",
    "# Plot the data points\n",
    "plt.scatter(x_train, y_train, marker='x', color='red',label='Actual Values')\n",
    "\n",
    "# Set the title\n",
    "plt.title(\"Housing Prices\")\n",
    "# Set the y-axis label\n",
    "plt.ylabel('Price (in 1000s of dollars)')\n",
    "# Set the x-axis label\n",
    "plt.xlabel('Size (1000 sqft)')\n",
    "plt.legend()\n",
    "plt.show()"
   ],
   "id": "3845e4ea1d53bc90",
   "outputs": [],
   "execution_count": 46
  },
  {
   "metadata": {
    "ExecuteTime": {
     "end_time": "2024-07-12T20:43:06.725825Z",
     "start_time": "2024-07-12T20:43:06.721967Z"
    }
   },
   "cell_type": "code",
   "source": [
    "w = 100                         \n",
    "b = 100    \n",
    "x_i = 1.2\n",
    "cost_1200sqft = w * x_i + b    \n",
    "\n",
    "print(f\"${cost_1200sqft:.0f} thousand dollars\")"
   ],
   "id": "dad4323f6fab0139",
   "outputs": [
    {
     "name": "stdout",
     "output_type": "stream",
     "text": [
      "$220 thousand dollars\n"
     ]
    }
   ],
   "execution_count": 47
  },
  {
   "metadata": {
    "ExecuteTime": {
     "end_time": "2024-07-12T20:18:22.980525Z",
     "start_time": "2024-07-12T20:18:22.978482Z"
    }
   },
   "cell_type": "code",
   "source": "",
   "id": "f1e6c219f4369921",
   "outputs": [],
   "execution_count": 45
  }
 ],
 "metadata": {
  "kernelspec": {
   "display_name": "Python 3",
   "language": "python",
   "name": "python3"
  },
  "language_info": {
   "codemirror_mode": {
    "name": "ipython",
    "version": 2
   },
   "file_extension": ".py",
   "mimetype": "text/x-python",
   "name": "python",
   "nbconvert_exporter": "python",
   "pygments_lexer": "ipython2",
   "version": "2.7.6"
  }
 },
 "nbformat": 4,
 "nbformat_minor": 5
}
