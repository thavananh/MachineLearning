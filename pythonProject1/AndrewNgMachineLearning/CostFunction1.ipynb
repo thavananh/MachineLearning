{
 "cells": [
  {
   "cell_type": "code",
   "id": "initial_id",
   "metadata": {
    "collapsed": true,
    "ExecuteTime": {
     "end_time": "2024-07-12T21:36:13.905501Z",
     "start_time": "2024-07-12T21:36:13.902517Z"
    }
   },
   "source": "import numpy as np\n",
   "outputs": [],
   "execution_count": 71
  },
  {
   "metadata": {
    "ExecuteTime": {
     "end_time": "2024-07-12T21:36:13.911641Z",
     "start_time": "2024-07-12T21:36:13.907648Z"
    }
   },
   "cell_type": "code",
   "source": [
    "x_train = np.array([1.0, 2.0])\n",
    "y_train = np.array([300.0, 500.0])"
   ],
   "id": "2e53053c834ac35e",
   "outputs": [],
   "execution_count": 72
  },
  {
   "metadata": {
    "ExecuteTime": {
     "end_time": "2024-07-12T21:36:13.916640Z",
     "start_time": "2024-07-12T21:36:13.913508Z"
    }
   },
   "cell_type": "code",
   "source": [
    "def CostFunction(x_train, y_train, w, b):\n",
    "    fsum = 0\n",
    "    n = len(x_train)\n",
    "    for i in range(n):\n",
    "        fsum += (w*x_train[i] + b - y_train[i])**2\n",
    "        \n",
    "    return fsum/(2*n)"
   ],
   "id": "dfa116f8c038af7a",
   "outputs": [],
   "execution_count": 73
  },
  {
   "metadata": {
    "ExecuteTime": {
     "end_time": "2024-07-12T21:36:13.921499Z",
     "start_time": "2024-07-12T21:36:13.917812Z"
    }
   },
   "cell_type": "code",
   "source": "print(CostFunction(x_train, y_train, 100, 100))",
   "id": "2814e72dac149fc8",
   "outputs": [
    {
     "name": "stdout",
     "output_type": "stream",
     "text": [
      "12500.0\n"
     ]
    }
   ],
   "execution_count": 74
  },
  {
   "metadata": {
    "ExecuteTime": {
     "end_time": "2024-07-12T21:36:13.924775Z",
     "start_time": "2024-07-12T21:36:13.922665Z"
    }
   },
   "cell_type": "code",
   "source": "",
   "id": "bb4445edcb3b203b",
   "outputs": [],
   "execution_count": 74
  },
  {
   "metadata": {
    "ExecuteTime": {
     "end_time": "2024-07-12T21:36:13.928268Z",
     "start_time": "2024-07-12T21:36:13.926313Z"
    }
   },
   "cell_type": "code",
   "source": "",
   "id": "8f64c7c5691784ef",
   "outputs": [],
   "execution_count": 74
  }
 ],
 "metadata": {
  "kernelspec": {
   "display_name": "Python 3",
   "language": "python",
   "name": "python3"
  },
  "language_info": {
   "codemirror_mode": {
    "name": "ipython",
    "version": 2
   },
   "file_extension": ".py",
   "mimetype": "text/x-python",
   "name": "python",
   "nbconvert_exporter": "python",
   "pygments_lexer": "ipython2",
   "version": "2.7.6"
  }
 },
 "nbformat": 4,
 "nbformat_minor": 5
}
