{
 "cells": [
  {
   "cell_type": "code",
   "id": "initial_id",
   "metadata": {
    "collapsed": true,
    "ExecuteTime": {
     "end_time": "2024-07-13T06:51:21.408362Z",
     "start_time": "2024-07-13T06:51:21.329421Z"
    }
   },
   "source": [
    "import numpy as np\n",
    "import time"
   ],
   "outputs": [],
   "execution_count": 1
  },
  {
   "metadata": {
    "ExecuteTime": {
     "end_time": "2024-07-13T06:52:45.568426Z",
     "start_time": "2024-07-13T06:52:45.564916Z"
    }
   },
   "cell_type": "code",
   "source": [
    "a = np.zeros(4)\n",
    "print(a)\n",
    "a = np.random.random_sample(4)\n",
    "print(a)"
   ],
   "id": "3937b40816b17e55",
   "outputs": [
    {
     "name": "stdout",
     "output_type": "stream",
     "text": [
      "[0. 0. 0. 0.]\n",
      "[0.33394942 0.85411834 0.30990816 0.15391684]\n"
     ]
    }
   ],
   "execution_count": 5
  },
  {
   "metadata": {
    "ExecuteTime": {
     "end_time": "2024-07-13T06:55:07.415275Z",
     "start_time": "2024-07-13T06:55:07.412165Z"
    }
   },
   "cell_type": "code",
   "source": [
    "print(a.shape)\n",
    "print(a.dtype)"
   ],
   "id": "be6898348a21edbe",
   "outputs": [
    {
     "name": "stdout",
     "output_type": "stream",
     "text": [
      "(4,)\n",
      "float64\n"
     ]
    }
   ],
   "execution_count": 10
  },
  {
   "metadata": {
    "ExecuteTime": {
     "end_time": "2024-07-13T06:57:15.326750Z",
     "start_time": "2024-07-13T06:57:15.323560Z"
    }
   },
   "cell_type": "code",
   "source": [
    "a = np.arange(4)\n",
    "print(a)\n",
    "print(a.dtype)"
   ],
   "id": "a76c5f2d0dfa86ce",
   "outputs": [
    {
     "name": "stdout",
     "output_type": "stream",
     "text": [
      "[0 1 2 3]\n",
      "int64\n"
     ]
    }
   ],
   "execution_count": 14
  },
  {
   "metadata": {
    "ExecuteTime": {
     "end_time": "2024-07-13T07:02:40.575636Z",
     "start_time": "2024-07-13T07:02:40.572374Z"
    }
   },
   "cell_type": "code",
   "source": [
    "a = np.array([5, 4, 3, 2, 1])\n",
    "print(a)"
   ],
   "id": "580071e2018d22a",
   "outputs": [
    {
     "name": "stdout",
     "output_type": "stream",
     "text": [
      "[5 4 3 2 1]\n"
     ]
    }
   ],
   "execution_count": 15
  },
  {
   "metadata": {},
   "cell_type": "code",
   "outputs": [],
   "execution_count": null,
   "source": "",
   "id": "88de7927a989a334"
  }
 ],
 "metadata": {
  "kernelspec": {
   "display_name": "Python 3",
   "language": "python",
   "name": "python3"
  },
  "language_info": {
   "codemirror_mode": {
    "name": "ipython",
    "version": 2
   },
   "file_extension": ".py",
   "mimetype": "text/x-python",
   "name": "python",
   "nbconvert_exporter": "python",
   "pygments_lexer": "ipython2",
   "version": "2.7.6"
  }
 },
 "nbformat": 4,
 "nbformat_minor": 5
}
