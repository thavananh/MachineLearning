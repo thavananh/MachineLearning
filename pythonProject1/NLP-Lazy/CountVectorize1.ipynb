{
 "cells": [
  {
   "cell_type": "code",
   "id": "initial_id",
   "metadata": {
    "collapsed": true,
    "ExecuteTime": {
     "end_time": "2024-09-03T09:35:21.406031Z",
     "start_time": "2024-09-03T09:35:21.398803Z"
    }
   },
   "source": [
    "import numpy as np\n",
    "import pandas as pd\n",
    "from fontTools.mtiLib import Tokenizer\n",
    "from sklearn.feature_extraction.text import CountVectorizer\n",
    "from sklearn.naive_bayes import MultinomialNB\n",
    "from sklearn.model_selection import train_test_split\n",
    "import nltk\n",
    "from nltk import word_tokenize\n",
    "from nltk.stem import WordNetLemmatizer, PorterStemmer\n",
    "from nltk.corpus import wordnet\n",
    "nltk.download('wordnet')\n",
    "nltk.download('punkt')\n",
    "nltk.download('averaged_perceptron_tagger_eng')\n",
    "nltk.download('stopwords')"
   ],
   "outputs": [
    {
     "name": "stderr",
     "output_type": "stream",
     "text": [
      "[nltk_data] Downloading package wordnet to /home/duy/nltk_data...\n",
      "[nltk_data]   Package wordnet is already up-to-date!\n",
      "[nltk_data] Downloading package punkt to /home/duy/nltk_data...\n",
      "[nltk_data]   Package punkt is already up-to-date!\n",
      "[nltk_data] Downloading package averaged_perceptron_tagger_eng to\n",
      "[nltk_data]     /home/duy/nltk_data...\n",
      "[nltk_data]   Package averaged_perceptron_tagger_eng is already up-to-\n",
      "[nltk_data]       date!\n",
      "[nltk_data] Downloading package stopwords to /home/duy/nltk_data...\n",
      "[nltk_data]   Package stopwords is already up-to-date!\n"
     ]
    },
    {
     "data": {
      "text/plain": [
       "True"
      ]
     },
     "execution_count": 93,
     "metadata": {},
     "output_type": "execute_result"
    }
   ],
   "execution_count": 93
  },
  {
   "cell_type": "code",
   "id": "a5c71f163cae4179",
   "metadata": {
    "ExecuteTime": {
     "end_time": "2024-09-03T09:35:21.456347Z",
     "start_time": "2024-09-03T09:35:21.453055Z"
    }
   },
   "source": [
    "import sys\n",
    "print(sys.version)"
   ],
   "outputs": [
    {
     "name": "stdout",
     "output_type": "stream",
     "text": [
      "3.11.9 (main, Apr 19 2024, 16:48:06) [GCC 11.2.0]\n"
     ]
    }
   ],
   "execution_count": 94
  },
  {
   "cell_type": "code",
   "id": "ea28b91c38aafcf2",
   "metadata": {
    "ExecuteTime": {
     "end_time": "2024-09-03T09:35:22.032439Z",
     "start_time": "2024-09-03T09:35:21.515099Z"
    }
   },
   "source": [
    "!wget -nc \"https://lazyprogrammer.me/course_files/nlp/bbc_text_cls.csv\""
   ],
   "outputs": [
    {
     "name": "stdout",
     "output_type": "stream",
     "text": [
      "File ‘bbc_text_cls.csv’ already there; not retrieving.\r\n",
      "\r\n"
     ]
    }
   ],
   "execution_count": 95
  },
  {
   "cell_type": "code",
   "id": "7fa967d8d4c54c6e",
   "metadata": {
    "ExecuteTime": {
     "end_time": "2024-09-03T09:35:22.111678Z",
     "start_time": "2024-09-03T09:35:22.049032Z"
    }
   },
   "source": [
    "df = pd.read_csv('bbc_text_cls.csv')"
   ],
   "outputs": [],
   "execution_count": 96
  },
  {
   "cell_type": "code",
   "id": "5e7dfa029befafea",
   "metadata": {
    "ExecuteTime": {
     "end_time": "2024-09-03T09:35:22.135458Z",
     "start_time": "2024-09-03T09:35:22.127732Z"
    }
   },
   "source": [
    "df.head()"
   ],
   "outputs": [
    {
     "data": {
      "text/plain": [
       "                                                text    labels\n",
       "0  Ad sales boost Time Warner profit\\n\\nQuarterly...  business\n",
       "1  Dollar gains on Greenspan speech\\n\\nThe dollar...  business\n",
       "2  Yukos unit buyer faces loan claim\\n\\nThe owner...  business\n",
       "3  High fuel prices hit BA's profits\\n\\nBritish A...  business\n",
       "4  Pernod takeover talk lifts Domecq\\n\\nShares in...  business"
      ],
      "text/html": [
       "<div>\n",
       "<style scoped>\n",
       "    .dataframe tbody tr th:only-of-type {\n",
       "        vertical-align: middle;\n",
       "    }\n",
       "\n",
       "    .dataframe tbody tr th {\n",
       "        vertical-align: top;\n",
       "    }\n",
       "\n",
       "    .dataframe thead th {\n",
       "        text-align: right;\n",
       "    }\n",
       "</style>\n",
       "<table border=\"1\" class=\"dataframe\">\n",
       "  <thead>\n",
       "    <tr style=\"text-align: right;\">\n",
       "      <th></th>\n",
       "      <th>text</th>\n",
       "      <th>labels</th>\n",
       "    </tr>\n",
       "  </thead>\n",
       "  <tbody>\n",
       "    <tr>\n",
       "      <th>0</th>\n",
       "      <td>Ad sales boost Time Warner profit\\n\\nQuarterly...</td>\n",
       "      <td>business</td>\n",
       "    </tr>\n",
       "    <tr>\n",
       "      <th>1</th>\n",
       "      <td>Dollar gains on Greenspan speech\\n\\nThe dollar...</td>\n",
       "      <td>business</td>\n",
       "    </tr>\n",
       "    <tr>\n",
       "      <th>2</th>\n",
       "      <td>Yukos unit buyer faces loan claim\\n\\nThe owner...</td>\n",
       "      <td>business</td>\n",
       "    </tr>\n",
       "    <tr>\n",
       "      <th>3</th>\n",
       "      <td>High fuel prices hit BA's profits\\n\\nBritish A...</td>\n",
       "      <td>business</td>\n",
       "    </tr>\n",
       "    <tr>\n",
       "      <th>4</th>\n",
       "      <td>Pernod takeover talk lifts Domecq\\n\\nShares in...</td>\n",
       "      <td>business</td>\n",
       "    </tr>\n",
       "  </tbody>\n",
       "</table>\n",
       "</div>"
      ]
     },
     "execution_count": 97,
     "metadata": {},
     "output_type": "execute_result"
    }
   ],
   "execution_count": 97
  },
  {
   "cell_type": "code",
   "id": "d5a7a1eedd62c62",
   "metadata": {
    "ExecuteTime": {
     "end_time": "2024-09-03T09:35:22.226605Z",
     "start_time": "2024-09-03T09:35:22.223668Z"
    }
   },
   "source": [
    "inputs = df['text']\n",
    "labels = df['labels']"
   ],
   "outputs": [],
   "execution_count": 98
  },
  {
   "cell_type": "code",
   "id": "e41f42d6a0f7bcdc",
   "metadata": {
    "ExecuteTime": {
     "end_time": "2024-09-03T09:35:22.449132Z",
     "start_time": "2024-09-03T09:35:22.272859Z"
    }
   },
   "source": "labels.hist(figsize=(10, 5))",
   "outputs": [
    {
     "data": {
      "text/plain": [
       "<Axes: >"
      ]
     },
     "execution_count": 99,
     "metadata": {},
     "output_type": "execute_result"
    },
    {
     "data": {
      "text/plain": [
       "<Figure size 1000x500 with 1 Axes>"
      ],
      "image/png": "[encoded data removed]"
     },
     "metadata": {},
     "output_type": "display_data"
    }
   ],
   "execution_count": 99
  },
  {
   "metadata": {
    "ExecuteTime": {
     "end_time": "2024-09-03T09:35:22.491554Z",
     "start_time": "2024-09-03T09:35:22.487478Z"
    }
   },
   "cell_type": "code",
   "source": "print(inputs)",
   "id": "4bf667b358ea8426",
   "outputs": [
    {
     "name": "stdout",
     "output_type": "stream",
     "text": [
      "0       Ad sales boost Time Warner profit\\n\\nQuarterly...\n",
      "1       Dollar gains on Greenspan speech\\n\\nThe dollar...\n",
      "2       Yukos unit buyer faces loan claim\\n\\nThe owner...\n",
      "3       High fuel prices hit BA's profits\\n\\nBritish A...\n",
      "4       Pernod takeover talk lifts Domecq\\n\\nShares in...\n",
      "                              ...                        \n",
      "2220    BT program to beat dialler scams\\n\\nBT is intr...\n",
      "2221    Spam e-mails tempt net shoppers\\n\\nComputer us...\n",
      "2222    Be careful how you code\\n\\nA new European dire...\n",
      "2223    US cyber security chief resigns\\n\\nThe man mak...\n",
      "2224    Losing yourself in online gaming\\n\\nOnline rol...\n",
      "Name: text, Length: 2225, dtype: object\n"
     ]
    }
   ],
   "execution_count": 100
  },
  {
   "cell_type": "code",
   "id": "2d630b0ba58a4934",
   "metadata": {
    "ExecuteTime": {
     "end_time": "2024-09-03T09:35:22.541935Z",
     "start_time": "2024-09-03T09:35:22.536792Z"
    }
   },
   "source": [
    "X_train, X_test, y_train, y_test = train_test_split(inputs, labels, random_state=123)"
   ],
   "outputs": [],
   "execution_count": 101
  },
  {
   "metadata": {
    "ExecuteTime": {
     "end_time": "2024-09-03T09:35:22.592504Z",
     "start_time": "2024-09-03T09:35:22.589642Z"
    }
   },
   "cell_type": "code",
   "source": " vectorizer = CountVectorizer()",
   "id": "aa4a6d1f838c8477",
   "outputs": [],
   "execution_count": 102
  },
  {
   "metadata": {
    "ExecuteTime": {
     "end_time": "2024-09-03T09:35:23.431063Z",
     "start_time": "2024-09-03T09:35:22.637358Z"
    }
   },
   "cell_type": "code",
   "source": [
    "X_train = vectorizer.fit_transform(X_train)\n",
    "X_test = vectorizer.transform(X_test)"
   ],
   "id": "6278a2396dadeceb",
   "outputs": [],
   "execution_count": 103
  },
  {
   "metadata": {
    "ExecuteTime": {
     "end_time": "2024-09-03T09:35:23.448109Z",
     "start_time": "2024-09-03T09:35:23.444302Z"
    }
   },
   "cell_type": "code",
   "source": "X_train",
   "id": "f05a59ea2d9d7d7f",
   "outputs": [
    {
     "data": {
      "text/plain": [
       "<1668x26287 sparse matrix of type '<class 'numpy.int64'>'\n",
       "\twith 337411 stored elements in Compressed Sparse Row format>"
      ]
     },
     "execution_count": 104,
     "metadata": {},
     "output_type": "execute_result"
    }
   ],
   "execution_count": 104
  },
  {
   "metadata": {
    "ExecuteTime": {
     "end_time": "2024-09-03T09:35:23.530914Z",
     "start_time": "2024-09-03T09:35:23.502639Z"
    }
   },
   "cell_type": "code",
   "source": "print(X_train != 0)",
   "id": "b928a05315039149",
   "outputs": [
    {
     "name": "stdout",
     "output_type": "stream",
     "text": [
      "  (0, 1)\tTrue\n",
      "  (0, 56)\tTrue\n",
      "  (0, 477)\tTrue\n",
      "  (0, 613)\tTrue\n",
      "  (0, 716)\tTrue\n",
      "  (0, 1336)\tTrue\n",
      "  (0, 1378)\tTrue\n",
      "  (0, 1388)\tTrue\n",
      "  (0, 1490)\tTrue\n",
      "  (0, 1492)\tTrue\n",
      "  (0, 1671)\tTrue\n",
      "  (0, 1709)\tTrue\n",
      "  (0, 1746)\tTrue\n",
      "  (0, 1765)\tTrue\n",
      "  (0, 1836)\tTrue\n",
      "  (0, 1899)\tTrue\n",
      "  (0, 1963)\tTrue\n",
      "  (0, 2059)\tTrue\n",
      "  (0, 2090)\tTrue\n",
      "  (0, 2121)\tTrue\n",
      "  (0, 2231)\tTrue\n",
      "  (0, 2303)\tTrue\n",
      "  (0, 2403)\tTrue\n",
      "  (0, 2627)\tTrue\n",
      "  (0, 2946)\tTrue\n",
      "  :\t:\n",
      "  (1667, 25683)\tTrue\n",
      "  (1667, 25690)\tTrue\n",
      "  (1667, 25693)\tTrue\n",
      "  (1667, 25711)\tTrue\n",
      "  (1667, 25728)\tTrue\n",
      "  (1667, 25731)\tTrue\n",
      "  (1667, 25738)\tTrue\n",
      "  (1667, 25776)\tTrue\n",
      "  (1667, 25804)\tTrue\n",
      "  (1667, 25838)\tTrue\n",
      "  (1667, 25858)\tTrue\n",
      "  (1667, 25860)\tTrue\n",
      "  (1667, 25870)\tTrue\n",
      "  (1667, 25924)\tTrue\n",
      "  (1667, 25925)\tTrue\n",
      "  (1667, 25960)\tTrue\n",
      "  (1667, 25984)\tTrue\n",
      "  (1667, 26008)\tTrue\n",
      "  (1667, 26009)\tTrue\n",
      "  (1667, 26049)\tTrue\n",
      "  (1667, 26139)\tTrue\n",
      "  (1667, 26143)\tTrue\n",
      "  (1667, 26180)\tTrue\n",
      "  (1667, 26186)\tTrue\n",
      "  (1667, 26193)\tTrue\n"
     ]
    }
   ],
   "execution_count": 105
  },
  {
   "metadata": {
    "ExecuteTime": {
     "end_time": "2024-09-03T09:35:23.566886Z",
     "start_time": "2024-09-03T09:35:23.561056Z"
    }
   },
   "cell_type": "code",
   "source": "(X_train != 0).sum()",
   "id": "3f2f0bd516521716",
   "outputs": [
    {
     "data": {
      "text/plain": [
       "337411"
      ]
     },
     "execution_count": 106,
     "metadata": {},
     "output_type": "execute_result"
    }
   ],
   "execution_count": 106
  },
  {
   "metadata": {
    "ExecuteTime": {
     "end_time": "2024-09-03T09:35:23.624117Z",
     "start_time": "2024-09-03T09:35:23.620861Z"
    }
   },
   "cell_type": "code",
   "source": "print(X_train.shape)",
   "id": "db5425dabb116451",
   "outputs": [
    {
     "name": "stdout",
     "output_type": "stream",
     "text": [
      "(1668, 26287)\n"
     ]
    }
   ],
   "execution_count": 107
  },
  {
   "metadata": {
    "ExecuteTime": {
     "end_time": "2024-09-03T09:35:23.686707Z",
     "start_time": "2024-09-03T09:35:23.680423Z"
    }
   },
   "cell_type": "code",
   "source": "(X_train != 0).sum() * 100 / np.prod(X_train.shape)",
   "id": "53fcd23286d58b76",
   "outputs": [
    {
     "data": {
      "text/plain": [
       "0.7695239935415004"
      ]
     },
     "execution_count": 108,
     "metadata": {},
     "output_type": "execute_result"
    }
   ],
   "execution_count": 108
  },
  {
   "metadata": {
    "ExecuteTime": {
     "end_time": "2024-09-03T09:35:23.765585Z",
     "start_time": "2024-09-03T09:35:23.741247Z"
    }
   },
   "cell_type": "code",
   "source": [
    "model = MultinomialNB()\n",
    "model.fit(X_train, y_train)\n",
    "print(\"train score: \", model.score(X_train, y_train))\n",
    "print(\"test score: \", model.score(X_test, y_test))"
   ],
   "id": "e7ff0561fad791f7",
   "outputs": [
    {
     "name": "stdout",
     "output_type": "stream",
     "text": [
      "train score:  0.9922062350119905\n",
      "test score:  0.9712746858168761\n"
     ]
    }
   ],
   "execution_count": 109
  },
  {
   "metadata": {
    "ExecuteTime": {
     "end_time": "2024-09-03T09:35:24.535674Z",
     "start_time": "2024-09-03T09:35:23.814340Z"
    }
   },
   "cell_type": "code",
   "source": [
    "X_train, X_test, y_train, y_test = train_test_split(inputs, labels, random_state=123)\n",
    "vectorizer = CountVectorizer(stop_words='english')\n",
    "X_train = vectorizer.fit_transform(X_train)\n",
    "X_test = vectorizer.transform(X_test)\n",
    "model = MultinomialNB()\n",
    "model.fit(X_train, y_train)\n",
    "print(\"train score: \", model.score(X_train, y_train))\n",
    "print(\"test score: \", model.score(X_test, y_test))"
   ],
   "id": "f1704c0833460633",
   "outputs": [
    {
     "name": "stdout",
     "output_type": "stream",
     "text": [
      "train score:  0.9928057553956835\n",
      "test score:  0.9766606822262118\n"
     ]
    }
   ],
   "execution_count": 110
  },
  {
   "metadata": {
    "ExecuteTime": {
     "end_time": "2024-09-03T09:35:24.556768Z",
     "start_time": "2024-09-03T09:35:24.553007Z"
    }
   },
   "cell_type": "code",
   "source": [
    "def get_wordnet_pos(treebank_tag):\n",
    "    if treebank_tag.startswith('J'):\n",
    "        return wordnet.ADJ\n",
    "    elif treebank_tag.startswith('V'):\n",
    "        return wordnet.VERB\n",
    "    elif treebank_tag.startswith('N'):\n",
    "        return wordnet.NOUN\n",
    "    elif treebank_tag.startswith('R'):\n",
    "        return wordnet.ADV\n",
    "    else:\n",
    "        return wordnet.NOUN"
   ],
   "id": "419d8f1f64fa6284",
   "outputs": [],
   "execution_count": 111
  },
  {
   "metadata": {
    "ExecuteTime": {
     "end_time": "2024-09-03T09:35:24.603572Z",
     "start_time": "2024-09-03T09:35:24.600984Z"
    }
   },
   "cell_type": "code",
   "source": "#After Lemmatization",
   "id": "a76855a0d32efe94",
   "outputs": [],
   "execution_count": 112
  },
  {
   "metadata": {
    "ExecuteTime": {
     "end_time": "2024-09-03T09:35:24.652831Z",
     "start_time": "2024-09-03T09:35:24.648891Z"
    }
   },
   "cell_type": "code",
   "source": [
    "class LemmaTokenizer:\n",
    "    def __init__(self):\n",
    "        self.wnl = WordNetLemmatizer()\n",
    "    def __call__(self, doc):\n",
    "        tokens = word_tokenize(doc)\n",
    "        words_tags = nltk.pos_tag(tokens)\n",
    "        return [self.wnl.lemmatize(word, pos=get_wordnet_pos(tag)) for word, tag in words_tags]"
   ],
   "id": "2fdf80c5410a71d3",
   "outputs": [],
   "execution_count": 113
  },
  {
   "metadata": {
    "ExecuteTime": {
     "end_time": "2024-09-03T09:35:24.703316Z",
     "start_time": "2024-09-03T09:35:24.700820Z"
    }
   },
   "cell_type": "code",
   "source": [
    "# i = 0\n",
    "# for sentence in inputs:\n",
    "#     rs = LemmaTokenizer()(sentence)\n",
    "#     inputs[i] = rs\n",
    "#     i+=1"
   ],
   "id": "f509fd92a0a5073f",
   "outputs": [],
   "execution_count": 114
  },
  {
   "metadata": {
    "ExecuteTime": {
     "end_time": "2024-09-03T09:37:30.068467Z",
     "start_time": "2024-09-03T09:35:24.752784Z"
    }
   },
   "cell_type": "code",
   "source": [
    "lemma = WordNetLemmatizer()\n",
    "i = 0\n",
    "inputs1 = inputs\n",
    "for sentence in inputs:\n",
    "    rs = \"\"\n",
    "    words_and_tags = nltk.pos_tag(sentence.split())\n",
    "    for word, tag in words_and_tags:\n",
    "        rs += lemma.lemmatize(word, get_wordnet_pos(tag)) + \" \"\n",
    "        inputs1[i] = rs\n",
    "    i+=1\n"
   ],
   "id": "5b0fecb1fe37baae",
   "outputs": [],
   "execution_count": 115
  },
  {
   "metadata": {
    "ExecuteTime": {
     "end_time": "2024-09-03T09:37:30.711650Z",
     "start_time": "2024-09-03T09:37:30.080705Z"
    }
   },
   "cell_type": "code",
   "source": [
    "X_train, X_test, y_train, y_test = train_test_split(inputs1, labels, random_state=123)\n",
    "vectorizer = CountVectorizer()\n",
    "X_train = vectorizer.fit_transform(X_train)\n",
    "X_test = vectorizer.transform(X_test)\n",
    "model = MultinomialNB()\n",
    "model.fit(X_train, y_train)\n",
    "print(\"train score: \", model.score(X_train, y_train))\n",
    "print(\"test score: \", model.score(X_test, y_test))"
   ],
   "id": "433bfc3fcef4f8ea",
   "outputs": [
    {
     "name": "stdout",
     "output_type": "stream",
     "text": [
      "train score:  0.9910071942446043\n",
      "test score:  0.9712746858168761\n"
     ]
    }
   ],
   "execution_count": 116
  },
  {
   "metadata": {
    "ExecuteTime": {
     "end_time": "2024-09-03T09:37:31.338533Z",
     "start_time": "2024-09-03T09:37:30.735225Z"
    }
   },
   "cell_type": "code",
   "source": [
    "X_train, X_test, y_train, y_test = train_test_split(inputs1, labels, random_state=123)\n",
    "vectorizer = CountVectorizer(stop_words='english')\n",
    "X_train = vectorizer.fit_transform(X_train)\n",
    "X_test = vectorizer.transform(X_test)\n",
    "model = MultinomialNB()\n",
    "model.fit(X_train, y_train)\n",
    "print(\"train score: \", model.score(X_train, y_train))\n",
    "print(\"test score: \", model.score(X_test, y_test))"
   ],
   "id": "56b028a52f9a7814",
   "outputs": [
    {
     "name": "stdout",
     "output_type": "stream",
     "text": [
      "train score:  0.9928057553956835\n",
      "test score:  0.9712746858168761\n"
     ]
    }
   ],
   "execution_count": 117
  },
  {
   "metadata": {
    "ExecuteTime": {
     "end_time": "2024-09-03T09:38:13.089141Z",
     "start_time": "2024-09-03T09:37:31.426449Z"
    }
   },
   "cell_type": "code",
   "source": [
    "X_train, X_test, y_train, y_test = train_test_split(inputs, labels, random_state=123)\n",
    "vectorizer = CountVectorizer(tokenizer=LemmaTokenizer())\n",
    "X_train = vectorizer.fit_transform(X_train)\n",
    "X_test = vectorizer.transform(X_test)\n",
    "model = MultinomialNB()\n",
    "model.fit(X_train, y_train)\n",
    "print(\"train score: \", model.score(X_train, y_train))\n",
    "print(\"test score: \", model.score(X_test, y_test))"
   ],
   "id": "78782c3d0adcce43",
   "outputs": [
    {
     "name": "stderr",
     "output_type": "stream",
     "text": [
      "/home/duy/anaconda3/envs/py311/lib/python3.11/site-packages/sklearn/feature_extraction/text.py:525: UserWarning: The parameter 'token_pattern' will not be used since 'tokenizer' is not None'\n",
      "  warnings.warn(\n"
     ]
    },
    {
     "name": "stdout",
     "output_type": "stream",
     "text": [
      "train score:  0.9922062350119905\n",
      "test score:  0.9676840215439856\n"
     ]
    }
   ],
   "execution_count": 118
  },
  {
   "metadata": {
    "ExecuteTime": {
     "end_time": "2024-09-03T09:38:54.347075Z",
     "start_time": "2024-09-03T09:38:13.103343Z"
    }
   },
   "cell_type": "code",
   "source": [
    "X_train, X_test, y_train, y_test = train_test_split(inputs, labels, random_state=123)\n",
    "vectorizer = CountVectorizer(tokenizer = LemmaTokenizer(), stop_words='english')\n",
    "X_train = vectorizer.fit_transform(X_train)\n",
    "X_test = vectorizer.transform(X_test)\n",
    "model = MultinomialNB()\n",
    "model.fit(X_train, y_train)\n",
    "print(\"train score: \", model.score(X_train, y_train))\n",
    "print(\"test score: \", model.score(X_test, y_test))"
   ],
   "id": "c35bedb996c78a6a",
   "outputs": [
    {
     "name": "stderr",
     "output_type": "stream",
     "text": [
      "/home/duy/anaconda3/envs/py311/lib/python3.11/site-packages/sklearn/feature_extraction/text.py:525: UserWarning: The parameter 'token_pattern' will not be used since 'tokenizer' is not None'\n",
      "  warnings.warn(\n",
      "/home/duy/anaconda3/envs/py311/lib/python3.11/site-packages/sklearn/feature_extraction/text.py:408: UserWarning: Your stop_words may be inconsistent with your preprocessing. Tokenizing the stop words generated tokens ['far', 'make', 'u'] not in stop_words.\n",
      "  warnings.warn(\n"
     ]
    },
    {
     "name": "stdout",
     "output_type": "stream",
     "text": [
      "train score:  0.9934052757793765\n",
      "test score:  0.9694793536804309\n"
     ]
    }
   ],
   "execution_count": 119
  },
  {
   "metadata": {
    "ExecuteTime": {
     "end_time": "2024-09-03T09:41:10.669563Z",
     "start_time": "2024-09-03T09:41:10.666303Z"
    }
   },
   "cell_type": "code",
   "source": [
    "def simple_tokenizer(s):\n",
    "    return s.split()"
   ],
   "id": "94496ab9b207c305",
   "outputs": [],
   "execution_count": 120
  },
  {
   "metadata": {
    "ExecuteTime": {
     "end_time": "2024-09-03T09:41:51.036595Z",
     "start_time": "2024-09-03T09:41:50.499117Z"
    }
   },
   "cell_type": "code",
   "source": [
    "X_train, X_test, y_train, y_test = train_test_split(inputs, labels, random_state=123)\n",
    "vectorizer = CountVectorizer(tokenizer=simple_tokenizer)\n",
    "X_train = vectorizer.fit_transform(X_train)\n",
    "X_test = vectorizer.transform(X_test)\n",
    "model = MultinomialNB()\n",
    "model.fit(X_train, y_train)\n",
    "print(\"train score: \", model.score(X_train, y_train))\n",
    "print(\"test score: \", model.score(X_test, y_test))"
   ],
   "id": "de9ab1214cba4281",
   "outputs": [
    {
     "name": "stderr",
     "output_type": "stream",
     "text": [
      "/home/duy/anaconda3/envs/py311/lib/python3.11/site-packages/sklearn/feature_extraction/text.py:525: UserWarning: The parameter 'token_pattern' will not be used since 'tokenizer' is not None'\n",
      "  warnings.warn(\n"
     ]
    },
    {
     "name": "stdout",
     "output_type": "stream",
     "text": [
      "train score:  0.9952038369304557\n",
      "test score:  0.9658886894075404\n"
     ]
    }
   ],
   "execution_count": 122
  },
  {
   "metadata": {},
   "cell_type": "code",
   "outputs": [],
   "execution_count": null,
   "source": "",
   "id": "b47de7271d2e1cad"
  }
 ],
 "metadata": {
  "kernelspec": {
   "display_name": "Python 3",
   "language": "python",
   "name": "python3"
  },
  "language_info": {
   "codemirror_mode": {
    "name": "ipython",
    "version": 3
   },
   "file_extension": ".py",
   "mimetype": "text/x-python",
   "name": "python",
   "nbconvert_exporter": "python",
   "pygments_lexer": "ipython3",
   "version": "3.11.9"
  }
 },
 "nbformat": 4,
 "nbformat_minor": 5
}
