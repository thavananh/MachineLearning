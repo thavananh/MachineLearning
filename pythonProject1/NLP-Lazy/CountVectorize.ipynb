{
 "cells": [
  {
   "cell_type": "code",
   "execution_count": 21,
   "id": "initial_id",
   "metadata": {
    "ExecuteTime": {
     "end_time": "2024-08-19T12:25:46.463414Z",
     "start_time": "2024-08-19T12:25:45.661163Z"
    },
    "collapsed": true
   },
   "outputs": [],
   "source": [
    "from sklearn.feature_extraction.text import CountVectorizer\n",
    "import pandas as pd\n"
   ]
  },
  {
   "cell_type": "code",
   "execution_count": 22,
   "id": "8e446ff4232ed5d3",
   "metadata": {
    "ExecuteTime": {
     "end_time": "2024-08-19T12:25:46.546324Z",
     "start_time": "2024-08-19T12:25:46.484952Z"
    }
   },
   "outputs": [],
   "source": [
    "text = [\"Xin chao cac ban minh la duy. Duy rat la cute\",\n",
    "        \"Hello cac ban, minh la Tam. Minh cung rat la cute\"]"
   ]
  },
  {
   "cell_type": "code",
   "execution_count": 23,
   "id": "85e2270cf9d7a1db",
   "metadata": {
    "ExecuteTime": {
     "end_time": "2024-08-19T12:25:47.406531Z",
     "start_time": "2024-08-19T12:25:46.630814Z"
    }
   },
   "outputs": [
    {
     "name": "stdout",
     "output_type": "stream",
     "text": [
      "['ban' 'cac' 'chao' 'cung' 'cute' 'duy' 'hello' 'la' 'minh' 'rat' 'tam'\n",
      " 'xin']\n"
     ]
    }
   ],
   "source": [
    "vectorizer = CountVectorizer()\n",
    "text_vector = vectorizer.fit_transform(text)\n",
    "print(vectorizer.get_feature_names_out())"
   ]
  },
  {
   "cell_type": "code",
   "execution_count": 24,
   "id": "337a89193b26db8",
   "metadata": {
    "ExecuteTime": {
     "end_time": "2024-08-19T12:25:47.928704Z",
     "start_time": "2024-08-19T12:25:47.498140Z"
    }
   },
   "outputs": [
    {
     "name": "stdout",
     "output_type": "stream",
     "text": [
      "[[1 1 1 0 1 2 0 2 1 1 0 1]\n",
      " [1 1 0 1 1 0 1 2 2 1 1 0]]\n"
     ]
    }
   ],
   "source": [
    "print(text_vector.toarray())"
   ]
  }
 ],
 "metadata": {
  "kernelspec": {
   "display_name": "Python 3",
   "language": "python",
   "name": "python3"
  },
  "language_info": {
   "codemirror_mode": {
    "name": "ipython",
    "version": 3
   },
   "file_extension": ".py",
   "mimetype": "text/x-python",
   "name": "python",
   "nbconvert_exporter": "python",
   "pygments_lexer": "ipython3",
   "version": "3.12.4"
  }
 },
 "nbformat": 4,
 "nbformat_minor": 5
}
