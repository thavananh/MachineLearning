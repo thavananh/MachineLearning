{
 "cells": [
  {
   "cell_type": "code",
   "metadata": {
    "ExecuteTime": {
     "end_time": "2024-09-02T06:36:13.059064Z",
     "start_time": "2024-09-02T06:36:11.760666Z"
    }
   },
   "source": [
    "from nltk.stem import WordNetLemmatizer\n",
    "import nltk\n",
    "nltk.download(\"wordnet\")\n",
    "from nltk.corpus import wordnet\n",
    "from nltk.stem import PorterStemmer\n",
    "print(nltk.__version__)"
   ],
   "outputs": [
    {
     "name": "stdout",
     "output_type": "stream",
     "text": [
      "3.9.1\n"
     ]
    },
    {
     "name": "stderr",
     "output_type": "stream",
     "text": [
      "[nltk_data] Downloading package wordnet to /home/duy/nltk_data...\n",
      "[nltk_data]   Package wordnet is already up-to-date!\n"
     ]
    }
   ],
   "execution_count": 2
  },
  {
   "cell_type": "code",
   "metadata": {
    "ExecuteTime": {
     "end_time": "2024-09-02T06:36:15.784542Z",
     "start_time": "2024-09-02T06:36:15.778521Z"
    }
   },
   "source": [
    "lemma = WordNetLemmatizer()\n",
    "porter = PorterStemmer()\n",
    "porter.stem(\"Walking\")"
   ],
   "outputs": [
    {
     "data": {
      "text/plain": [
       "'walk'"
      ]
     },
     "execution_count": 3,
     "metadata": {},
     "output_type": "execute_result"
    }
   ],
   "execution_count": 3
  },
  {
   "cell_type": "code",
   "metadata": {
    "ExecuteTime": {
     "end_time": "2024-09-02T06:36:15.847194Z",
     "start_time": "2024-09-02T06:36:15.843395Z"
    }
   },
   "source": [
    "lemma.lemmatize(\"walking\") # walking\n",
    "lemma.lemmatize(\"walking\", pos=wordnet.VERB) # walk"
   ],
   "outputs": [
    {
     "data": {
      "text/plain": [
       "'walk'"
      ]
     },
     "execution_count": 4,
     "metadata": {},
     "output_type": "execute_result"
    }
   ],
   "execution_count": 4
  },
  {
   "cell_type": "code",
   "metadata": {
    "ExecuteTime": {
     "end_time": "2024-09-02T06:36:15.904408Z",
     "start_time": "2024-09-02T06:36:15.900928Z"
    }
   },
   "source": [
    "porter.stem(\"Better\")"
   ],
   "outputs": [
    {
     "data": {
      "text/plain": [
       "'better'"
      ]
     },
     "execution_count": 5,
     "metadata": {},
     "output_type": "execute_result"
    }
   ],
   "execution_count": 5
  },
  {
   "cell_type": "code",
   "metadata": {
    "ExecuteTime": {
     "end_time": "2024-09-02T06:36:15.955827Z",
     "start_time": "2024-09-02T06:36:15.953141Z"
    }
   },
   "source": "# lemma.lemmatize(\"Better\", pos='a')",
   "outputs": [],
   "execution_count": 6
  },
  {
   "metadata": {
    "ExecuteTime": {
     "end_time": "2024-09-02T06:36:16.008659Z",
     "start_time": "2024-09-02T06:36:16.005065Z"
    }
   },
   "cell_type": "code",
   "source": "porter.stem(\"walks\")",
   "outputs": [
    {
     "data": {
      "text/plain": [
       "'walk'"
      ]
     },
     "execution_count": 7,
     "metadata": {},
     "output_type": "execute_result"
    }
   ],
   "execution_count": 7
  },
  {
   "metadata": {
    "ExecuteTime": {
     "end_time": "2024-09-02T06:36:16.064697Z",
     "start_time": "2024-09-02T06:36:16.061260Z"
    }
   },
   "cell_type": "code",
   "source": "porter.stem(\"walking\")",
   "outputs": [
    {
     "data": {
      "text/plain": [
       "'walk'"
      ]
     },
     "execution_count": 8,
     "metadata": {},
     "output_type": "execute_result"
    }
   ],
   "execution_count": 8
  },
  {
   "metadata": {
    "ExecuteTime": {
     "end_time": "2024-09-02T06:36:16.185026Z",
     "start_time": "2024-09-02T06:36:16.181546Z"
    }
   },
   "cell_type": "code",
   "source": "porter.stem(\"bosses\")",
   "outputs": [
    {
     "data": {
      "text/plain": [
       "'boss'"
      ]
     },
     "execution_count": 9,
     "metadata": {},
     "output_type": "execute_result"
    }
   ],
   "execution_count": 9
  },
  {
   "metadata": {
    "ExecuteTime": {
     "end_time": "2024-09-02T06:36:16.305527Z",
     "start_time": "2024-09-02T06:36:16.301999Z"
    }
   },
   "cell_type": "code",
   "source": "porter.stem(\"replacement\")",
   "outputs": [
    {
     "data": {
      "text/plain": [
       "'replac'"
      ]
     },
     "execution_count": 10,
     "metadata": {},
     "output_type": "execute_result"
    }
   ],
   "execution_count": 10
  },
  {
   "metadata": {
    "ExecuteTime": {
     "end_time": "2024-09-02T06:36:16.400481Z",
     "start_time": "2024-09-02T06:36:16.396864Z"
    }
   },
   "cell_type": "code",
   "source": "porter.stem(\"unnecessary\")",
   "outputs": [
    {
     "data": {
      "text/plain": [
       "'unnecessari'"
      ]
     },
     "execution_count": 11,
     "metadata": {},
     "output_type": "execute_result"
    }
   ],
   "execution_count": 11
  },
  {
   "metadata": {
    "ExecuteTime": {
     "end_time": "2024-09-02T06:36:33.122334Z",
     "start_time": "2024-09-02T06:36:33.118800Z"
    }
   },
   "cell_type": "code",
   "source": "porter.stem(\"berry\")",
   "outputs": [
    {
     "data": {
      "text/plain": [
       "'berri'"
      ]
     },
     "execution_count": 12,
     "metadata": {},
     "output_type": "execute_result"
    }
   ],
   "execution_count": 12
  },
  {
   "metadata": {
    "ExecuteTime": {
     "end_time": "2024-09-02T06:37:03.794558Z",
     "start_time": "2024-09-02T06:37:03.791159Z"
    }
   },
   "cell_type": "code",
   "source": "lemma.lemmatize(\"going\")",
   "outputs": [
    {
     "data": {
      "text/plain": [
       "'going'"
      ]
     },
     "execution_count": 13,
     "metadata": {},
     "output_type": "execute_result"
    }
   ],
   "execution_count": 13
  },
  {
   "metadata": {
    "ExecuteTime": {
     "end_time": "2024-09-02T06:37:13.197205Z",
     "start_time": "2024-09-02T06:37:13.193554Z"
    }
   },
   "cell_type": "code",
   "source": "lemma.lemmatize(\"going\", pos=wordnet.VERB)",
   "outputs": [
    {
     "data": {
      "text/plain": [
       "'go'"
      ]
     },
     "execution_count": 14,
     "metadata": {},
     "output_type": "execute_result"
    }
   ],
   "execution_count": 14
  },
  {
   "metadata": {
    "ExecuteTime": {
     "end_time": "2024-09-02T06:37:22.030412Z",
     "start_time": "2024-09-02T06:37:22.026724Z"
    }
   },
   "cell_type": "code",
   "source": "lemma.lemmatize(\"ran\", pos=wordnet.VERB)",
   "outputs": [
    {
     "data": {
      "text/plain": [
       "'run'"
      ]
     },
     "execution_count": 15,
     "metadata": {},
     "output_type": "execute_result"
    }
   ],
   "execution_count": 15
  },
  {
   "metadata": {
    "ExecuteTime": {
     "end_time": "2024-09-02T06:57:54.411156Z",
     "start_time": "2024-09-02T06:57:54.407522Z"
    }
   },
   "cell_type": "code",
   "source": "porter.stem(\"mice\")",
   "outputs": [
    {
     "data": {
      "text/plain": [
       "'mice'"
      ]
     },
     "execution_count": 16,
     "metadata": {},
     "output_type": "execute_result"
    }
   ],
   "execution_count": 16
  },
  {
   "metadata": {
    "ExecuteTime": {
     "end_time": "2024-09-02T06:58:07.847740Z",
     "start_time": "2024-09-02T06:58:07.844192Z"
    }
   },
   "cell_type": "code",
   "source": "lemma.lemmatize(\"mice\")",
   "outputs": [
    {
     "data": {
      "text/plain": [
       "'mouse'"
      ]
     },
     "execution_count": 17,
     "metadata": {},
     "output_type": "execute_result"
    }
   ],
   "execution_count": 17
  },
  {
   "metadata": {
    "ExecuteTime": {
     "end_time": "2024-09-02T06:58:33.131602Z",
     "start_time": "2024-09-02T06:58:33.127931Z"
    }
   },
   "cell_type": "code",
   "source": "porter.stem(\"was\")",
   "outputs": [
    {
     "data": {
      "text/plain": [
       "'wa'"
      ]
     },
     "execution_count": 19,
     "metadata": {},
     "output_type": "execute_result"
    }
   ],
   "execution_count": 19
  },
  {
   "metadata": {
    "ExecuteTime": {
     "end_time": "2024-09-02T06:58:44.950161Z",
     "start_time": "2024-09-02T06:58:44.945837Z"
    }
   },
   "cell_type": "code",
   "source": "lemma.lemmatize(\"was\", pos=wordnet.VERB)",
   "outputs": [
    {
     "data": {
      "text/plain": [
       "'be'"
      ]
     },
     "execution_count": 20,
     "metadata": {},
     "output_type": "execute_result"
    }
   ],
   "execution_count": 20
  },
  {
   "metadata": {
    "ExecuteTime": {
     "end_time": "2024-09-02T06:59:06.525679Z",
     "start_time": "2024-09-02T06:59:06.521509Z"
    }
   },
   "cell_type": "code",
   "source": "porter.stem(\"is\")",
   "outputs": [
    {
     "data": {
      "text/plain": [
       "'is'"
      ]
     },
     "execution_count": 21,
     "metadata": {},
     "output_type": "execute_result"
    }
   ],
   "execution_count": 21
  },
  {
   "metadata": {
    "ExecuteTime": {
     "end_time": "2024-09-02T06:59:12.868990Z",
     "start_time": "2024-09-02T06:59:12.865394Z"
    }
   },
   "cell_type": "code",
   "source": "lemma.lemmatize(\"is\", pos=wordnet.VERB)",
   "outputs": [
    {
     "data": {
      "text/plain": [
       "'be'"
      ]
     },
     "execution_count": 22,
     "metadata": {},
     "output_type": "execute_result"
    }
   ],
   "execution_count": 22
  },
  {
   "metadata": {
    "ExecuteTime": {
     "end_time": "2024-09-02T06:59:24.673602Z",
     "start_time": "2024-09-02T06:59:24.670006Z"
    }
   },
   "cell_type": "code",
   "source": "porter.stem(\"better\")",
   "outputs": [
    {
     "data": {
      "text/plain": [
       "'better'"
      ]
     },
     "execution_count": 23,
     "metadata": {},
     "output_type": "execute_result"
    }
   ],
   "execution_count": 23
  },
  {
   "metadata": {
    "ExecuteTime": {
     "end_time": "2024-09-02T06:59:51.024944Z",
     "start_time": "2024-09-02T06:59:51.019934Z"
    }
   },
   "cell_type": "code",
   "source": "lemma.lemmatize(\"better\", pos=wordnet.ADJ)",
   "outputs": [
    {
     "data": {
      "text/plain": [
       "'good'"
      ]
     },
     "execution_count": 25,
     "metadata": {},
     "output_type": "execute_result"
    }
   ],
   "execution_count": 25
  },
  {
   "metadata": {
    "ExecuteTime": {
     "end_time": "2024-09-02T07:02:05.726888Z",
     "start_time": "2024-09-02T07:02:05.722789Z"
    }
   },
   "cell_type": "code",
   "source": [
    "def get_wordnet_pos(treebank_tag):\n",
    "    if treebank_tag.startswith('J'):\n",
    "        return wordnet.ADJ\n",
    "    elif treebank_tag.startswith('V'):\n",
    "        return wordnet.VERB\n",
    "    elif treebank_tag.startswith('N'):\n",
    "        return wordnet.NOUN\n",
    "    elif treebank_tag.startswith('R'):\n",
    "        return wordnet.ADV\n",
    "    else:\n",
    "        return wordnet.NOUN"
   ],
   "outputs": [],
   "execution_count": 26
  },
  {
   "metadata": {
    "ExecuteTime": {
     "end_time": "2024-09-02T07:39:43.829988Z",
     "start_time": "2024-09-02T07:39:43.245339Z"
    }
   },
   "cell_type": "code",
   "source": "nltk.download('averaged_perceptron_tagger_eng')",
   "outputs": [
    {
     "name": "stderr",
     "output_type": "stream",
     "text": [
      "[nltk_data] Downloading package averaged_perceptron_tagger_eng to\n",
      "[nltk_data]     /home/duy/nltk_data...\n",
      "[nltk_data]   Unzipping taggers/averaged_perceptron_tagger_eng.zip.\n"
     ]
    },
    {
     "data": {
      "text/plain": [
       "True"
      ]
     },
     "execution_count": 31,
     "metadata": {},
     "output_type": "execute_result"
    }
   ],
   "execution_count": 31
  },
  {
   "metadata": {
    "ExecuteTime": {
     "end_time": "2024-09-02T07:39:44.730409Z",
     "start_time": "2024-09-02T07:39:44.727752Z"
    }
   },
   "cell_type": "code",
   "source": "sentence = \"Donald Trump has a devoted following\".split()",
   "outputs": [],
   "execution_count": 32
  },
  {
   "metadata": {
    "ExecuteTime": {
     "end_time": "2024-09-02T07:39:45.336414Z",
     "start_time": "2024-09-02T07:39:45.197153Z"
    }
   },
   "cell_type": "code",
   "source": "words_and_tags = nltk.pos_tag(sentence)",
   "outputs": [],
   "execution_count": 33
  },
  {
   "metadata": {
    "ExecuteTime": {
     "end_time": "2024-09-02T07:39:55.883404Z",
     "start_time": "2024-09-02T07:39:55.880449Z"
    }
   },
   "cell_type": "code",
   "source": "print(words_and_tags)",
   "outputs": [
    {
     "name": "stdout",
     "output_type": "stream",
     "text": [
      "[('Donald', 'NNP'), ('Trump', 'NNP'), ('has', 'VBZ'), ('a', 'DT'), ('devoted', 'VBN'), ('following', 'NN')]\n"
     ]
    }
   ],
   "execution_count": 35
  },
  {
   "metadata": {
    "ExecuteTime": {
     "end_time": "2024-09-02T07:43:08.606061Z",
     "start_time": "2024-09-02T07:43:08.602715Z"
    }
   },
   "cell_type": "code",
   "source": [
    "for word, tag in words_and_tags:\n",
    "    rs = lemma.lemmatize(word, get_wordnet_pos(tag))\n",
    "    print(rs, end = \" \")"
   ],
   "outputs": [
    {
     "name": "stdout",
     "output_type": "stream",
     "text": [
      "Donald Trump have a devote following "
     ]
    }
   ],
   "execution_count": 40
  },
  {
   "metadata": {
    "ExecuteTime": {
     "end_time": "2024-09-02T07:43:10.960763Z",
     "start_time": "2024-09-02T07:43:10.958143Z"
    }
   },
   "cell_type": "code",
   "source": "sentence = \"The cat was following the bird as it flew by\".split()",
   "outputs": [],
   "execution_count": 41
  },
  {
   "metadata": {
    "ExecuteTime": {
     "end_time": "2024-09-02T07:43:11.135607Z",
     "start_time": "2024-09-02T07:43:11.132010Z"
    }
   },
   "cell_type": "code",
   "source": [
    "words_and_tags = nltk.pos_tag(sentence)\n",
    "print(words_and_tags)"
   ],
   "outputs": [
    {
     "name": "stdout",
     "output_type": "stream",
     "text": [
      "[('The', 'DT'), ('cat', 'NN'), ('was', 'VBD'), ('following', 'VBG'), ('the', 'DT'), ('bird', 'NN'), ('as', 'IN'), ('it', 'PRP'), ('flew', 'VBD'), ('by', 'IN')]\n"
     ]
    }
   ],
   "execution_count": 42
  },
  {
   "metadata": {
    "ExecuteTime": {
     "end_time": "2024-09-02T07:43:11.408571Z",
     "start_time": "2024-09-02T07:43:11.405107Z"
    }
   },
   "cell_type": "code",
   "source": [
    "for word, tag in words_and_tags:\n",
    "    rs = lemma.lemmatize(word, get_wordnet_pos(tag))\n",
    "    print(rs, end = \" \")"
   ],
   "outputs": [
    {
     "name": "stdout",
     "output_type": "stream",
     "text": [
      "The cat be follow the bird a it fly by "
     ]
    }
   ],
   "execution_count": 43
  }
 ],
 "metadata": {
  "kernelspec": {
   "display_name": "base",
   "language": "python",
   "name": "python3"
  },
  "language_info": {
   "codemirror_mode": {
    "name": "ipython",
    "version": 3
   },
   "file_extension": ".py",
   "mimetype": "text/x-python",
   "name": "python",
   "nbconvert_exporter": "python",
   "pygments_lexer": "ipython3",
   "version": "3.12.4"
  }
 },
 "nbformat": 4,
 "nbformat_minor": 2
}
