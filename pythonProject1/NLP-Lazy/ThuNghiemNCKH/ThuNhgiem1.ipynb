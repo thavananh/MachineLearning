{
 "cells": [
  {
   "cell_type": "code",
   "id": "initial_id",
   "metadata": {
    "collapsed": true,
    "ExecuteTime": {
     "end_time": "2024-09-04T08:19:00.815221Z",
     "start_time": "2024-09-04T08:19:00.810428Z"
    }
   },
   "source": [
    "from pydoc_data.topics import topics\n",
    "\n",
    "import numpy as np\n",
    "import pandas as pd\n",
    "from fontTools.mtiLib import Tokenizer\n",
    "from sklearn.feature_extraction.text import CountVectorizer\n",
    "from sklearn.naive_bayes import MultinomialNB\n",
    "from sklearn.model_selection import train_test_split\n",
    "import nltk\n",
    "from nltk.corpus import wordnet\n",
    "from nltk import word_tokenize\n",
    "from nltk.stem import WordNetLemmatizer, PorterStemmer\n",
    "from nltk.corpus import wordnet\n",
    "nltk.download('wordnet')\n",
    "nltk.download('punkt')\n",
    "nltk.download('averaged_perceptron_tagger_eng')\n",
    "nltk.download('stopwords')\n",
    "import underthesea as sea"
   ],
   "outputs": [
    {
     "name": "stderr",
     "output_type": "stream",
     "text": [
      "[nltk_data] Downloading package wordnet to /home/duy/nltk_data...\n",
      "[nltk_data]   Package wordnet is already up-to-date!\n",
      "[nltk_data] Downloading package punkt to /home/duy/nltk_data...\n",
      "[nltk_data]   Package punkt is already up-to-date!\n",
      "[nltk_data] Downloading package averaged_perceptron_tagger_eng to\n",
      "[nltk_data]     /home/duy/nltk_data...\n",
      "[nltk_data]   Package averaged_perceptron_tagger_eng is already up-to-\n",
      "[nltk_data]       date!\n",
      "[nltk_data] Downloading package stopwords to /home/duy/nltk_data...\n",
      "[nltk_data]   Package stopwords is already up-to-date!\n"
     ]
    }
   ],
   "execution_count": 53
  },
  {
   "metadata": {
    "ExecuteTime": {
     "end_time": "2024-09-04T08:19:00.829746Z",
     "start_time": "2024-09-04T08:19:00.827561Z"
    }
   },
   "cell_type": "code",
   "source": [
    "# f = open(\"UIT-VSFC/train/sents.txt\")\n",
    "# inputs = f.read()\n",
    "# inputs = inputs.split('\\n')\n",
    "# print(inputs)"
   ],
   "id": "3073251f92daeb0f",
   "outputs": [],
   "execution_count": 54
  },
  {
   "metadata": {
    "ExecuteTime": {
     "end_time": "2024-09-04T08:19:00.880093Z",
     "start_time": "2024-09-04T08:19:00.877706Z"
    }
   },
   "cell_type": "code",
   "source": [
    "# f = open(\"UIT-VSFC/train/sentiments.txt\")\n",
    "# sentiments = f.read()\n",
    "# sentiments = sentiments.split('\\n')\n",
    "# print(sentiments)"
   ],
   "id": "5a359eb51b63fd1d",
   "outputs": [],
   "execution_count": 55
  },
  {
   "metadata": {
    "ExecuteTime": {
     "end_time": "2024-09-04T08:19:00.931620Z",
     "start_time": "2024-09-04T08:19:00.929332Z"
    }
   },
   "cell_type": "code",
   "source": [
    "# f = open(\"UIT-VSFC/train/topics.txt\")\n",
    "# topics = f.read()\n",
    "# topics = topics.split('\\n')\n",
    "# print(topics)"
   ],
   "id": "e25783564e7c851d",
   "outputs": [],
   "execution_count": 56
  },
  {
   "metadata": {
    "ExecuteTime": {
     "end_time": "2024-09-04T08:19:00.979778Z",
     "start_time": "2024-09-04T08:19:00.977394Z"
    }
   },
   "cell_type": "code",
   "source": [
    "# UIT_VSFC = {'sents': inputs, 'sentiments': sentiments, 'topics': topics}\n",
    "# UIT_VSFC = pd.DataFrame(UIT_VSFC)\n",
    "# print(UIT_VSFC)"
   ],
   "id": "6223313f21b30c3b",
   "outputs": [],
   "execution_count": 57
  },
  {
   "metadata": {
    "ExecuteTime": {
     "end_time": "2024-09-04T08:19:01.027747Z",
     "start_time": "2024-09-04T08:19:01.025414Z"
    }
   },
   "cell_type": "code",
   "source": "# UIT_VSFC.to_csv('UIT-VSFC_rain.csv', encoding='utf-8')",
   "id": "3720e27e79bf05c4",
   "outputs": [],
   "execution_count": 58
  },
  {
   "metadata": {
    "ExecuteTime": {
     "end_time": "2024-09-04T08:19:01.105382Z",
     "start_time": "2024-09-04T08:19:01.073648Z"
    }
   },
   "cell_type": "code",
   "source": [
    "df = pd.read_csv(\"UIT-VSFC_train.csv\")\n",
    "sentences = np.array(df['sents'])\n",
    "sentiments = np.array(df['sentiments'])\n",
    "topics = np.array(df['topics'])"
   ],
   "id": "dcb14715e1eb59e2",
   "outputs": [],
   "execution_count": 59
  },
  {
   "metadata": {
    "ExecuteTime": {
     "end_time": "2024-09-04T08:19:01.134916Z",
     "start_time": "2024-09-04T08:19:01.132071Z"
    }
   },
   "cell_type": "code",
   "source": "print(sentences)",
   "id": "415004058d77bee6",
   "outputs": [
    {
     "name": "stdout",
     "output_type": "stream",
     "text": [
      "['slide giáo trình đầy đủ .'\n",
      " 'nhiệt tình giảng dạy , gần gũi với sinh viên .'\n",
      " 'đi học đầy đủ full điểm chuyên cần .' ... 'giao bài tập quá nhiều .'\n",
      " 'giáo viên dạy dễ hiểu , nhiệt tình .'\n",
      " 'gói gọn doubledot hay , tận tình , phù hợp với mọi trình độ cũng như nhu cầu môn học .']\n"
     ]
    }
   ],
   "execution_count": 60
  },
  {
   "metadata": {
    "ExecuteTime": {
     "end_time": "2024-09-04T08:19:01.255189Z",
     "start_time": "2024-09-04T08:19:01.252100Z"
    }
   },
   "cell_type": "code",
   "source": "print(sentiments)",
   "id": "e522ee8b87d4b38e",
   "outputs": [
    {
     "name": "stdout",
     "output_type": "stream",
     "text": [
      "[2 2 0 ... 0 2 2]\n"
     ]
    }
   ],
   "execution_count": 61
  },
  {
   "metadata": {
    "ExecuteTime": {
     "end_time": "2024-09-04T08:19:01.374025Z",
     "start_time": "2024-09-04T08:19:01.370914Z"
    }
   },
   "cell_type": "code",
   "source": "print(topics)",
   "id": "14846d8e1e4c3469",
   "outputs": [
    {
     "name": "stdout",
     "output_type": "stream",
     "text": [
      "[1 0 1 ... 0 0 0]\n"
     ]
    }
   ],
   "execution_count": 62
  }
 ],
 "metadata": {
  "kernelspec": {
   "display_name": "Python 3",
   "language": "python",
   "name": "python3"
  },
  "language_info": {
   "codemirror_mode": {
    "name": "ipython",
    "version": 2
   },
   "file_extension": ".py",
   "mimetype": "text/x-python",
   "name": "python",
   "nbconvert_exporter": "python",
   "pygments_lexer": "ipython2",
   "version": "2.7.6"
  }
 },
 "nbformat": 4,
 "nbformat_minor": 5
}
