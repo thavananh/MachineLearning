{
 "cells": [
  {
   "cell_type": "code",
   "id": "initial_id",
   "metadata": {
    "collapsed": true,
    "ExecuteTime": {
     "end_time": "2024-09-04T08:33:23.487082Z",
     "start_time": "2024-09-04T08:33:23.481943Z"
    }
   },
   "source": [
    "from pydoc_data.topics import topics\n",
    "\n",
    "import numpy as np\n",
    "import pandas as pd\n",
    "from fontTools.mtiLib import Tokenizer\n",
    "from sklearn.feature_extraction.text import CountVectorizer\n",
    "from sklearn.naive_bayes import MultinomialNB\n",
    "from sklearn.model_selection import train_test_split\n",
    "import nltk\n",
    "from nltk.corpus import wordnet\n",
    "from nltk import word_tokenize\n",
    "from nltk.stem import WordNetLemmatizer, PorterStemmer\n",
    "from nltk.corpus import wordnet\n",
    "nltk.download('wordnet')\n",
    "nltk.download('punkt')\n",
    "nltk.download('averaged_perceptron_tagger_eng')\n",
    "nltk.download('stopwords')\n",
    "import underthesea as sea"
   ],
   "outputs": [
    {
     "name": "stderr",
     "output_type": "stream",
     "text": [
      "[nltk_data] Downloading package wordnet to /home/duy/nltk_data...\n",
      "[nltk_data]   Package wordnet is already up-to-date!\n",
      "[nltk_data] Downloading package punkt to /home/duy/nltk_data...\n",
      "[nltk_data]   Package punkt is already up-to-date!\n",
      "[nltk_data] Downloading package averaged_perceptron_tagger_eng to\n",
      "[nltk_data]     /home/duy/nltk_data...\n",
      "[nltk_data]   Package averaged_perceptron_tagger_eng is already up-to-\n",
      "[nltk_data]       date!\n",
      "[nltk_data] Downloading package stopwords to /home/duy/nltk_data...\n",
      "[nltk_data]   Package stopwords is already up-to-date!\n"
     ]
    }
   ],
   "execution_count": 76
  },
  {
   "metadata": {
    "ExecuteTime": {
     "end_time": "2024-09-04T08:33:23.500520Z",
     "start_time": "2024-09-04T08:33:23.498186Z"
    }
   },
   "cell_type": "code",
   "source": [
    "# f = open(\"UIT-VSFC/train/sents.txt\")\n",
    "# inputs = f.read()\n",
    "# inputs = inputs.split('\\n')\n",
    "# print(inputs)"
   ],
   "id": "3073251f92daeb0f",
   "outputs": [],
   "execution_count": 77
  },
  {
   "metadata": {
    "ExecuteTime": {
     "end_time": "2024-09-04T08:33:23.547287Z",
     "start_time": "2024-09-04T08:33:23.544839Z"
    }
   },
   "cell_type": "code",
   "source": [
    "# f = open(\"UIT-VSFC/train/sentiments.txt\")\n",
    "# sentiments = f.read()\n",
    "# sentiments = sentiments.split('\\n')\n",
    "# print(sentiments)"
   ],
   "id": "5a359eb51b63fd1d",
   "outputs": [],
   "execution_count": 78
  },
  {
   "metadata": {
    "ExecuteTime": {
     "end_time": "2024-09-04T08:33:23.594959Z",
     "start_time": "2024-09-04T08:33:23.592726Z"
    }
   },
   "cell_type": "code",
   "source": [
    "# f = open(\"UIT-VSFC/train/topics.txt\")\n",
    "# topics = f.read()\n",
    "# topics = topics.split('\\n')\n",
    "# print(topics)"
   ],
   "id": "e25783564e7c851d",
   "outputs": [],
   "execution_count": 79
  },
  {
   "metadata": {
    "ExecuteTime": {
     "end_time": "2024-09-04T08:33:23.643461Z",
     "start_time": "2024-09-04T08:33:23.641124Z"
    }
   },
   "cell_type": "code",
   "source": [
    "# UIT_VSFC = {'sents': inputs, 'sentiments': sentiments, 'topics': topics}\n",
    "# UIT_VSFC = pd.DataFrame(UIT_VSFC)\n",
    "# print(UIT_VSFC)"
   ],
   "id": "6223313f21b30c3b",
   "outputs": [],
   "execution_count": 80
  },
  {
   "metadata": {
    "ExecuteTime": {
     "end_time": "2024-09-04T08:33:23.691291Z",
     "start_time": "2024-09-04T08:33:23.688974Z"
    }
   },
   "cell_type": "code",
   "source": "# UIT_VSFC.to_csv('UIT-VSFC_rain.csv', encoding='utf-8')",
   "id": "3720e27e79bf05c4",
   "outputs": [],
   "execution_count": 81
  },
  {
   "metadata": {
    "ExecuteTime": {
     "end_time": "2024-09-04T08:33:23.766533Z",
     "start_time": "2024-09-04T08:33:23.737252Z"
    }
   },
   "cell_type": "code",
   "source": [
    "df = pd.read_csv(\"UIT-VSFC_train.csv\")\n",
    "sentences = df['sents']\n",
    "sentiments = df['sentiments']\n",
    "topics = df['topics']"
   ],
   "id": "dcb14715e1eb59e2",
   "outputs": [],
   "execution_count": 82
  },
  {
   "metadata": {
    "ExecuteTime": {
     "end_time": "2024-09-04T08:33:23.790631Z",
     "start_time": "2024-09-04T08:33:23.786759Z"
    }
   },
   "cell_type": "code",
   "source": "print(sentences)",
   "id": "415004058d77bee6",
   "outputs": [
    {
     "name": "stdout",
     "output_type": "stream",
     "text": [
      "0                                slide giáo trình đầy đủ .\n",
      "1           nhiệt tình giảng dạy , gần gũi với sinh viên .\n",
      "2                     đi học đầy đủ full điểm chuyên cần .\n",
      "3        chưa áp dụng công nghệ thông tin và các thiết ...\n",
      "4        thầy giảng bài hay , có nhiều bài tập ví dụ ng...\n",
      "                               ...                        \n",
      "11421    chỉ vì môn game mà em học hai lần mà không qua...\n",
      "11422                                 em cảm ơn cô nhiều .\n",
      "11423                             giao bài tập quá nhiều .\n",
      "11424                 giáo viên dạy dễ hiểu , nhiệt tình .\n",
      "11425    gói gọn doubledot hay , tận tình , phù hợp với...\n",
      "Name: sents, Length: 11426, dtype: object\n"
     ]
    }
   ],
   "execution_count": 83
  },
  {
   "metadata": {
    "ExecuteTime": {
     "end_time": "2024-09-04T08:33:23.907957Z",
     "start_time": "2024-09-04T08:33:23.904279Z"
    }
   },
   "cell_type": "code",
   "source": "print(sentiments)",
   "id": "e522ee8b87d4b38e",
   "outputs": [
    {
     "name": "stdout",
     "output_type": "stream",
     "text": [
      "0        2\n",
      "1        2\n",
      "2        0\n",
      "3        0\n",
      "4        2\n",
      "        ..\n",
      "11421    0\n",
      "11422    2\n",
      "11423    0\n",
      "11424    2\n",
      "11425    2\n",
      "Name: sentiments, Length: 11426, dtype: int64\n"
     ]
    }
   ],
   "execution_count": 84
  },
  {
   "metadata": {
    "ExecuteTime": {
     "end_time": "2024-09-04T08:33:24.021006Z",
     "start_time": "2024-09-04T08:33:24.017367Z"
    }
   },
   "cell_type": "code",
   "source": "print(topics)",
   "id": "14846d8e1e4c3469",
   "outputs": [
    {
     "name": "stdout",
     "output_type": "stream",
     "text": [
      "0        1\n",
      "1        0\n",
      "2        1\n",
      "3        0\n",
      "4        0\n",
      "        ..\n",
      "11421    1\n",
      "11422    0\n",
      "11423    0\n",
      "11424    0\n",
      "11425    0\n",
      "Name: topics, Length: 11426, dtype: int64\n"
     ]
    }
   ],
   "execution_count": 85
  },
  {
   "metadata": {
    "ExecuteTime": {
     "end_time": "2024-09-04T08:33:24.111241Z",
     "start_time": "2024-09-04T08:33:24.103467Z"
    }
   },
   "cell_type": "code",
   "source": "X_train, X_test, y_train_sentiments, y_test_sentiments = train_test_split(sentences, sentiments, test_size=0.2)",
   "id": "17762bc06ea62f45",
   "outputs": [],
   "execution_count": 86
  },
  {
   "metadata": {
    "ExecuteTime": {
     "end_time": "2024-09-04T08:33:24.161567Z",
     "start_time": "2024-09-04T08:33:24.156773Z"
    }
   },
   "cell_type": "code",
   "source": "X_train, X_test, y_train_topics, y_test_topics = train_test_split(sentences, topics, test_size=0.2)",
   "id": "1b14cb48e9c0de08",
   "outputs": [],
   "execution_count": 87
  },
  {
   "metadata": {
    "ExecuteTime": {
     "end_time": "2024-09-04T08:33:35.919413Z",
     "start_time": "2024-09-04T08:33:35.728921Z"
    }
   },
   "cell_type": "code",
   "source": "topics.hist(figsize=(10, 5))",
   "id": "e05cda6a219dd1a1",
   "outputs": [
    {
     "data": {
      "text/plain": [
       "<Axes: >"
      ]
     },
     "execution_count": 89,
     "metadata": {},
     "output_type": "execute_result"
    },
    {
     "data": {
      "text/plain": [
       "<Figure size 1000x500 with 1 Axes>"
      ],
      "image/png": "[encoded data removed]"
     },
     "metadata": {},
     "output_type": "display_data"
    }
   ],
   "execution_count": 89
  },
  {
   "metadata": {
    "ExecuteTime": {
     "end_time": "2024-09-04T08:34:33.550693Z",
     "start_time": "2024-09-04T08:34:33.367042Z"
    }
   },
   "cell_type": "code",
   "source": "sentiments.hist(figsize=(10, 5))",
   "id": "d983fa0c30b139ab",
   "outputs": [
    {
     "data": {
      "text/plain": [
       "<Axes: >"
      ]
     },
     "execution_count": 91,
     "metadata": {},
     "output_type": "execute_result"
    },
    {
     "data": {
      "text/plain": [
       "<Figure size 1000x500 with 1 Axes>"
      ],
      "image/png": "[encoded data removed]"
     },
     "metadata": {},
     "output_type": "display_data"
    }
   ],
   "execution_count": 91
  },
  {
   "metadata": {},
   "cell_type": "markdown",
   "source": "",
   "id": "3daafc3b5c296bd5"
  },
  {
   "metadata": {},
   "cell_type": "code",
   "outputs": [],
   "execution_count": null,
   "source": "vectorize = sea.word_tokenize()",
   "id": "2bc09ecf84ee6e20"
  }
 ],
 "metadata": {
  "kernelspec": {
   "display_name": "Python 3",
   "language": "python",
   "name": "python3"
  },
  "language_info": {
   "codemirror_mode": {
    "name": "ipython",
    "version": 2
   },
   "file_extension": ".py",
   "mimetype": "text/x-python",
   "name": "python",
   "nbconvert_exporter": "python",
   "pygments_lexer": "ipython2",
   "version": "2.7.6"
  }
 },
 "nbformat": 4,
 "nbformat_minor": 5
}
