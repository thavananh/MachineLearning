{
 "cells": [
  {
   "cell_type": "code",
   "id": "initial_id",
   "metadata": {
    "collapsed": true,
    "ExecuteTime": {
     "end_time": "2024-07-26T05:39:20.508538Z",
     "start_time": "2024-07-26T05:39:19.561079Z"
    }
   },
   "source": [
    "import numpy as np\n",
    "import pandas as pd\n",
    "import matplotlib.pyplot as plt"
   ],
   "outputs": [],
   "execution_count": 1
  },
  {
   "metadata": {
    "ExecuteTime": {
     "end_time": "2024-07-26T05:39:20.516926Z",
     "start_time": "2024-07-26T05:39:20.510140Z"
    }
   },
   "cell_type": "code",
   "source": [
    "data = pd.read_csv('Position_Salaries.csv')\n",
    "X = np.array(data.iloc[:, 1:2].values)\n",
    "y = np.array(data.iloc[:, -1].values)"
   ],
   "id": "b0ecf7c68ce83cd2",
   "outputs": [],
   "execution_count": 2
  },
  {
   "metadata": {
    "ExecuteTime": {
     "end_time": "2024-07-26T05:39:21.245324Z",
     "start_time": "2024-07-26T05:39:20.517953Z"
    }
   },
   "cell_type": "code",
   "source": [
    "from sklearn.impute import SimpleImputer\n",
    "imputer = SimpleImputer(missing_values=np.nan, strategy='mean')\n",
    "X = imputer.fit_transform(X)"
   ],
   "id": "519ead762ef41017",
   "outputs": [],
   "execution_count": 3
  },
  {
   "metadata": {
    "ExecuteTime": {
     "end_time": "2024-07-26T05:39:21.249847Z",
     "start_time": "2024-07-26T05:39:21.246556Z"
    }
   },
   "cell_type": "code",
   "source": "print(X)",
   "id": "b6d1fffcf8b2483a",
   "outputs": [
    {
     "name": "stdout",
     "output_type": "stream",
     "text": [
      "[[ 1.]\n",
      " [ 2.]\n",
      " [ 3.]\n",
      " [ 4.]\n",
      " [ 5.]\n",
      " [ 6.]\n",
      " [ 7.]\n",
      " [ 8.]\n",
      " [ 9.]\n",
      " [10.]]\n"
     ]
    }
   ],
   "execution_count": 4
  }
 ],
 "metadata": {
  "kernelspec": {
   "display_name": "Python 3",
   "language": "python",
   "name": "python3"
  },
  "language_info": {
   "codemirror_mode": {
    "name": "ipython",
    "version": 2
   },
   "file_extension": ".py",
   "mimetype": "text/x-python",
   "name": "python",
   "nbconvert_exporter": "python",
   "pygments_lexer": "ipython2",
   "version": "2.7.6"
  }
 },
 "nbformat": 4,
 "nbformat_minor": 5
}
